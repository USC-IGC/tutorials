{
 "cells": [
  {
   "cell_type": "markdown",
   "metadata": {
    "nbpresent": {
     "id": "cc0e8752-ef77-4c2a-a85f-06cad83c75f8"
    },
    "slideshow": {
     "slide_type": "slide"
    }
   },
   "source": [
    "# IGC Sklearn tutorial\n",
    "### Dmitry Petrov\n",
    "\n",
    "#### May 30\n"
   ]
  },
  {
   "cell_type": "markdown",
   "metadata": {
    "nbpresent": {
     "id": "487dcd59-a299-45a1-b5f1-faa979bed68e"
    },
    "slideshow": {
     "slide_type": "slide"
    }
   },
   "source": [
    "### Main goal of this tutorial is to share my experience of using particular python libraries for machine learning/data analysis and provide brief intro into them"
   ]
  },
  {
   "cell_type": "markdown",
   "metadata": {
    "nbpresent": {
     "id": "6183dbc8-92e8-4d5a-8265-13355de44a31"
    }
   },
   "source": [
    "# Part 1. Overview"
   ]
  },
  {
   "cell_type": "markdown",
   "metadata": {
    "nbpresent": {
     "id": "b20cc52d-7610-4d63-8621-b097e8f138cb"
    }
   },
   "source": [
    "<a id='sklearn1'></a>\n",
    "\n",
    "## 1. Sklearn: main features\n",
    "\n",
    "\n",
    "#### Swiss army knife for machine learning, second best library for machine learning (except neural nets)\n",
    "\n",
    "\n",
    "+ great architecture, interface and documentation\n",
    "+ wide variety of tools for predictive modelling, dimensionality reduction, validation and preprocessing\n",
    "+ compatible with pandas \n",
    "+ supports sparse matrices for the most of methods\n",
    "+ reproducible\n",
    "+ parallelization in terms of multi-threading\n",
    "+ implementations of some models are slow or memory inefficient\n",
    "+ there is no parallelization for grid computing (not that I know of)"
   ]
  },
  {
   "cell_type": "markdown",
   "metadata": {
    "nbpresent": {
     "id": "47646988-450e-4240-8861-4ff01eab7647"
    }
   },
   "source": [
    "<a id='sklearn2'></a>\n",
    "\n",
    "## 2. Main modules\n",
    "\n",
    "+ **cluster.** Clustering methods (k-means, spectral clustering, DBSCAN)\n",
    "+ **model_selection.** Validation tools\n",
    "+ **decomposition.** Matrix decomposotion tools like SVD or PCA\n",
    "+ **ensemble.** Ensemble methods like Random Forest, bagging classifiers or Adaboost\n",
    "+ **feature_selection.** Feature selection tools like univariate test or recursive feature elimination\n",
    "+ **linear_model.** Linear models and tools\n",
    "+ **manifold.** Non-linear dimensionality reduction methods\n",
    "+ **metrics.** Metrics for validationg and analysing models\n",
    "+ **neighbors.** Nearest neighbors models and tools\n",
    "+ **pipeline.** Tool for chaining data analysis steps\n",
    "+ **svm.** Support Vector Machines methods\n",
    "+ **preprocessing.** Data preprocessing tools\n",
    "\n"
   ]
  },
  {
   "cell_type": "markdown",
   "metadata": {},
   "source": [
    "\n",
    "## 3. Base objects of sklearn\n",
    "\n",
    "Main reason of sklearn's success (IMO) -- it provides simple, logical and unified architecture for doing ML.\n",
    "\n",
    "+ **Estimators.** Predictive (classifiers and regressors) and clustering models.\n",
    "\n",
    "+ **Transformers.** Data processing tools (scaling, PCA, etc.)\n",
    "\n",
    "+ **Pipelines**. Tools that allow you to combine transformers and estimators"
   ]
  },
  {
   "cell_type": "markdown",
   "metadata": {},
   "source": [
    "## 4. Estimators: basic usage and methods\n",
    "\n",
    "+ **Examples:** linear/logistic regression, k-means clustering, random forest, etc\n",
    "\n",
    "+ **.__init__** initialize estimator\n",
    "\n",
    "+ **.fit(data, target)** fit model to data\n",
    "\n",
    "+ **.predict/predict_proba/predict_log_proba(data)** make predictions using fitted model\n",
    "\n",
    "+ **.set_params(params)**. set hyper-parameters of the estimator"
   ]
  },
  {
   "cell_type": "raw",
   "metadata": {},
   "source": [
    "from sklearn.module import ParticularEstimator\n",
    "\n",
    "estimator = ParticularEstimator(param1=1, param2='value')\n",
    "estimator.fit(train_data, target)\n",
    "preds = estimator.predict(test_data)"
   ]
  },
  {
   "cell_type": "markdown",
   "metadata": {},
   "source": [
    "## 5. Transformers: basic usage and methods\n",
    "\n",
    "+ **Examples:** standard scaling, label encoding, one-hot encoding\n",
    "\n",
    "+ **.__init__** initialize transformer\n",
    "\n",
    "+ **.fit(data, target=None)** fit model to data\n",
    "\n",
    "+ **.transform(data)** transform data using fitted models\n",
    "\n",
    "+ **.fit_transform(data)** fit and transform data (useful for pipilenes)\n"
   ]
  },
  {
   "cell_type": "raw",
   "metadata": {},
   "source": [
    "from sklearn.module import ParticularTransformer\n",
    "\n",
    "transformer = ParticularTransformer(param1=1, param2='value')\n",
    "transformer.fit(train_data)\n",
    "transformed_train_data = estimator.transform(train_data)"
   ]
  },
  {
   "cell_type": "markdown",
   "metadata": {
    "collapsed": true,
    "nbpresent": {
     "id": "d4480c2c-b796-47de-8093-c8596c5a9a4d"
    }
   },
   "source": [
    "<a id='pandas'></a>\n",
    "\n",
    "## 2. Basic usage\n",
    "\n",
    "\n",
    "\n"
   ]
  },
  {
   "cell_type": "code",
   "execution_count": 1,
   "metadata": {
    "nbpresent": {
     "id": "24815ff4-8bf4-4b36-9126-a648a7df7800"
    }
   },
   "outputs": [],
   "source": [
    "import pandas as pd\n",
    "import matplotlib.pyplot as plt\n",
    "import numpy as np\n",
    "import seaborn as sns\n",
    "from sklearn.datasets import load_digits, load_boston\n",
    "import warnings\n",
    "%matplotlib inline\n",
    "\n",
    "sns.set_style('whitegrid')\n",
    "warnings.filterwarnings('ignore')"
   ]
  },
  {
   "cell_type": "markdown",
   "metadata": {
    "nbpresent": {
     "id": "1a7e46c7-26f9-4f5d-b4bd-136a57b12b95"
    }
   },
   "source": [
    "### Example 1: houses data"
   ]
  },
  {
   "cell_type": "markdown",
   "metadata": {},
   "source": [
    "We will use data from here https://www.kaggle.com/c/house-prices-advanced-regression-techniques/data\n",
    "Full data description: https://ww2.amstat.org/publications/jse/v19n3/decock/DataDocumentation.txt\n",
    "\n",
    "It is data set describing the sale of individual residential property in Ames, Iowa\n",
    "from 2006 to 2010."
   ]
  },
  {
   "cell_type": "markdown",
   "metadata": {},
   "source": [
    "### Getting sense of the data"
   ]
  },
  {
   "cell_type": "code",
   "execution_count": 25,
   "metadata": {
    "nbpresent": {
     "id": "1fd1a6f0-30dd-4218-89f0-25d7044711ec"
    }
   },
   "outputs": [
    {
     "data": {
      "text/plain": [
       "(1460, 80)"
      ]
     },
     "execution_count": 25,
     "metadata": {},
     "output_type": "execute_result"
    }
   ],
   "source": [
    "data = pd.read_csv('data/houses_train.csv', index_col = 0)\n",
    "data.shape"
   ]
  },
  {
   "cell_type": "code",
   "execution_count": 26,
   "metadata": {},
   "outputs": [
    {
     "data": {
      "text/html": [
       "<div>\n",
       "<style scoped>\n",
       "    .dataframe tbody tr th:only-of-type {\n",
       "        vertical-align: middle;\n",
       "    }\n",
       "\n",
       "    .dataframe tbody tr th {\n",
       "        vertical-align: top;\n",
       "    }\n",
       "\n",
       "    .dataframe thead th {\n",
       "        text-align: right;\n",
       "    }\n",
       "</style>\n",
       "<table border=\"1\" class=\"dataframe\">\n",
       "  <thead>\n",
       "    <tr style=\"text-align: right;\">\n",
       "      <th></th>\n",
       "      <th>MSSubClass</th>\n",
       "      <th>MSZoning</th>\n",
       "      <th>LotFrontage</th>\n",
       "      <th>LotArea</th>\n",
       "      <th>Street</th>\n",
       "      <th>Alley</th>\n",
       "      <th>LotShape</th>\n",
       "      <th>LandContour</th>\n",
       "      <th>Utilities</th>\n",
       "      <th>LotConfig</th>\n",
       "      <th>...</th>\n",
       "      <th>PoolArea</th>\n",
       "      <th>PoolQC</th>\n",
       "      <th>Fence</th>\n",
       "      <th>MiscFeature</th>\n",
       "      <th>MiscVal</th>\n",
       "      <th>MoSold</th>\n",
       "      <th>YrSold</th>\n",
       "      <th>SaleType</th>\n",
       "      <th>SaleCondition</th>\n",
       "      <th>SalePrice</th>\n",
       "    </tr>\n",
       "    <tr>\n",
       "      <th>Id</th>\n",
       "      <th></th>\n",
       "      <th></th>\n",
       "      <th></th>\n",
       "      <th></th>\n",
       "      <th></th>\n",
       "      <th></th>\n",
       "      <th></th>\n",
       "      <th></th>\n",
       "      <th></th>\n",
       "      <th></th>\n",
       "      <th></th>\n",
       "      <th></th>\n",
       "      <th></th>\n",
       "      <th></th>\n",
       "      <th></th>\n",
       "      <th></th>\n",
       "      <th></th>\n",
       "      <th></th>\n",
       "      <th></th>\n",
       "      <th></th>\n",
       "      <th></th>\n",
       "    </tr>\n",
       "  </thead>\n",
       "  <tbody>\n",
       "    <tr>\n",
       "      <th>1</th>\n",
       "      <td>60</td>\n",
       "      <td>RL</td>\n",
       "      <td>65.0</td>\n",
       "      <td>8450</td>\n",
       "      <td>Pave</td>\n",
       "      <td>NaN</td>\n",
       "      <td>Reg</td>\n",
       "      <td>Lvl</td>\n",
       "      <td>AllPub</td>\n",
       "      <td>Inside</td>\n",
       "      <td>...</td>\n",
       "      <td>0</td>\n",
       "      <td>NaN</td>\n",
       "      <td>NaN</td>\n",
       "      <td>NaN</td>\n",
       "      <td>0</td>\n",
       "      <td>2</td>\n",
       "      <td>2008</td>\n",
       "      <td>WD</td>\n",
       "      <td>Normal</td>\n",
       "      <td>208500</td>\n",
       "    </tr>\n",
       "    <tr>\n",
       "      <th>2</th>\n",
       "      <td>20</td>\n",
       "      <td>RL</td>\n",
       "      <td>80.0</td>\n",
       "      <td>9600</td>\n",
       "      <td>Pave</td>\n",
       "      <td>NaN</td>\n",
       "      <td>Reg</td>\n",
       "      <td>Lvl</td>\n",
       "      <td>AllPub</td>\n",
       "      <td>FR2</td>\n",
       "      <td>...</td>\n",
       "      <td>0</td>\n",
       "      <td>NaN</td>\n",
       "      <td>NaN</td>\n",
       "      <td>NaN</td>\n",
       "      <td>0</td>\n",
       "      <td>5</td>\n",
       "      <td>2007</td>\n",
       "      <td>WD</td>\n",
       "      <td>Normal</td>\n",
       "      <td>181500</td>\n",
       "    </tr>\n",
       "    <tr>\n",
       "      <th>3</th>\n",
       "      <td>60</td>\n",
       "      <td>RL</td>\n",
       "      <td>68.0</td>\n",
       "      <td>11250</td>\n",
       "      <td>Pave</td>\n",
       "      <td>NaN</td>\n",
       "      <td>IR1</td>\n",
       "      <td>Lvl</td>\n",
       "      <td>AllPub</td>\n",
       "      <td>Inside</td>\n",
       "      <td>...</td>\n",
       "      <td>0</td>\n",
       "      <td>NaN</td>\n",
       "      <td>NaN</td>\n",
       "      <td>NaN</td>\n",
       "      <td>0</td>\n",
       "      <td>9</td>\n",
       "      <td>2008</td>\n",
       "      <td>WD</td>\n",
       "      <td>Normal</td>\n",
       "      <td>223500</td>\n",
       "    </tr>\n",
       "    <tr>\n",
       "      <th>4</th>\n",
       "      <td>70</td>\n",
       "      <td>RL</td>\n",
       "      <td>60.0</td>\n",
       "      <td>9550</td>\n",
       "      <td>Pave</td>\n",
       "      <td>NaN</td>\n",
       "      <td>IR1</td>\n",
       "      <td>Lvl</td>\n",
       "      <td>AllPub</td>\n",
       "      <td>Corner</td>\n",
       "      <td>...</td>\n",
       "      <td>0</td>\n",
       "      <td>NaN</td>\n",
       "      <td>NaN</td>\n",
       "      <td>NaN</td>\n",
       "      <td>0</td>\n",
       "      <td>2</td>\n",
       "      <td>2006</td>\n",
       "      <td>WD</td>\n",
       "      <td>Abnorml</td>\n",
       "      <td>140000</td>\n",
       "    </tr>\n",
       "    <tr>\n",
       "      <th>5</th>\n",
       "      <td>60</td>\n",
       "      <td>RL</td>\n",
       "      <td>84.0</td>\n",
       "      <td>14260</td>\n",
       "      <td>Pave</td>\n",
       "      <td>NaN</td>\n",
       "      <td>IR1</td>\n",
       "      <td>Lvl</td>\n",
       "      <td>AllPub</td>\n",
       "      <td>FR2</td>\n",
       "      <td>...</td>\n",
       "      <td>0</td>\n",
       "      <td>NaN</td>\n",
       "      <td>NaN</td>\n",
       "      <td>NaN</td>\n",
       "      <td>0</td>\n",
       "      <td>12</td>\n",
       "      <td>2008</td>\n",
       "      <td>WD</td>\n",
       "      <td>Normal</td>\n",
       "      <td>250000</td>\n",
       "    </tr>\n",
       "  </tbody>\n",
       "</table>\n",
       "<p>5 rows × 80 columns</p>\n",
       "</div>"
      ],
      "text/plain": [
       "    MSSubClass MSZoning  LotFrontage  LotArea Street Alley LotShape  \\\n",
       "Id                                                                    \n",
       "1           60       RL         65.0     8450   Pave   NaN      Reg   \n",
       "2           20       RL         80.0     9600   Pave   NaN      Reg   \n",
       "3           60       RL         68.0    11250   Pave   NaN      IR1   \n",
       "4           70       RL         60.0     9550   Pave   NaN      IR1   \n",
       "5           60       RL         84.0    14260   Pave   NaN      IR1   \n",
       "\n",
       "   LandContour Utilities LotConfig    ...     PoolArea PoolQC Fence  \\\n",
       "Id                                    ...                             \n",
       "1          Lvl    AllPub    Inside    ...            0    NaN   NaN   \n",
       "2          Lvl    AllPub       FR2    ...            0    NaN   NaN   \n",
       "3          Lvl    AllPub    Inside    ...            0    NaN   NaN   \n",
       "4          Lvl    AllPub    Corner    ...            0    NaN   NaN   \n",
       "5          Lvl    AllPub       FR2    ...            0    NaN   NaN   \n",
       "\n",
       "   MiscFeature MiscVal MoSold  YrSold  SaleType  SaleCondition  SalePrice  \n",
       "Id                                                                         \n",
       "1          NaN       0      2    2008        WD         Normal     208500  \n",
       "2          NaN       0      5    2007        WD         Normal     181500  \n",
       "3          NaN       0      9    2008        WD         Normal     223500  \n",
       "4          NaN       0      2    2006        WD        Abnorml     140000  \n",
       "5          NaN       0     12    2008        WD         Normal     250000  \n",
       "\n",
       "[5 rows x 80 columns]"
      ]
     },
     "execution_count": 26,
     "metadata": {},
     "output_type": "execute_result"
    }
   ],
   "source": [
    "data.head()"
   ]
  },
  {
   "cell_type": "code",
   "execution_count": 27,
   "metadata": {},
   "outputs": [
    {
     "data": {
      "image/png": "[encoded data removed]",
      "text/plain": [
       "<Figure size 360x360 with 1 Axes>"
      ]
     },
     "metadata": {},
     "output_type": "display_data"
    }
   ],
   "source": [
    "plt.figure(figsize=(5,5))\n",
    "plt.hist(data.SalePrice, bins=20, alpha=0.8)\n",
    "pass"
   ]
  },
  {
   "cell_type": "code",
   "execution_count": 28,
   "metadata": {},
   "outputs": [
    {
     "data": {
      "text/plain": [
       "Text(0,0.5,'Sale Price, $')"
      ]
     },
     "execution_count": 28,
     "metadata": {},
     "output_type": "execute_result"
    },
    {
     "data": {
      "image/png": "[encoded data removed]",
      "text/plain": [
       "<Figure size 360x360 with 1 Axes>"
      ]
     },
     "metadata": {},
     "output_type": "display_data"
    }
   ],
   "source": [
    "plt.figure(figsize=(5,5))\n",
    "plt.title('Sale price vs. living area', fontsize=30)\n",
    "plt.scatter(data.GrLivArea, data.SalePrice)\n",
    "plt.xlabel('Living Area, $ft^2$', fontsize=20)\n",
    "plt.ylabel('Sale Price, $', fontsize=20)"
   ]
  },
  {
   "cell_type": "code",
   "execution_count": 29,
   "metadata": {},
   "outputs": [
    {
     "data": {
      "text/plain": [
       "<matplotlib.axes._subplots.AxesSubplot at 0x7f3e46a7a198>"
      ]
     },
     "execution_count": 29,
     "metadata": {},
     "output_type": "execute_result"
    },
    {
     "data": {
      "image/png": "[encoded data removed]",
      "text/plain": [
       "<Figure size 360x360 with 1 Axes>"
      ]
     },
     "metadata": {},
     "output_type": "display_data"
    }
   ],
   "source": [
    "plt.figure(figsize=(5,5))\n",
    "plt.title('Sale price depending on air conditioning')\n",
    "sns.set_context(\"paper\", rc={\"font.size\":20,\"axes.titlesize\":20,\"axes.labelsize\":20,\n",
    "                            'xtick.labelsize': 15, 'ytick.labelsize': 15})   \n",
    "sns.boxplot('CentralAir', 'SalePrice', data=data)\n"
   ]
  },
  {
   "cell_type": "code",
   "execution_count": 30,
   "metadata": {},
   "outputs": [
    {
     "data": {
      "text/plain": [
       "<matplotlib.axes._subplots.AxesSubplot at 0x7f3e4a6a3898>"
      ]
     },
     "execution_count": 30,
     "metadata": {},
     "output_type": "execute_result"
    },
    {
     "data": {
      "image/png": "[encoded data removed]",
      "text/plain": [
       "<Figure size 720x360 with 1 Axes>"
      ]
     },
     "metadata": {},
     "output_type": "display_data"
    }
   ],
   "source": [
    "plt.figure(figsize=(10,5))\n",
    "plt.title('Sale price depending on overall condition')\n",
    "sns.boxplot('OverallCond', 'SalePrice', data=data)\n"
   ]
  },
  {
   "cell_type": "code",
   "execution_count": 31,
   "metadata": {},
   "outputs": [
    {
     "data": {
      "text/plain": [
       "<matplotlib.axes._subplots.AxesSubplot at 0x7f3e466360b8>"
      ]
     },
     "execution_count": 31,
     "metadata": {},
     "output_type": "execute_result"
    },
    {
     "data": {
      "image/png": "[encoded data removed]",
      "text/plain": [
       "<Figure size 720x360 with 1 Axes>"
      ]
     },
     "metadata": {},
     "output_type": "display_data"
    }
   ],
   "source": [
    "plt.figure(figsize=(10,5))\n",
    "plt.title('Sale price depending on overall condition \\n and central air')\n",
    "sns.boxplot('OverallCond', 'SalePrice', data=data, hue='CentralAir')"
   ]
  },
  {
   "cell_type": "markdown",
   "metadata": {},
   "source": [
    "## Our first model on numerical features"
   ]
  },
  {
   "cell_type": "markdown",
   "metadata": {},
   "source": [
    "### Selecting numerical features"
   ]
  },
  {
   "cell_type": "code",
   "execution_count": 32,
   "metadata": {},
   "outputs": [
    {
     "data": {
      "text/html": [
       "<div>\n",
       "<style scoped>\n",
       "    .dataframe tbody tr th:only-of-type {\n",
       "        vertical-align: middle;\n",
       "    }\n",
       "\n",
       "    .dataframe tbody tr th {\n",
       "        vertical-align: top;\n",
       "    }\n",
       "\n",
       "    .dataframe thead th {\n",
       "        text-align: right;\n",
       "    }\n",
       "</style>\n",
       "<table border=\"1\" class=\"dataframe\">\n",
       "  <thead>\n",
       "    <tr style=\"text-align: right;\">\n",
       "      <th></th>\n",
       "      <th>MSSubClass</th>\n",
       "      <th>LotFrontage</th>\n",
       "      <th>LotArea</th>\n",
       "      <th>OverallQual</th>\n",
       "      <th>OverallCond</th>\n",
       "      <th>YearBuilt</th>\n",
       "      <th>YearRemodAdd</th>\n",
       "      <th>MasVnrArea</th>\n",
       "      <th>BsmtFinSF1</th>\n",
       "      <th>BsmtFinSF2</th>\n",
       "      <th>...</th>\n",
       "      <th>GarageArea</th>\n",
       "      <th>WoodDeckSF</th>\n",
       "      <th>OpenPorchSF</th>\n",
       "      <th>EnclosedPorch</th>\n",
       "      <th>3SsnPorch</th>\n",
       "      <th>ScreenPorch</th>\n",
       "      <th>PoolArea</th>\n",
       "      <th>MiscVal</th>\n",
       "      <th>MoSold</th>\n",
       "      <th>YrSold</th>\n",
       "    </tr>\n",
       "    <tr>\n",
       "      <th>Id</th>\n",
       "      <th></th>\n",
       "      <th></th>\n",
       "      <th></th>\n",
       "      <th></th>\n",
       "      <th></th>\n",
       "      <th></th>\n",
       "      <th></th>\n",
       "      <th></th>\n",
       "      <th></th>\n",
       "      <th></th>\n",
       "      <th></th>\n",
       "      <th></th>\n",
       "      <th></th>\n",
       "      <th></th>\n",
       "      <th></th>\n",
       "      <th></th>\n",
       "      <th></th>\n",
       "      <th></th>\n",
       "      <th></th>\n",
       "      <th></th>\n",
       "      <th></th>\n",
       "    </tr>\n",
       "  </thead>\n",
       "  <tbody>\n",
       "    <tr>\n",
       "      <th>1</th>\n",
       "      <td>60</td>\n",
       "      <td>65.0</td>\n",
       "      <td>8450</td>\n",
       "      <td>7</td>\n",
       "      <td>5</td>\n",
       "      <td>2003</td>\n",
       "      <td>2003</td>\n",
       "      <td>196.0</td>\n",
       "      <td>706</td>\n",
       "      <td>0</td>\n",
       "      <td>...</td>\n",
       "      <td>548</td>\n",
       "      <td>0</td>\n",
       "      <td>61</td>\n",
       "      <td>0</td>\n",
       "      <td>0</td>\n",
       "      <td>0</td>\n",
       "      <td>0</td>\n",
       "      <td>0</td>\n",
       "      <td>2</td>\n",
       "      <td>2008</td>\n",
       "    </tr>\n",
       "    <tr>\n",
       "      <th>2</th>\n",
       "      <td>20</td>\n",
       "      <td>80.0</td>\n",
       "      <td>9600</td>\n",
       "      <td>6</td>\n",
       "      <td>8</td>\n",
       "      <td>1976</td>\n",
       "      <td>1976</td>\n",
       "      <td>0.0</td>\n",
       "      <td>978</td>\n",
       "      <td>0</td>\n",
       "      <td>...</td>\n",
       "      <td>460</td>\n",
       "      <td>298</td>\n",
       "      <td>0</td>\n",
       "      <td>0</td>\n",
       "      <td>0</td>\n",
       "      <td>0</td>\n",
       "      <td>0</td>\n",
       "      <td>0</td>\n",
       "      <td>5</td>\n",
       "      <td>2007</td>\n",
       "    </tr>\n",
       "    <tr>\n",
       "      <th>3</th>\n",
       "      <td>60</td>\n",
       "      <td>68.0</td>\n",
       "      <td>11250</td>\n",
       "      <td>7</td>\n",
       "      <td>5</td>\n",
       "      <td>2001</td>\n",
       "      <td>2002</td>\n",
       "      <td>162.0</td>\n",
       "      <td>486</td>\n",
       "      <td>0</td>\n",
       "      <td>...</td>\n",
       "      <td>608</td>\n",
       "      <td>0</td>\n",
       "      <td>42</td>\n",
       "      <td>0</td>\n",
       "      <td>0</td>\n",
       "      <td>0</td>\n",
       "      <td>0</td>\n",
       "      <td>0</td>\n",
       "      <td>9</td>\n",
       "      <td>2008</td>\n",
       "    </tr>\n",
       "    <tr>\n",
       "      <th>4</th>\n",
       "      <td>70</td>\n",
       "      <td>60.0</td>\n",
       "      <td>9550</td>\n",
       "      <td>7</td>\n",
       "      <td>5</td>\n",
       "      <td>1915</td>\n",
       "      <td>1970</td>\n",
       "      <td>0.0</td>\n",
       "      <td>216</td>\n",
       "      <td>0</td>\n",
       "      <td>...</td>\n",
       "      <td>642</td>\n",
       "      <td>0</td>\n",
       "      <td>35</td>\n",
       "      <td>272</td>\n",
       "      <td>0</td>\n",
       "      <td>0</td>\n",
       "      <td>0</td>\n",
       "      <td>0</td>\n",
       "      <td>2</td>\n",
       "      <td>2006</td>\n",
       "    </tr>\n",
       "    <tr>\n",
       "      <th>5</th>\n",
       "      <td>60</td>\n",
       "      <td>84.0</td>\n",
       "      <td>14260</td>\n",
       "      <td>8</td>\n",
       "      <td>5</td>\n",
       "      <td>2000</td>\n",
       "      <td>2000</td>\n",
       "      <td>350.0</td>\n",
       "      <td>655</td>\n",
       "      <td>0</td>\n",
       "      <td>...</td>\n",
       "      <td>836</td>\n",
       "      <td>192</td>\n",
       "      <td>84</td>\n",
       "      <td>0</td>\n",
       "      <td>0</td>\n",
       "      <td>0</td>\n",
       "      <td>0</td>\n",
       "      <td>0</td>\n",
       "      <td>12</td>\n",
       "      <td>2008</td>\n",
       "    </tr>\n",
       "  </tbody>\n",
       "</table>\n",
       "<p>5 rows × 36 columns</p>\n",
       "</div>"
      ],
      "text/plain": [
       "    MSSubClass  LotFrontage  LotArea  OverallQual  OverallCond  YearBuilt  \\\n",
       "Id                                                                          \n",
       "1           60         65.0     8450            7            5       2003   \n",
       "2           20         80.0     9600            6            8       1976   \n",
       "3           60         68.0    11250            7            5       2001   \n",
       "4           70         60.0     9550            7            5       1915   \n",
       "5           60         84.0    14260            8            5       2000   \n",
       "\n",
       "    YearRemodAdd  MasVnrArea  BsmtFinSF1  BsmtFinSF2   ...    GarageArea  \\\n",
       "Id                                                     ...                 \n",
       "1           2003       196.0         706           0   ...           548   \n",
       "2           1976         0.0         978           0   ...           460   \n",
       "3           2002       162.0         486           0   ...           608   \n",
       "4           1970         0.0         216           0   ...           642   \n",
       "5           2000       350.0         655           0   ...           836   \n",
       "\n",
       "    WoodDeckSF  OpenPorchSF  EnclosedPorch  3SsnPorch  ScreenPorch  PoolArea  \\\n",
       "Id                                                                             \n",
       "1            0           61              0          0            0         0   \n",
       "2          298            0              0          0            0         0   \n",
       "3            0           42              0          0            0         0   \n",
       "4            0           35            272          0            0         0   \n",
       "5          192           84              0          0            0         0   \n",
       "\n",
       "    MiscVal  MoSold  YrSold  \n",
       "Id                           \n",
       "1         0       2    2008  \n",
       "2         0       5    2007  \n",
       "3         0       9    2008  \n",
       "4         0       2    2006  \n",
       "5         0      12    2008  \n",
       "\n",
       "[5 rows x 36 columns]"
      ]
     },
     "execution_count": 32,
     "metadata": {},
     "output_type": "execute_result"
    }
   ],
   "source": [
    "cat_cols = [col for col in data.columns if data[col].dtype == object and col != 'SalePrice']\n",
    "num_cols = [col for col in data.columns if data[col].dtype != object and col != 'SalePrice']\n",
    "data[num_cols].head()"
   ]
  },
  {
   "cell_type": "code",
   "execution_count": 33,
   "metadata": {},
   "outputs": [
    {
     "data": {
      "text/html": [
       "<div>\n",
       "<style scoped>\n",
       "    .dataframe tbody tr th:only-of-type {\n",
       "        vertical-align: middle;\n",
       "    }\n",
       "\n",
       "    .dataframe tbody tr th {\n",
       "        vertical-align: top;\n",
       "    }\n",
       "\n",
       "    .dataframe thead th {\n",
       "        text-align: right;\n",
       "    }\n",
       "</style>\n",
       "<table border=\"1\" class=\"dataframe\">\n",
       "  <thead>\n",
       "    <tr style=\"text-align: right;\">\n",
       "      <th></th>\n",
       "      <th>MSZoning</th>\n",
       "      <th>Street</th>\n",
       "      <th>Alley</th>\n",
       "      <th>LotShape</th>\n",
       "      <th>LandContour</th>\n",
       "      <th>Utilities</th>\n",
       "      <th>LotConfig</th>\n",
       "      <th>LandSlope</th>\n",
       "      <th>Neighborhood</th>\n",
       "      <th>Condition1</th>\n",
       "      <th>...</th>\n",
       "      <th>GarageType</th>\n",
       "      <th>GarageFinish</th>\n",
       "      <th>GarageQual</th>\n",
       "      <th>GarageCond</th>\n",
       "      <th>PavedDrive</th>\n",
       "      <th>PoolQC</th>\n",
       "      <th>Fence</th>\n",
       "      <th>MiscFeature</th>\n",
       "      <th>SaleType</th>\n",
       "      <th>SaleCondition</th>\n",
       "    </tr>\n",
       "    <tr>\n",
       "      <th>Id</th>\n",
       "      <th></th>\n",
       "      <th></th>\n",
       "      <th></th>\n",
       "      <th></th>\n",
       "      <th></th>\n",
       "      <th></th>\n",
       "      <th></th>\n",
       "      <th></th>\n",
       "      <th></th>\n",
       "      <th></th>\n",
       "      <th></th>\n",
       "      <th></th>\n",
       "      <th></th>\n",
       "      <th></th>\n",
       "      <th></th>\n",
       "      <th></th>\n",
       "      <th></th>\n",
       "      <th></th>\n",
       "      <th></th>\n",
       "      <th></th>\n",
       "      <th></th>\n",
       "    </tr>\n",
       "  </thead>\n",
       "  <tbody>\n",
       "    <tr>\n",
       "      <th>1</th>\n",
       "      <td>RL</td>\n",
       "      <td>Pave</td>\n",
       "      <td>NaN</td>\n",
       "      <td>Reg</td>\n",
       "      <td>Lvl</td>\n",
       "      <td>AllPub</td>\n",
       "      <td>Inside</td>\n",
       "      <td>Gtl</td>\n",
       "      <td>CollgCr</td>\n",
       "      <td>Norm</td>\n",
       "      <td>...</td>\n",
       "      <td>Attchd</td>\n",
       "      <td>RFn</td>\n",
       "      <td>TA</td>\n",
       "      <td>TA</td>\n",
       "      <td>Y</td>\n",
       "      <td>NaN</td>\n",
       "      <td>NaN</td>\n",
       "      <td>NaN</td>\n",
       "      <td>WD</td>\n",
       "      <td>Normal</td>\n",
       "    </tr>\n",
       "    <tr>\n",
       "      <th>2</th>\n",
       "      <td>RL</td>\n",
       "      <td>Pave</td>\n",
       "      <td>NaN</td>\n",
       "      <td>Reg</td>\n",
       "      <td>Lvl</td>\n",
       "      <td>AllPub</td>\n",
       "      <td>FR2</td>\n",
       "      <td>Gtl</td>\n",
       "      <td>Veenker</td>\n",
       "      <td>Feedr</td>\n",
       "      <td>...</td>\n",
       "      <td>Attchd</td>\n",
       "      <td>RFn</td>\n",
       "      <td>TA</td>\n",
       "      <td>TA</td>\n",
       "      <td>Y</td>\n",
       "      <td>NaN</td>\n",
       "      <td>NaN</td>\n",
       "      <td>NaN</td>\n",
       "      <td>WD</td>\n",
       "      <td>Normal</td>\n",
       "    </tr>\n",
       "    <tr>\n",
       "      <th>3</th>\n",
       "      <td>RL</td>\n",
       "      <td>Pave</td>\n",
       "      <td>NaN</td>\n",
       "      <td>IR1</td>\n",
       "      <td>Lvl</td>\n",
       "      <td>AllPub</td>\n",
       "      <td>Inside</td>\n",
       "      <td>Gtl</td>\n",
       "      <td>CollgCr</td>\n",
       "      <td>Norm</td>\n",
       "      <td>...</td>\n",
       "      <td>Attchd</td>\n",
       "      <td>RFn</td>\n",
       "      <td>TA</td>\n",
       "      <td>TA</td>\n",
       "      <td>Y</td>\n",
       "      <td>NaN</td>\n",
       "      <td>NaN</td>\n",
       "      <td>NaN</td>\n",
       "      <td>WD</td>\n",
       "      <td>Normal</td>\n",
       "    </tr>\n",
       "    <tr>\n",
       "      <th>4</th>\n",
       "      <td>RL</td>\n",
       "      <td>Pave</td>\n",
       "      <td>NaN</td>\n",
       "      <td>IR1</td>\n",
       "      <td>Lvl</td>\n",
       "      <td>AllPub</td>\n",
       "      <td>Corner</td>\n",
       "      <td>Gtl</td>\n",
       "      <td>Crawfor</td>\n",
       "      <td>Norm</td>\n",
       "      <td>...</td>\n",
       "      <td>Detchd</td>\n",
       "      <td>Unf</td>\n",
       "      <td>TA</td>\n",
       "      <td>TA</td>\n",
       "      <td>Y</td>\n",
       "      <td>NaN</td>\n",
       "      <td>NaN</td>\n",
       "      <td>NaN</td>\n",
       "      <td>WD</td>\n",
       "      <td>Abnorml</td>\n",
       "    </tr>\n",
       "    <tr>\n",
       "      <th>5</th>\n",
       "      <td>RL</td>\n",
       "      <td>Pave</td>\n",
       "      <td>NaN</td>\n",
       "      <td>IR1</td>\n",
       "      <td>Lvl</td>\n",
       "      <td>AllPub</td>\n",
       "      <td>FR2</td>\n",
       "      <td>Gtl</td>\n",
       "      <td>NoRidge</td>\n",
       "      <td>Norm</td>\n",
       "      <td>...</td>\n",
       "      <td>Attchd</td>\n",
       "      <td>RFn</td>\n",
       "      <td>TA</td>\n",
       "      <td>TA</td>\n",
       "      <td>Y</td>\n",
       "      <td>NaN</td>\n",
       "      <td>NaN</td>\n",
       "      <td>NaN</td>\n",
       "      <td>WD</td>\n",
       "      <td>Normal</td>\n",
       "    </tr>\n",
       "  </tbody>\n",
       "</table>\n",
       "<p>5 rows × 43 columns</p>\n",
       "</div>"
      ],
      "text/plain": [
       "   MSZoning Street Alley LotShape LandContour Utilities LotConfig LandSlope  \\\n",
       "Id                                                                            \n",
       "1        RL   Pave   NaN      Reg         Lvl    AllPub    Inside       Gtl   \n",
       "2        RL   Pave   NaN      Reg         Lvl    AllPub       FR2       Gtl   \n",
       "3        RL   Pave   NaN      IR1         Lvl    AllPub    Inside       Gtl   \n",
       "4        RL   Pave   NaN      IR1         Lvl    AllPub    Corner       Gtl   \n",
       "5        RL   Pave   NaN      IR1         Lvl    AllPub       FR2       Gtl   \n",
       "\n",
       "   Neighborhood Condition1      ...      GarageType GarageFinish GarageQual  \\\n",
       "Id                              ...                                           \n",
       "1       CollgCr       Norm      ...          Attchd          RFn         TA   \n",
       "2       Veenker      Feedr      ...          Attchd          RFn         TA   \n",
       "3       CollgCr       Norm      ...          Attchd          RFn         TA   \n",
       "4       Crawfor       Norm      ...          Detchd          Unf         TA   \n",
       "5       NoRidge       Norm      ...          Attchd          RFn         TA   \n",
       "\n",
       "   GarageCond PavedDrive PoolQC Fence MiscFeature SaleType SaleCondition  \n",
       "Id                                                                        \n",
       "1          TA          Y    NaN   NaN         NaN       WD        Normal  \n",
       "2          TA          Y    NaN   NaN         NaN       WD        Normal  \n",
       "3          TA          Y    NaN   NaN         NaN       WD        Normal  \n",
       "4          TA          Y    NaN   NaN         NaN       WD       Abnorml  \n",
       "5          TA          Y    NaN   NaN         NaN       WD        Normal  \n",
       "\n",
       "[5 rows x 43 columns]"
      ]
     },
     "execution_count": 33,
     "metadata": {},
     "output_type": "execute_result"
    }
   ],
   "source": [
    "data[cat_cols].head()"
   ]
  },
  {
   "cell_type": "markdown",
   "metadata": {},
   "source": [
    "### Filling nans with zeros"
   ]
  },
  {
   "cell_type": "code",
   "execution_count": 34,
   "metadata": {
    "nbpresent": {
     "id": "1ff525fd-c41e-48b4-b168-aeb76cc31bb2"
    }
   },
   "outputs": [
    {
     "data": {
      "text/plain": [
       "MSSubClass     0.000000\n",
       "LotFrontage    0.177397\n",
       "LotArea        0.000000\n",
       "OverallQual    0.000000\n",
       "OverallCond    0.000000\n",
       "dtype: float64"
      ]
     },
     "execution_count": 34,
     "metadata": {},
     "output_type": "execute_result"
    }
   ],
   "source": [
    "data[num_cols].isnull().mean().head()"
   ]
  },
  {
   "cell_type": "code",
   "execution_count": 35,
   "metadata": {},
   "outputs": [],
   "source": [
    "data[num_cols] = data[num_cols].fillna(0)"
   ]
  },
  {
   "cell_type": "code",
   "execution_count": 36,
   "metadata": {
    "nbpresent": {
     "id": "fa67218f-68e2-45e8-8850-069f3600e36b"
    }
   },
   "outputs": [
    {
     "data": {
      "text/plain": [
       "MSSubClass     0.0\n",
       "LotFrontage    0.0\n",
       "LotArea        0.0\n",
       "OverallQual    0.0\n",
       "OverallCond    0.0\n",
       "dtype: float64"
      ]
     },
     "execution_count": 36,
     "metadata": {},
     "output_type": "execute_result"
    }
   ],
   "source": [
    "data[num_cols].isnull().mean().head()"
   ]
  },
  {
   "cell_type": "markdown",
   "metadata": {},
   "source": [
    "### Adding categorical variables: label encoding\n"
   ]
  },
  {
   "cell_type": "code",
   "execution_count": 42,
   "metadata": {},
   "outputs": [],
   "source": [
    "le = LabelEncoder()\n",
    "encoded_labels = le.fit_transform(data.HeatingQC)\n"
   ]
  },
  {
   "cell_type": "code",
   "execution_count": 46,
   "metadata": {},
   "outputs": [
    {
     "data": {
      "text/html": [
       "<div>\n",
       "<style scoped>\n",
       "    .dataframe tbody tr th:only-of-type {\n",
       "        vertical-align: middle;\n",
       "    }\n",
       "\n",
       "    .dataframe tbody tr th {\n",
       "        vertical-align: top;\n",
       "    }\n",
       "\n",
       "    .dataframe thead th {\n",
       "        text-align: right;\n",
       "    }\n",
       "</style>\n",
       "<table border=\"1\" class=\"dataframe\">\n",
       "  <thead>\n",
       "    <tr style=\"text-align: right;\">\n",
       "      <th></th>\n",
       "      <th>MSZoning</th>\n",
       "      <th>Street</th>\n",
       "      <th>Alley</th>\n",
       "      <th>LotShape</th>\n",
       "      <th>LandContour</th>\n",
       "      <th>Utilities</th>\n",
       "      <th>LotConfig</th>\n",
       "      <th>LandSlope</th>\n",
       "      <th>Neighborhood</th>\n",
       "      <th>Condition1</th>\n",
       "      <th>...</th>\n",
       "      <th>GarageType</th>\n",
       "      <th>GarageFinish</th>\n",
       "      <th>GarageQual</th>\n",
       "      <th>GarageCond</th>\n",
       "      <th>PavedDrive</th>\n",
       "      <th>PoolQC</th>\n",
       "      <th>Fence</th>\n",
       "      <th>MiscFeature</th>\n",
       "      <th>SaleType</th>\n",
       "      <th>SaleCondition</th>\n",
       "    </tr>\n",
       "    <tr>\n",
       "      <th>Id</th>\n",
       "      <th></th>\n",
       "      <th></th>\n",
       "      <th></th>\n",
       "      <th></th>\n",
       "      <th></th>\n",
       "      <th></th>\n",
       "      <th></th>\n",
       "      <th></th>\n",
       "      <th></th>\n",
       "      <th></th>\n",
       "      <th></th>\n",
       "      <th></th>\n",
       "      <th></th>\n",
       "      <th></th>\n",
       "      <th></th>\n",
       "      <th></th>\n",
       "      <th></th>\n",
       "      <th></th>\n",
       "      <th></th>\n",
       "      <th></th>\n",
       "      <th></th>\n",
       "    </tr>\n",
       "  </thead>\n",
       "  <tbody>\n",
       "    <tr>\n",
       "      <th>1</th>\n",
       "      <td>3</td>\n",
       "      <td>1</td>\n",
       "      <td>1</td>\n",
       "      <td>3</td>\n",
       "      <td>3</td>\n",
       "      <td>0</td>\n",
       "      <td>4</td>\n",
       "      <td>0</td>\n",
       "      <td>5</td>\n",
       "      <td>2</td>\n",
       "      <td>...</td>\n",
       "      <td>1</td>\n",
       "      <td>2</td>\n",
       "      <td>5</td>\n",
       "      <td>5</td>\n",
       "      <td>2</td>\n",
       "      <td>3</td>\n",
       "      <td>4</td>\n",
       "      <td>1</td>\n",
       "      <td>8</td>\n",
       "      <td>4</td>\n",
       "    </tr>\n",
       "    <tr>\n",
       "      <th>2</th>\n",
       "      <td>3</td>\n",
       "      <td>1</td>\n",
       "      <td>1</td>\n",
       "      <td>3</td>\n",
       "      <td>3</td>\n",
       "      <td>0</td>\n",
       "      <td>2</td>\n",
       "      <td>0</td>\n",
       "      <td>24</td>\n",
       "      <td>1</td>\n",
       "      <td>...</td>\n",
       "      <td>1</td>\n",
       "      <td>2</td>\n",
       "      <td>5</td>\n",
       "      <td>5</td>\n",
       "      <td>2</td>\n",
       "      <td>3</td>\n",
       "      <td>4</td>\n",
       "      <td>1</td>\n",
       "      <td>8</td>\n",
       "      <td>4</td>\n",
       "    </tr>\n",
       "    <tr>\n",
       "      <th>3</th>\n",
       "      <td>3</td>\n",
       "      <td>1</td>\n",
       "      <td>1</td>\n",
       "      <td>0</td>\n",
       "      <td>3</td>\n",
       "      <td>0</td>\n",
       "      <td>4</td>\n",
       "      <td>0</td>\n",
       "      <td>5</td>\n",
       "      <td>2</td>\n",
       "      <td>...</td>\n",
       "      <td>1</td>\n",
       "      <td>2</td>\n",
       "      <td>5</td>\n",
       "      <td>5</td>\n",
       "      <td>2</td>\n",
       "      <td>3</td>\n",
       "      <td>4</td>\n",
       "      <td>1</td>\n",
       "      <td>8</td>\n",
       "      <td>4</td>\n",
       "    </tr>\n",
       "    <tr>\n",
       "      <th>4</th>\n",
       "      <td>3</td>\n",
       "      <td>1</td>\n",
       "      <td>1</td>\n",
       "      <td>0</td>\n",
       "      <td>3</td>\n",
       "      <td>0</td>\n",
       "      <td>0</td>\n",
       "      <td>0</td>\n",
       "      <td>6</td>\n",
       "      <td>2</td>\n",
       "      <td>...</td>\n",
       "      <td>5</td>\n",
       "      <td>3</td>\n",
       "      <td>5</td>\n",
       "      <td>5</td>\n",
       "      <td>2</td>\n",
       "      <td>3</td>\n",
       "      <td>4</td>\n",
       "      <td>1</td>\n",
       "      <td>8</td>\n",
       "      <td>0</td>\n",
       "    </tr>\n",
       "    <tr>\n",
       "      <th>5</th>\n",
       "      <td>3</td>\n",
       "      <td>1</td>\n",
       "      <td>1</td>\n",
       "      <td>0</td>\n",
       "      <td>3</td>\n",
       "      <td>0</td>\n",
       "      <td>2</td>\n",
       "      <td>0</td>\n",
       "      <td>15</td>\n",
       "      <td>2</td>\n",
       "      <td>...</td>\n",
       "      <td>1</td>\n",
       "      <td>2</td>\n",
       "      <td>5</td>\n",
       "      <td>5</td>\n",
       "      <td>2</td>\n",
       "      <td>3</td>\n",
       "      <td>4</td>\n",
       "      <td>1</td>\n",
       "      <td>8</td>\n",
       "      <td>4</td>\n",
       "    </tr>\n",
       "  </tbody>\n",
       "</table>\n",
       "<p>5 rows × 43 columns</p>\n",
       "</div>"
      ],
      "text/plain": [
       "    MSZoning  Street  Alley  LotShape  LandContour  Utilities  LotConfig  \\\n",
       "Id                                                                         \n",
       "1          3       1      1         3            3          0          4   \n",
       "2          3       1      1         3            3          0          2   \n",
       "3          3       1      1         0            3          0          4   \n",
       "4          3       1      1         0            3          0          0   \n",
       "5          3       1      1         0            3          0          2   \n",
       "\n",
       "    LandSlope  Neighborhood  Condition1      ...        GarageType  \\\n",
       "Id                                           ...                     \n",
       "1           0             5           2      ...                 1   \n",
       "2           0            24           1      ...                 1   \n",
       "3           0             5           2      ...                 1   \n",
       "4           0             6           2      ...                 5   \n",
       "5           0            15           2      ...                 1   \n",
       "\n",
       "    GarageFinish  GarageQual  GarageCond  PavedDrive  PoolQC  Fence  \\\n",
       "Id                                                                    \n",
       "1              2           5           5           2       3      4   \n",
       "2              2           5           5           2       3      4   \n",
       "3              2           5           5           2       3      4   \n",
       "4              3           5           5           2       3      4   \n",
       "5              2           5           5           2       3      4   \n",
       "\n",
       "    MiscFeature  SaleType  SaleCondition  \n",
       "Id                                        \n",
       "1             1         8              4  \n",
       "2             1         8              4  \n",
       "3             1         8              4  \n",
       "4             1         8              0  \n",
       "5             1         8              4  \n",
       "\n",
       "[5 rows x 43 columns]"
      ]
     },
     "execution_count": 46,
     "metadata": {},
     "output_type": "execute_result"
    }
   ],
   "source": [
    "from sklearn.preprocessing import LabelEncoder\n",
    "\n",
    "data[cat_cols] = data[cat_cols].fillna('NAN')\n",
    "le = LabelEncoder()\n",
    "\n",
    "for col in cat_cols:\n",
    "    data[col] = le.fit_transform(data[col])\n",
    "\n",
    "data[cat_cols].head()"
   ]
  },
  {
   "cell_type": "markdown",
   "metadata": {},
   "source": [
    "### Let's try linear regression on numerical features"
   ]
  },
  {
   "cell_type": "code",
   "execution_count": 48,
   "metadata": {},
   "outputs": [],
   "source": [
    "from sklearn.linear_model import LinearRegression\n",
    "from sklearn.ensemble import RandomForestRegressor\n",
    "from sklearn.model_selection import train_test_split\n",
    "from sklearn.preprocessing import StandardScaler\n",
    "from sklearn.metrics import mean_squared_error, mean_absolute_error\n",
    "from sklearn.model_selection import cross_val_score, KFold\n",
    "\n",
    "pd.options.mode.chained_assignment = None  # default='warn'\n"
   ]
  },
  {
   "cell_type": "markdown",
   "metadata": {},
   "source": [
    "### Train/test split"
   ]
  },
  {
   "cell_type": "code",
   "execution_count": 60,
   "metadata": {},
   "outputs": [],
   "source": [
    "target = data.SalePrice\n",
    "train, test, y_train, y_test = train_test_split(data, target, \n",
    "                                                test_size=0.33, \n",
    "                                                random_state=42)"
   ]
  },
  {
   "cell_type": "code",
   "execution_count": 61,
   "metadata": {},
   "outputs": [
    {
     "data": {
      "text/html": [
       "<div>\n",
       "<style scoped>\n",
       "    .dataframe tbody tr th:only-of-type {\n",
       "        vertical-align: middle;\n",
       "    }\n",
       "\n",
       "    .dataframe tbody tr th {\n",
       "        vertical-align: top;\n",
       "    }\n",
       "\n",
       "    .dataframe thead th {\n",
       "        text-align: right;\n",
       "    }\n",
       "</style>\n",
       "<table border=\"1\" class=\"dataframe\">\n",
       "  <thead>\n",
       "    <tr style=\"text-align: right;\">\n",
       "      <th></th>\n",
       "      <th>MSSubClass</th>\n",
       "      <th>MSZoning</th>\n",
       "      <th>LotFrontage</th>\n",
       "      <th>LotArea</th>\n",
       "      <th>Street</th>\n",
       "      <th>Alley</th>\n",
       "      <th>LotShape</th>\n",
       "      <th>LandContour</th>\n",
       "      <th>Utilities</th>\n",
       "      <th>LotConfig</th>\n",
       "      <th>...</th>\n",
       "      <th>PoolArea</th>\n",
       "      <th>PoolQC</th>\n",
       "      <th>Fence</th>\n",
       "      <th>MiscFeature</th>\n",
       "      <th>MiscVal</th>\n",
       "      <th>MoSold</th>\n",
       "      <th>YrSold</th>\n",
       "      <th>SaleType</th>\n",
       "      <th>SaleCondition</th>\n",
       "      <th>SalePrice</th>\n",
       "    </tr>\n",
       "    <tr>\n",
       "      <th>Id</th>\n",
       "      <th></th>\n",
       "      <th></th>\n",
       "      <th></th>\n",
       "      <th></th>\n",
       "      <th></th>\n",
       "      <th></th>\n",
       "      <th></th>\n",
       "      <th></th>\n",
       "      <th></th>\n",
       "      <th></th>\n",
       "      <th></th>\n",
       "      <th></th>\n",
       "      <th></th>\n",
       "      <th></th>\n",
       "      <th></th>\n",
       "      <th></th>\n",
       "      <th></th>\n",
       "      <th></th>\n",
       "      <th></th>\n",
       "      <th></th>\n",
       "      <th></th>\n",
       "    </tr>\n",
       "  </thead>\n",
       "  <tbody>\n",
       "    <tr>\n",
       "      <th>616</th>\n",
       "      <td>85</td>\n",
       "      <td>3</td>\n",
       "      <td>80.0</td>\n",
       "      <td>8800</td>\n",
       "      <td>1</td>\n",
       "      <td>1</td>\n",
       "      <td>3</td>\n",
       "      <td>3</td>\n",
       "      <td>0</td>\n",
       "      <td>4</td>\n",
       "      <td>...</td>\n",
       "      <td>0</td>\n",
       "      <td>3</td>\n",
       "      <td>2</td>\n",
       "      <td>1</td>\n",
       "      <td>0</td>\n",
       "      <td>5</td>\n",
       "      <td>2010</td>\n",
       "      <td>8</td>\n",
       "      <td>0</td>\n",
       "      <td>137500</td>\n",
       "    </tr>\n",
       "    <tr>\n",
       "      <th>614</th>\n",
       "      <td>20</td>\n",
       "      <td>3</td>\n",
       "      <td>70.0</td>\n",
       "      <td>8402</td>\n",
       "      <td>1</td>\n",
       "      <td>1</td>\n",
       "      <td>3</td>\n",
       "      <td>3</td>\n",
       "      <td>0</td>\n",
       "      <td>4</td>\n",
       "      <td>...</td>\n",
       "      <td>0</td>\n",
       "      <td>3</td>\n",
       "      <td>4</td>\n",
       "      <td>1</td>\n",
       "      <td>0</td>\n",
       "      <td>12</td>\n",
       "      <td>2007</td>\n",
       "      <td>6</td>\n",
       "      <td>5</td>\n",
       "      <td>147000</td>\n",
       "    </tr>\n",
       "    <tr>\n",
       "      <th>1304</th>\n",
       "      <td>20</td>\n",
       "      <td>3</td>\n",
       "      <td>73.0</td>\n",
       "      <td>8688</td>\n",
       "      <td>1</td>\n",
       "      <td>1</td>\n",
       "      <td>3</td>\n",
       "      <td>3</td>\n",
       "      <td>0</td>\n",
       "      <td>4</td>\n",
       "      <td>...</td>\n",
       "      <td>0</td>\n",
       "      <td>3</td>\n",
       "      <td>4</td>\n",
       "      <td>1</td>\n",
       "      <td>0</td>\n",
       "      <td>4</td>\n",
       "      <td>2006</td>\n",
       "      <td>8</td>\n",
       "      <td>4</td>\n",
       "      <td>232000</td>\n",
       "    </tr>\n",
       "    <tr>\n",
       "      <th>487</th>\n",
       "      <td>20</td>\n",
       "      <td>3</td>\n",
       "      <td>79.0</td>\n",
       "      <td>10289</td>\n",
       "      <td>1</td>\n",
       "      <td>1</td>\n",
       "      <td>3</td>\n",
       "      <td>3</td>\n",
       "      <td>0</td>\n",
       "      <td>4</td>\n",
       "      <td>...</td>\n",
       "      <td>0</td>\n",
       "      <td>3</td>\n",
       "      <td>4</td>\n",
       "      <td>1</td>\n",
       "      <td>0</td>\n",
       "      <td>6</td>\n",
       "      <td>2007</td>\n",
       "      <td>8</td>\n",
       "      <td>4</td>\n",
       "      <td>156000</td>\n",
       "    </tr>\n",
       "    <tr>\n",
       "      <th>562</th>\n",
       "      <td>20</td>\n",
       "      <td>3</td>\n",
       "      <td>77.0</td>\n",
       "      <td>10010</td>\n",
       "      <td>1</td>\n",
       "      <td>1</td>\n",
       "      <td>3</td>\n",
       "      <td>3</td>\n",
       "      <td>0</td>\n",
       "      <td>4</td>\n",
       "      <td>...</td>\n",
       "      <td>0</td>\n",
       "      <td>3</td>\n",
       "      <td>4</td>\n",
       "      <td>1</td>\n",
       "      <td>0</td>\n",
       "      <td>4</td>\n",
       "      <td>2006</td>\n",
       "      <td>8</td>\n",
       "      <td>4</td>\n",
       "      <td>170000</td>\n",
       "    </tr>\n",
       "  </tbody>\n",
       "</table>\n",
       "<p>5 rows × 80 columns</p>\n",
       "</div>"
      ],
      "text/plain": [
       "      MSSubClass  MSZoning  LotFrontage  LotArea  Street  Alley  LotShape  \\\n",
       "Id                                                                          \n",
       "616           85         3         80.0     8800       1      1         3   \n",
       "614           20         3         70.0     8402       1      1         3   \n",
       "1304          20         3         73.0     8688       1      1         3   \n",
       "487           20         3         79.0    10289       1      1         3   \n",
       "562           20         3         77.0    10010       1      1         3   \n",
       "\n",
       "      LandContour  Utilities  LotConfig    ...      PoolArea  PoolQC  Fence  \\\n",
       "Id                                         ...                                \n",
       "616             3          0          4    ...             0       3      2   \n",
       "614             3          0          4    ...             0       3      4   \n",
       "1304            3          0          4    ...             0       3      4   \n",
       "487             3          0          4    ...             0       3      4   \n",
       "562             3          0          4    ...             0       3      4   \n",
       "\n",
       "      MiscFeature  MiscVal  MoSold  YrSold  SaleType  SaleCondition  SalePrice  \n",
       "Id                                                                              \n",
       "616             1        0       5    2010         8              0     137500  \n",
       "614             1        0      12    2007         6              5     147000  \n",
       "1304            1        0       4    2006         8              4     232000  \n",
       "487             1        0       6    2007         8              4     156000  \n",
       "562             1        0       4    2006         8              4     170000  \n",
       "\n",
       "[5 rows x 80 columns]"
      ]
     },
     "execution_count": 61,
     "metadata": {},
     "output_type": "execute_result"
    }
   ],
   "source": [
    "train.head()"
   ]
  },
  {
   "cell_type": "markdown",
   "metadata": {},
   "source": [
    "### Cross-validation"
   ]
  },
  {
   "cell_type": "code",
   "execution_count": 69,
   "metadata": {},
   "outputs": [],
   "source": [
    "kf = KFold(n_splits=3, shuffle=True, random_state=0)\n",
    "a = kf.split(data, target)"
   ]
  },
  {
   "cell_type": "code",
   "execution_count": 78,
   "metadata": {},
   "outputs": [
    {
     "name": "stdout",
     "output_type": "stream",
     "text": [
      "TRAIN CV score 39177.84 ± 7802.32\n"
     ]
    }
   ],
   "source": [
    "#regr = RandomForestRegressor(max_depth=25, n_estimators=100, random_state=0)\n",
    "regr = LinearRegression()\n",
    "\n",
    "kf = KFold(n_splits=5, shuffle=True, random_state=0)\n",
    "kf = list(kf.split(train, y_train))\n",
    "\n",
    "scores = cross_val_score(regr, train[num_cols], y_train, \n",
    "                         cv=kf, scoring='mean_squared_error')\n",
    "scores = -1*scores\n",
    "scores = np.sqrt(scores)\n",
    "\n",
    "print('TRAIN CV score {:.2f} ± {:.2f}'.format(scores.mean(), scores.std()))"
   ]
  },
  {
   "cell_type": "code",
   "execution_count": 81,
   "metadata": {},
   "outputs": [
    {
     "name": "stdout",
     "output_type": "stream",
     "text": [
      "TEST RMSE 39198.61974291592\n",
      "TEST MAE 23761.339104589624\n"
     ]
    }
   ],
   "source": [
    "regr.fit(train[num_cols], y_train) \n",
    "preds = regr.predict(test[num_cols])\n",
    "rmse = np.sqrt(mean_squared_error(y_test, preds))\n",
    "mae = mean_absolute_error(y_test, preds)\n",
    "\n",
    "print('TEST RMSE', rmse)\n",
    "print('TEST MAE', mae)"
   ]
  },
  {
   "cell_type": "code",
   "execution_count": 85,
   "metadata": {},
   "outputs": [
    {
     "data": {
      "text/plain": [
       "Text(0,0.5,'true prices')"
      ]
     },
     "execution_count": 85,
     "metadata": {},
     "output_type": "execute_result"
    },
    {
     "data": {
      "image/png": "[encoded data removed]",
      "text/plain": [
       "<Figure size 360x360 with 1 Axes>"
      ]
     },
     "metadata": {},
     "output_type": "display_data"
    }
   ],
   "source": [
    "plt.figure(figsize=(5,5))\n",
    "plt.scatter(preds, y_test)\n",
    "plt.xlabel('predicted prices')\n",
    "plt.ylabel('true prices')\n"
   ]
  },
  {
   "cell_type": "markdown",
   "metadata": {},
   "source": [
    "### Getting coefficients"
   ]
  },
  {
   "cell_type": "code",
   "execution_count": 89,
   "metadata": {},
   "outputs": [
    {
     "data": {
      "text/plain": [
       "(36,)"
      ]
     },
     "execution_count": 89,
     "metadata": {},
     "output_type": "execute_result"
    }
   ],
   "source": [
    "regr.coef_.shape"
   ]
  },
  {
   "cell_type": "code",
   "execution_count": 90,
   "metadata": {},
   "outputs": [
    {
     "data": {
      "text/plain": [
       "(1460, 36)"
      ]
     },
     "execution_count": 90,
     "metadata": {},
     "output_type": "execute_result"
    }
   ],
   "source": [
    "data[num_cols].shape"
   ]
  },
  {
   "cell_type": "code",
   "execution_count": 19,
   "metadata": {},
   "outputs": [
    {
     "name": "stdout",
     "output_type": "stream",
     "text": [
      "31.140792245828948 -703873.763617021\n"
     ]
    }
   ],
   "source": [
    "area_ind = num_cols.index('GrLivArea')\n",
    "area_coef = regr.coef_[area_ind]\n",
    "intercept = regr.intercept_\n",
    "\n",
    "print(area_coef, intercept)"
   ]
  },
  {
   "cell_type": "code",
   "execution_count": null,
   "metadata": {},
   "outputs": [],
   "source": []
  },
  {
   "cell_type": "markdown",
   "metadata": {},
   "source": [
    "#### **Note**: sklearn doesn't have statistical tools (if you want coef p-values for example). For this you should use statsmodels or write code yourself"
   ]
  },
  {
   "cell_type": "markdown",
   "metadata": {},
   "source": [
    "### Let's try Random Forest"
   ]
  },
  {
   "cell_type": "code",
   "execution_count": 91,
   "metadata": {},
   "outputs": [
    {
     "name": "stdout",
     "output_type": "stream",
     "text": [
      "CV score 32893.08 ± 2685.84\n",
      "TEST RMSE RF 34861.90234126962\n",
      "TEST MAE RF 19213.01970954357\n"
     ]
    }
   ],
   "source": [
    "regr_rf = RandomForestRegressor(random_state=0)\n",
    "\n",
    "scores = cross_val_score(regr_rf, train[num_cols], y_train, cv=kf, scoring='neg_mean_squared_error')\n",
    "scores = -1*scores\n",
    "scores = np.sqrt(scores)\n",
    "\n",
    "print('CV score {:.2f} ± {:.2f}'.format(scores.mean(), scores.std()))\n",
    "\n",
    "regr_rf.fit(train[num_cols], y_train) \n",
    "preds_rf = regr_rf.predict(test[num_cols])\n",
    "rmse = np.sqrt(mean_squared_error(y_test, preds_rf))\n",
    "mae = mean_absolute_error(y_test, preds_rf)\n",
    "\n",
    "print('TEST RMSE RF', rmse)\n",
    "print('TEST MAE RF', mae)"
   ]
  },
  {
   "cell_type": "code",
   "execution_count": 92,
   "metadata": {},
   "outputs": [
    {
     "data": {
      "image/png": "[encoded data removed]",
      "text/plain": [
       "<Figure size 360x360 with 1 Axes>"
      ]
     },
     "metadata": {},
     "output_type": "display_data"
    }
   ],
   "source": [
    "plt.figure(figsize=(5,5))\n",
    "plt.scatter(preds_rf, y_test)\n",
    "plt.xlabel('predicted prices RF')\n",
    "plt.ylabel('true prices')\n",
    "pass"
   ]
  },
  {
   "cell_type": "markdown",
   "metadata": {},
   "source": [
    "### Now let's try random forest on all features"
   ]
  },
  {
   "cell_type": "code",
   "execution_count": 93,
   "metadata": {},
   "outputs": [
    {
     "name": "stdout",
     "output_type": "stream",
     "text": [
      "CV score 31699.48 ± 2209.89\n",
      "TEST RMSE RF 33612.89019154063\n",
      "TEST MAE RF 18875.977385892114\n"
     ]
    }
   ],
   "source": [
    "scores = cross_val_score(regr_rf, train[num_cols + cat_cols], y_train, cv=kf, scoring='neg_mean_squared_error')\n",
    "scores = -1*scores\n",
    "scores = np.sqrt(scores)\n",
    "\n",
    "print('CV score {:.2f} ± {:.2f}'.format(scores.mean(), scores.std()))\n",
    "\n",
    "regr_rf.fit(train[num_cols + cat_cols], y_train) \n",
    "preds_rf = regr_rf.predict(test[num_cols + cat_cols])\n",
    "rmse = np.sqrt(mean_squared_error(y_test, preds_rf))\n",
    "mae = mean_absolute_error(y_test, preds_rf)\n",
    "print('TEST RMSE RF', rmse)\n",
    "print('TEST MAE RF', mae)"
   ]
  },
  {
   "cell_type": "code",
   "execution_count": 94,
   "metadata": {},
   "outputs": [
    {
     "data": {
      "image/png": "[encoded data removed]",
      "text/plain": [
       "<Figure size 360x360 with 1 Axes>"
      ]
     },
     "metadata": {},
     "output_type": "display_data"
    }
   ],
   "source": [
    "plt.figure(figsize=(5,5))\n",
    "plt.scatter(preds_rf, y_test)\n",
    "plt.xlabel('predicted prices RF')\n",
    "plt.ylabel('true prices')\n",
    "pass"
   ]
  },
  {
   "cell_type": "markdown",
   "metadata": {},
   "source": [
    "### Okay, how about grid search"
   ]
  },
  {
   "cell_type": "code",
   "execution_count": 98,
   "metadata": {},
   "outputs": [],
   "source": [
    "from sklearn.grid_search import GridSearchCV\n",
    "\n",
    "rf_params = {'n_estimators' : [10, 50, 100],\n",
    "             'max_depth' : [5, 10, 15, None],\n",
    "             'max_features' : [0.05, 0.1, 0.2, 'auto'],\n",
    "             'n_jobs': [-1]}\n",
    "\n",
    "rf_grid = GridSearchCV(regr_rf, rf_params, cv=kf, \n",
    "                       scoring='neg_mean_squared_error',\n",
    "                      verbose=4)"
   ]
  },
  {
   "cell_type": "code",
   "execution_count": 99,
   "metadata": {
    "scrolled": true
   },
   "outputs": [
    {
     "name": "stdout",
     "output_type": "stream",
     "text": [
      "Fitting 5 folds for each of 48 candidates, totalling 240 fits\n",
      "[CV] max_depth=5, max_features=0.05, n_estimators=10, n_jobs=-1 ......\n",
      "[CV]  max_depth=5, max_features=0.05, n_estimators=10, n_jobs=-1, score=-1301160775.332987 -   0.2s\n",
      "[CV] max_depth=5, max_features=0.05, n_estimators=10, n_jobs=-1 ......\n"
     ]
    },
    {
     "name": "stderr",
     "output_type": "stream",
     "text": [
      "[Parallel(n_jobs=1)]: Done   1 out of   1 | elapsed:    0.2s remaining:    0.0s\n"
     ]
    },
    {
     "name": "stdout",
     "output_type": "stream",
     "text": [
      "[CV]  max_depth=5, max_features=0.05, n_estimators=10, n_jobs=-1, score=-1630870698.184404 -   0.2s\n",
      "[CV] max_depth=5, max_features=0.05, n_estimators=10, n_jobs=-1 ......\n"
     ]
    },
    {
     "name": "stderr",
     "output_type": "stream",
     "text": [
      "[Parallel(n_jobs=1)]: Done   2 out of   2 | elapsed:    0.4s remaining:    0.0s\n"
     ]
    },
    {
     "name": "stdout",
     "output_type": "stream",
     "text": [
      "[CV]  max_depth=5, max_features=0.05, n_estimators=10, n_jobs=-1, score=-1185426025.924436 -   0.2s\n",
      "[CV] max_depth=5, max_features=0.05, n_estimators=10, n_jobs=-1 ......\n"
     ]
    },
    {
     "name": "stderr",
     "output_type": "stream",
     "text": [
      "[Parallel(n_jobs=1)]: Done   3 out of   3 | elapsed:    0.6s remaining:    0.0s\n"
     ]
    },
    {
     "name": "stdout",
     "output_type": "stream",
     "text": [
      "[CV]  max_depth=5, max_features=0.05, n_estimators=10, n_jobs=-1, score=-1928224370.822917 -   0.2s\n",
      "[CV] max_depth=5, max_features=0.05, n_estimators=10, n_jobs=-1 ......\n",
      "[CV]  max_depth=5, max_features=0.05, n_estimators=10, n_jobs=-1, score=-1749801321.615638 -   0.2s\n",
      "[CV] max_depth=5, max_features=0.05, n_estimators=50, n_jobs=-1 ......\n",
      "[CV]  max_depth=5, max_features=0.05, n_estimators=50, n_jobs=-1, score=-1195914971.676747 -   0.2s\n",
      "[CV] max_depth=5, max_features=0.05, n_estimators=50, n_jobs=-1 ......\n",
      "[CV]  max_depth=5, max_features=0.05, n_estimators=50, n_jobs=-1, score=-1658167588.540261 -   0.2s\n",
      "[CV] max_depth=5, max_features=0.05, n_estimators=50, n_jobs=-1 ......\n",
      "[CV]  max_depth=5, max_features=0.05, n_estimators=50, n_jobs=-1, score=-1215379652.081539 -   0.2s\n",
      "[CV] max_depth=5, max_features=0.05, n_estimators=50, n_jobs=-1 ......\n",
      "[CV]  max_depth=5, max_features=0.05, n_estimators=50, n_jobs=-1, score=-1962026734.371335 -   0.2s\n",
      "[CV] max_depth=5, max_features=0.05, n_estimators=50, n_jobs=-1 ......\n",
      "[CV]  max_depth=5, max_features=0.05, n_estimators=50, n_jobs=-1, score=-1713093056.274238 -   0.2s\n",
      "[CV] max_depth=5, max_features=0.05, n_estimators=100, n_jobs=-1 .....\n",
      "[CV]  max_depth=5, max_features=0.05, n_estimators=100, n_jobs=-1, score=-1197362190.165283 -   0.3s\n",
      "[CV] max_depth=5, max_features=0.05, n_estimators=100, n_jobs=-1 .....\n",
      "[CV]  max_depth=5, max_features=0.05, n_estimators=100, n_jobs=-1, score=-1719547225.878326 -   0.3s\n",
      "[CV] max_depth=5, max_features=0.05, n_estimators=100, n_jobs=-1 .....\n",
      "[CV]  max_depth=5, max_features=0.05, n_estimators=100, n_jobs=-1, score=-1239818525.978988 -   0.3s\n",
      "[CV] max_depth=5, max_features=0.05, n_estimators=100, n_jobs=-1 .....\n",
      "[CV]  max_depth=5, max_features=0.05, n_estimators=100, n_jobs=-1, score=-1972644919.022720 -   0.3s\n",
      "[CV] max_depth=5, max_features=0.05, n_estimators=100, n_jobs=-1 .....\n",
      "[CV]  max_depth=5, max_features=0.05, n_estimators=100, n_jobs=-1, score=-1690416797.809322 -   0.3s\n",
      "[CV] max_depth=5, max_features=0.1, n_estimators=10, n_jobs=-1 .......\n",
      "[CV]  max_depth=5, max_features=0.1, n_estimators=10, n_jobs=-1, score=-1288502210.987676 -   0.2s\n",
      "[CV] max_depth=5, max_features=0.1, n_estimators=10, n_jobs=-1 .......\n",
      "[CV]  max_depth=5, max_features=0.1, n_estimators=10, n_jobs=-1, score=-1511322436.434329 -   0.2s\n",
      "[CV] max_depth=5, max_features=0.1, n_estimators=10, n_jobs=-1 .......\n",
      "[CV]  max_depth=5, max_features=0.1, n_estimators=10, n_jobs=-1, score=-1108580182.012083 -   0.2s\n",
      "[CV] max_depth=5, max_features=0.1, n_estimators=10, n_jobs=-1 .......\n",
      "[CV]  max_depth=5, max_features=0.1, n_estimators=10, n_jobs=-1, score=-1727286004.020141 -   0.2s\n",
      "[CV] max_depth=5, max_features=0.1, n_estimators=10, n_jobs=-1 .......\n",
      "[CV]  max_depth=5, max_features=0.1, n_estimators=10, n_jobs=-1, score=-1751749677.549879 -   0.2s\n",
      "[CV] max_depth=5, max_features=0.1, n_estimators=50, n_jobs=-1 .......\n",
      "[CV]  max_depth=5, max_features=0.1, n_estimators=50, n_jobs=-1, score=-1078337637.557465 -   0.2s\n",
      "[CV] max_depth=5, max_features=0.1, n_estimators=50, n_jobs=-1 .......\n",
      "[CV]  max_depth=5, max_features=0.1, n_estimators=50, n_jobs=-1, score=-1398202916.031543 -   0.2s\n",
      "[CV] max_depth=5, max_features=0.1, n_estimators=50, n_jobs=-1 .......\n",
      "[CV]  max_depth=5, max_features=0.1, n_estimators=50, n_jobs=-1, score=-985523372.326887 -   0.2s\n",
      "[CV] max_depth=5, max_features=0.1, n_estimators=50, n_jobs=-1 .......\n",
      "[CV]  max_depth=5, max_features=0.1, n_estimators=50, n_jobs=-1, score=-1583463524.876325 -   0.2s\n",
      "[CV] max_depth=5, max_features=0.1, n_estimators=50, n_jobs=-1 .......\n",
      "[CV]  max_depth=5, max_features=0.1, n_estimators=50, n_jobs=-1, score=-1440472115.215297 -   0.2s\n",
      "[CV] max_depth=5, max_features=0.1, n_estimators=100, n_jobs=-1 ......\n",
      "[CV]  max_depth=5, max_features=0.1, n_estimators=100, n_jobs=-1, score=-1046799232.787080 -   0.3s\n",
      "[CV] max_depth=5, max_features=0.1, n_estimators=100, n_jobs=-1 ......\n",
      "[CV]  max_depth=5, max_features=0.1, n_estimators=100, n_jobs=-1, score=-1238276550.644205 -   0.3s\n",
      "[CV] max_depth=5, max_features=0.1, n_estimators=100, n_jobs=-1 ......\n",
      "[CV]  max_depth=5, max_features=0.1, n_estimators=100, n_jobs=-1, score=-980129589.009917 -   0.3s\n",
      "[CV] max_depth=5, max_features=0.1, n_estimators=100, n_jobs=-1 ......\n",
      "[CV]  max_depth=5, max_features=0.1, n_estimators=100, n_jobs=-1, score=-1562018170.411920 -   0.3s\n",
      "[CV] max_depth=5, max_features=0.1, n_estimators=100, n_jobs=-1 ......\n",
      "[CV]  max_depth=5, max_features=0.1, n_estimators=100, n_jobs=-1, score=-1430596686.387144 -   0.3s\n",
      "[CV] max_depth=5, max_features=0.2, n_estimators=10, n_jobs=-1 .......\n",
      "[CV]  max_depth=5, max_features=0.2, n_estimators=10, n_jobs=-1, score=-1194064303.454168 -   0.2s\n",
      "[CV] max_depth=5, max_features=0.2, n_estimators=10, n_jobs=-1 .......\n",
      "[CV]  max_depth=5, max_features=0.2, n_estimators=10, n_jobs=-1, score=-1192647247.992783 -   0.2s\n",
      "[CV] max_depth=5, max_features=0.2, n_estimators=10, n_jobs=-1 .......\n",
      "[CV]  max_depth=5, max_features=0.2, n_estimators=10, n_jobs=-1, score=-916058262.686066 -   0.2s\n",
      "[CV] max_depth=5, max_features=0.2, n_estimators=10, n_jobs=-1 .......\n",
      "[CV]  max_depth=5, max_features=0.2, n_estimators=10, n_jobs=-1, score=-1410153388.503518 -   0.2s\n",
      "[CV] max_depth=5, max_features=0.2, n_estimators=10, n_jobs=-1 .......\n",
      "[CV]  max_depth=5, max_features=0.2, n_estimators=10, n_jobs=-1, score=-1475701162.158321 -   0.2s\n",
      "[CV] max_depth=5, max_features=0.2, n_estimators=50, n_jobs=-1 .......\n",
      "[CV]  max_depth=5, max_features=0.2, n_estimators=50, n_jobs=-1, score=-1050567373.727972 -   0.2s\n",
      "[CV] max_depth=5, max_features=0.2, n_estimators=50, n_jobs=-1 .......\n",
      "[CV]  max_depth=5, max_features=0.2, n_estimators=50, n_jobs=-1, score=-1039180157.501788 -   0.2s\n",
      "[CV] max_depth=5, max_features=0.2, n_estimators=50, n_jobs=-1 .......\n",
      "[CV]  max_depth=5, max_features=0.2, n_estimators=50, n_jobs=-1, score=-880673848.781517 -   0.2s\n",
      "[CV] max_depth=5, max_features=0.2, n_estimators=50, n_jobs=-1 .......\n",
      "[CV]  max_depth=5, max_features=0.2, n_estimators=50, n_jobs=-1, score=-1314194806.207634 -   0.2s\n",
      "[CV] max_depth=5, max_features=0.2, n_estimators=50, n_jobs=-1 .......\n",
      "[CV]  max_depth=5, max_features=0.2, n_estimators=50, n_jobs=-1, score=-1233717966.073613 -   0.2s\n",
      "[CV] max_depth=5, max_features=0.2, n_estimators=100, n_jobs=-1 ......\n",
      "[CV]  max_depth=5, max_features=0.2, n_estimators=100, n_jobs=-1, score=-1044792815.431741 -   0.3s\n",
      "[CV] max_depth=5, max_features=0.2, n_estimators=100, n_jobs=-1 ......\n",
      "[CV]  max_depth=5, max_features=0.2, n_estimators=100, n_jobs=-1, score=-1048917110.185089 -   0.3s\n",
      "[CV] max_depth=5, max_features=0.2, n_estimators=100, n_jobs=-1 ......\n",
      "[CV]  max_depth=5, max_features=0.2, n_estimators=100, n_jobs=-1, score=-892611725.577074 -   0.3s\n",
      "[CV] max_depth=5, max_features=0.2, n_estimators=100, n_jobs=-1 ......\n",
      "[CV]  max_depth=5, max_features=0.2, n_estimators=100, n_jobs=-1, score=-1372474862.133158 -   0.3s\n",
      "[CV] max_depth=5, max_features=0.2, n_estimators=100, n_jobs=-1 ......\n",
      "[CV]  max_depth=5, max_features=0.2, n_estimators=100, n_jobs=-1, score=-1252607655.200187 -   0.3s\n",
      "[CV] max_depth=5, max_features=auto, n_estimators=10, n_jobs=-1 ......\n",
      "[CV]  max_depth=5, max_features=auto, n_estimators=10, n_jobs=-1, score=-1153123084.825272 -   0.2s\n",
      "[CV] max_depth=5, max_features=auto, n_estimators=10, n_jobs=-1 ......\n",
      "[CV]  max_depth=5, max_features=auto, n_estimators=10, n_jobs=-1, score=-1161222861.143707 -   0.2s\n",
      "[CV] max_depth=5, max_features=auto, n_estimators=10, n_jobs=-1 ......\n",
      "[CV]  max_depth=5, max_features=auto, n_estimators=10, n_jobs=-1, score=-897194317.163245 -   0.2s\n",
      "[CV] max_depth=5, max_features=auto, n_estimators=10, n_jobs=-1 ......\n",
      "[CV]  max_depth=5, max_features=auto, n_estimators=10, n_jobs=-1, score=-1518565226.887679 -   0.2s\n",
      "[CV] max_depth=5, max_features=auto, n_estimators=10, n_jobs=-1 ......\n",
      "[CV]  max_depth=5, max_features=auto, n_estimators=10, n_jobs=-1, score=-1277112230.040563 -   0.2s\n",
      "[CV] max_depth=5, max_features=auto, n_estimators=50, n_jobs=-1 ......\n",
      "[CV]  max_depth=5, max_features=auto, n_estimators=50, n_jobs=-1, score=-1074310467.870524 -   0.2s\n",
      "[CV] max_depth=5, max_features=auto, n_estimators=50, n_jobs=-1 ......\n",
      "[CV]  max_depth=5, max_features=auto, n_estimators=50, n_jobs=-1, score=-1034237113.229391 -   0.2s\n",
      "[CV] max_depth=5, max_features=auto, n_estimators=50, n_jobs=-1 ......\n"
     ]
    },
    {
     "name": "stdout",
     "output_type": "stream",
     "text": [
      "[CV]  max_depth=5, max_features=auto, n_estimators=50, n_jobs=-1, score=-863604058.012485 -   0.2s\n",
      "[CV] max_depth=5, max_features=auto, n_estimators=50, n_jobs=-1 ......\n",
      "[CV]  max_depth=5, max_features=auto, n_estimators=50, n_jobs=-1, score=-1285689716.933412 -   0.2s\n",
      "[CV] max_depth=5, max_features=auto, n_estimators=50, n_jobs=-1 ......\n",
      "[CV]  max_depth=5, max_features=auto, n_estimators=50, n_jobs=-1, score=-1214540562.411051 -   0.2s\n",
      "[CV] max_depth=5, max_features=auto, n_estimators=100, n_jobs=-1 .....\n",
      "[CV]  max_depth=5, max_features=auto, n_estimators=100, n_jobs=-1, score=-1090430223.954483 -   0.3s\n",
      "[CV] max_depth=5, max_features=auto, n_estimators=100, n_jobs=-1 .....\n",
      "[CV]  max_depth=5, max_features=auto, n_estimators=100, n_jobs=-1, score=-1018836389.532876 -   0.3s\n",
      "[CV] max_depth=5, max_features=auto, n_estimators=100, n_jobs=-1 .....\n",
      "[CV]  max_depth=5, max_features=auto, n_estimators=100, n_jobs=-1, score=-857684659.691379 -   0.3s\n",
      "[CV] max_depth=5, max_features=auto, n_estimators=100, n_jobs=-1 .....\n",
      "[CV]  max_depth=5, max_features=auto, n_estimators=100, n_jobs=-1, score=-1253212472.134024 -   0.3s\n",
      "[CV] max_depth=5, max_features=auto, n_estimators=100, n_jobs=-1 .....\n",
      "[CV]  max_depth=5, max_features=auto, n_estimators=100, n_jobs=-1, score=-1229857701.276285 -   0.3s\n",
      "[CV] max_depth=10, max_features=0.05, n_estimators=10, n_jobs=-1 .....\n",
      "[CV]  max_depth=10, max_features=0.05, n_estimators=10, n_jobs=-1, score=-1248167437.040134 -   0.2s\n",
      "[CV] max_depth=10, max_features=0.05, n_estimators=10, n_jobs=-1 .....\n",
      "[CV]  max_depth=10, max_features=0.05, n_estimators=10, n_jobs=-1, score=-1511234895.947908 -   0.2s\n",
      "[CV] max_depth=10, max_features=0.05, n_estimators=10, n_jobs=-1 .....\n",
      "[CV]  max_depth=10, max_features=0.05, n_estimators=10, n_jobs=-1, score=-1051097226.363060 -   0.2s\n",
      "[CV] max_depth=10, max_features=0.05, n_estimators=10, n_jobs=-1 .....\n",
      "[CV]  max_depth=10, max_features=0.05, n_estimators=10, n_jobs=-1, score=-1577204608.865819 -   0.2s\n",
      "[CV] max_depth=10, max_features=0.05, n_estimators=10, n_jobs=-1 .....\n",
      "[CV]  max_depth=10, max_features=0.05, n_estimators=10, n_jobs=-1, score=-1263692668.775998 -   0.2s\n",
      "[CV] max_depth=10, max_features=0.05, n_estimators=50, n_jobs=-1 .....\n",
      "[CV]  max_depth=10, max_features=0.05, n_estimators=50, n_jobs=-1, score=-1008794215.083828 -   0.2s\n",
      "[CV] max_depth=10, max_features=0.05, n_estimators=50, n_jobs=-1 .....\n",
      "[CV]  max_depth=10, max_features=0.05, n_estimators=50, n_jobs=-1, score=-1196108939.522165 -   0.2s\n",
      "[CV] max_depth=10, max_features=0.05, n_estimators=50, n_jobs=-1 .....\n",
      "[CV]  max_depth=10, max_features=0.05, n_estimators=50, n_jobs=-1, score=-926897467.273790 -   0.2s\n",
      "[CV] max_depth=10, max_features=0.05, n_estimators=50, n_jobs=-1 .....\n",
      "[CV]  max_depth=10, max_features=0.05, n_estimators=50, n_jobs=-1, score=-1563484477.780769 -   0.2s\n",
      "[CV] max_depth=10, max_features=0.05, n_estimators=50, n_jobs=-1 .....\n",
      "[CV]  max_depth=10, max_features=0.05, n_estimators=50, n_jobs=-1, score=-1241732853.853186 -   0.2s\n",
      "[CV] max_depth=10, max_features=0.05, n_estimators=100, n_jobs=-1 ....\n",
      "[CV]  max_depth=10, max_features=0.05, n_estimators=100, n_jobs=-1, score=-923946979.759945 -   0.3s\n",
      "[CV] max_depth=10, max_features=0.05, n_estimators=100, n_jobs=-1 ....\n",
      "[CV]  max_depth=10, max_features=0.05, n_estimators=100, n_jobs=-1, score=-1161509618.755861 -   0.3s\n",
      "[CV] max_depth=10, max_features=0.05, n_estimators=100, n_jobs=-1 ....\n",
      "[CV]  max_depth=10, max_features=0.05, n_estimators=100, n_jobs=-1, score=-885226172.480513 -   0.3s\n",
      "[CV] max_depth=10, max_features=0.05, n_estimators=100, n_jobs=-1 ....\n",
      "[CV]  max_depth=10, max_features=0.05, n_estimators=100, n_jobs=-1, score=-1429542591.608333 -   0.3s\n",
      "[CV] max_depth=10, max_features=0.05, n_estimators=100, n_jobs=-1 ....\n",
      "[CV]  max_depth=10, max_features=0.05, n_estimators=100, n_jobs=-1, score=-1250123228.058816 -   0.3s\n",
      "[CV] max_depth=10, max_features=0.1, n_estimators=10, n_jobs=-1 ......\n",
      "[CV]  max_depth=10, max_features=0.1, n_estimators=10, n_jobs=-1, score=-1019023179.804260 -   0.2s\n",
      "[CV] max_depth=10, max_features=0.1, n_estimators=10, n_jobs=-1 ......\n",
      "[CV]  max_depth=10, max_features=0.1, n_estimators=10, n_jobs=-1, score=-1102021372.839595 -   0.2s\n",
      "[CV] max_depth=10, max_features=0.1, n_estimators=10, n_jobs=-1 ......\n",
      "[CV]  max_depth=10, max_features=0.1, n_estimators=10, n_jobs=-1, score=-976413423.463248 -   0.2s\n",
      "[CV] max_depth=10, max_features=0.1, n_estimators=10, n_jobs=-1 ......\n",
      "[CV]  max_depth=10, max_features=0.1, n_estimators=10, n_jobs=-1, score=-1412494377.640836 -   0.2s\n",
      "[CV] max_depth=10, max_features=0.1, n_estimators=10, n_jobs=-1 ......\n",
      "[CV]  max_depth=10, max_features=0.1, n_estimators=10, n_jobs=-1, score=-1410650026.840263 -   0.2s\n",
      "[CV] max_depth=10, max_features=0.1, n_estimators=50, n_jobs=-1 ......\n",
      "[CV]  max_depth=10, max_features=0.1, n_estimators=50, n_jobs=-1, score=-820710772.587990 -   0.2s\n",
      "[CV] max_depth=10, max_features=0.1, n_estimators=50, n_jobs=-1 ......\n",
      "[CV]  max_depth=10, max_features=0.1, n_estimators=50, n_jobs=-1, score=-948454649.543527 -   0.2s\n",
      "[CV] max_depth=10, max_features=0.1, n_estimators=50, n_jobs=-1 ......\n",
      "[CV]  max_depth=10, max_features=0.1, n_estimators=50, n_jobs=-1, score=-817628313.197711 -   0.2s\n",
      "[CV] max_depth=10, max_features=0.1, n_estimators=50, n_jobs=-1 ......\n",
      "[CV]  max_depth=10, max_features=0.1, n_estimators=50, n_jobs=-1, score=-1227643316.874482 -   0.2s\n",
      "[CV] max_depth=10, max_features=0.1, n_estimators=50, n_jobs=-1 ......\n",
      "[CV]  max_depth=10, max_features=0.1, n_estimators=50, n_jobs=-1, score=-1090171799.277981 -   0.2s\n",
      "[CV] max_depth=10, max_features=0.1, n_estimators=100, n_jobs=-1 .....\n",
      "[CV]  max_depth=10, max_features=0.1, n_estimators=100, n_jobs=-1, score=-908620378.473475 -   0.3s\n",
      "[CV] max_depth=10, max_features=0.1, n_estimators=100, n_jobs=-1 .....\n",
      "[CV]  max_depth=10, max_features=0.1, n_estimators=100, n_jobs=-1, score=-978114107.445489 -   0.3s\n",
      "[CV] max_depth=10, max_features=0.1, n_estimators=100, n_jobs=-1 .....\n",
      "[CV]  max_depth=10, max_features=0.1, n_estimators=100, n_jobs=-1, score=-791906468.948325 -   0.3s\n",
      "[CV] max_depth=10, max_features=0.1, n_estimators=100, n_jobs=-1 .....\n",
      "[CV]  max_depth=10, max_features=0.1, n_estimators=100, n_jobs=-1, score=-1197890837.840235 -   0.3s\n",
      "[CV] max_depth=10, max_features=0.1, n_estimators=100, n_jobs=-1 .....\n",
      "[CV]  max_depth=10, max_features=0.1, n_estimators=100, n_jobs=-1, score=-1043759972.324683 -   0.3s\n",
      "[CV] max_depth=10, max_features=0.2, n_estimators=10, n_jobs=-1 ......\n",
      "[CV]  max_depth=10, max_features=0.2, n_estimators=10, n_jobs=-1, score=-1008612283.393810 -   0.2s\n",
      "[CV] max_depth=10, max_features=0.2, n_estimators=10, n_jobs=-1 ......\n",
      "[CV]  max_depth=10, max_features=0.2, n_estimators=10, n_jobs=-1, score=-1146354077.094612 -   0.2s\n",
      "[CV] max_depth=10, max_features=0.2, n_estimators=10, n_jobs=-1 ......\n",
      "[CV]  max_depth=10, max_features=0.2, n_estimators=10, n_jobs=-1, score=-870542875.655478 -   0.2s\n",
      "[CV] max_depth=10, max_features=0.2, n_estimators=10, n_jobs=-1 ......\n",
      "[CV]  max_depth=10, max_features=0.2, n_estimators=10, n_jobs=-1, score=-1286338652.233557 -   0.2s\n",
      "[CV] max_depth=10, max_features=0.2, n_estimators=10, n_jobs=-1 ......\n",
      "[CV]  max_depth=10, max_features=0.2, n_estimators=10, n_jobs=-1, score=-1034558552.355316 -   0.2s\n",
      "[CV] max_depth=10, max_features=0.2, n_estimators=50, n_jobs=-1 ......\n",
      "[CV]  max_depth=10, max_features=0.2, n_estimators=50, n_jobs=-1, score=-911888421.778866 -   0.2s\n",
      "[CV] max_depth=10, max_features=0.2, n_estimators=50, n_jobs=-1 ......\n",
      "[CV]  max_depth=10, max_features=0.2, n_estimators=50, n_jobs=-1, score=-881048054.573075 -   0.2s\n",
      "[CV] max_depth=10, max_features=0.2, n_estimators=50, n_jobs=-1 ......\n",
      "[CV]  max_depth=10, max_features=0.2, n_estimators=50, n_jobs=-1, score=-730075976.277708 -   0.2s\n",
      "[CV] max_depth=10, max_features=0.2, n_estimators=50, n_jobs=-1 ......\n",
      "[CV]  max_depth=10, max_features=0.2, n_estimators=50, n_jobs=-1, score=-1096953878.728070 -   0.2s\n",
      "[CV] max_depth=10, max_features=0.2, n_estimators=50, n_jobs=-1 ......\n",
      "[CV]  max_depth=10, max_features=0.2, n_estimators=50, n_jobs=-1, score=-930592259.824080 -   0.2s\n",
      "[CV] max_depth=10, max_features=0.2, n_estimators=100, n_jobs=-1 .....\n"
     ]
    },
    {
     "name": "stdout",
     "output_type": "stream",
     "text": [
      "[CV]  max_depth=10, max_features=0.2, n_estimators=100, n_jobs=-1, score=-877190126.948539 -   0.3s\n",
      "[CV] max_depth=10, max_features=0.2, n_estimators=100, n_jobs=-1 .....\n",
      "[CV]  max_depth=10, max_features=0.2, n_estimators=100, n_jobs=-1, score=-873335249.532679 -   0.3s\n",
      "[CV] max_depth=10, max_features=0.2, n_estimators=100, n_jobs=-1 .....\n",
      "[CV]  max_depth=10, max_features=0.2, n_estimators=100, n_jobs=-1, score=-717599241.641485 -   0.3s\n",
      "[CV] max_depth=10, max_features=0.2, n_estimators=100, n_jobs=-1 .....\n",
      "[CV]  max_depth=10, max_features=0.2, n_estimators=100, n_jobs=-1, score=-1142558613.361517 -   0.3s\n",
      "[CV] max_depth=10, max_features=0.2, n_estimators=100, n_jobs=-1 .....\n",
      "[CV]  max_depth=10, max_features=0.2, n_estimators=100, n_jobs=-1, score=-964621961.051297 -   0.3s\n",
      "[CV] max_depth=10, max_features=auto, n_estimators=10, n_jobs=-1 .....\n",
      "[CV]  max_depth=10, max_features=auto, n_estimators=10, n_jobs=-1, score=-976195461.013404 -   0.2s\n",
      "[CV] max_depth=10, max_features=auto, n_estimators=10, n_jobs=-1 .....\n",
      "[CV]  max_depth=10, max_features=auto, n_estimators=10, n_jobs=-1, score=-1086283821.838337 -   0.2s\n",
      "[CV] max_depth=10, max_features=auto, n_estimators=10, n_jobs=-1 .....\n",
      "[CV]  max_depth=10, max_features=auto, n_estimators=10, n_jobs=-1, score=-801718156.932070 -   0.2s\n",
      "[CV] max_depth=10, max_features=auto, n_estimators=10, n_jobs=-1 .....\n",
      "[CV]  max_depth=10, max_features=auto, n_estimators=10, n_jobs=-1, score=-1098768820.439701 -   0.2s\n",
      "[CV] max_depth=10, max_features=auto, n_estimators=10, n_jobs=-1 .....\n",
      "[CV]  max_depth=10, max_features=auto, n_estimators=10, n_jobs=-1, score=-1306749928.519407 -   0.2s\n",
      "[CV] max_depth=10, max_features=auto, n_estimators=50, n_jobs=-1 .....\n",
      "[CV]  max_depth=10, max_features=auto, n_estimators=50, n_jobs=-1, score=-975003011.263880 -   0.2s\n",
      "[CV] max_depth=10, max_features=auto, n_estimators=50, n_jobs=-1 .....\n",
      "[CV]  max_depth=10, max_features=auto, n_estimators=50, n_jobs=-1, score=-886810466.789191 -   0.2s\n",
      "[CV] max_depth=10, max_features=auto, n_estimators=50, n_jobs=-1 .....\n",
      "[CV]  max_depth=10, max_features=auto, n_estimators=50, n_jobs=-1, score=-721788784.350721 -   0.2s\n",
      "[CV] max_depth=10, max_features=auto, n_estimators=50, n_jobs=-1 .....\n",
      "[CV]  max_depth=10, max_features=auto, n_estimators=50, n_jobs=-1, score=-1094531064.605958 -   0.2s\n",
      "[CV] max_depth=10, max_features=auto, n_estimators=50, n_jobs=-1 .....\n",
      "[CV]  max_depth=10, max_features=auto, n_estimators=50, n_jobs=-1, score=-1077659098.315234 -   0.2s\n",
      "[CV] max_depth=10, max_features=auto, n_estimators=100, n_jobs=-1 ....\n",
      "[CV]  max_depth=10, max_features=auto, n_estimators=100, n_jobs=-1, score=-985775250.218590 -   0.4s\n",
      "[CV] max_depth=10, max_features=auto, n_estimators=100, n_jobs=-1 ....\n",
      "[CV]  max_depth=10, max_features=auto, n_estimators=100, n_jobs=-1, score=-883499188.300724 -   0.4s\n",
      "[CV] max_depth=10, max_features=auto, n_estimators=100, n_jobs=-1 ....\n",
      "[CV]  max_depth=10, max_features=auto, n_estimators=100, n_jobs=-1, score=-713033287.662245 -   0.4s\n",
      "[CV] max_depth=10, max_features=auto, n_estimators=100, n_jobs=-1 ....\n",
      "[CV]  max_depth=10, max_features=auto, n_estimators=100, n_jobs=-1, score=-1086625073.137625 -   0.4s\n",
      "[CV] max_depth=10, max_features=auto, n_estimators=100, n_jobs=-1 ....\n",
      "[CV]  max_depth=10, max_features=auto, n_estimators=100, n_jobs=-1, score=-1069980464.525417 -   0.5s\n",
      "[CV] max_depth=15, max_features=0.05, n_estimators=10, n_jobs=-1 .....\n",
      "[CV]  max_depth=15, max_features=0.05, n_estimators=10, n_jobs=-1, score=-1021112783.634694 -   0.2s\n",
      "[CV] max_depth=15, max_features=0.05, n_estimators=10, n_jobs=-1 .....\n",
      "[CV]  max_depth=15, max_features=0.05, n_estimators=10, n_jobs=-1, score=-1248482039.069334 -   0.2s\n",
      "[CV] max_depth=15, max_features=0.05, n_estimators=10, n_jobs=-1 .....\n",
      "[CV]  max_depth=15, max_features=0.05, n_estimators=10, n_jobs=-1, score=-989064077.108406 -   0.2s\n",
      "[CV] max_depth=15, max_features=0.05, n_estimators=10, n_jobs=-1 .....\n",
      "[CV]  max_depth=15, max_features=0.05, n_estimators=10, n_jobs=-1, score=-1631246582.793887 -   0.2s\n",
      "[CV] max_depth=15, max_features=0.05, n_estimators=10, n_jobs=-1 .....\n",
      "[CV]  max_depth=15, max_features=0.05, n_estimators=10, n_jobs=-1, score=-1421896808.415859 -   0.2s\n",
      "[CV] max_depth=15, max_features=0.05, n_estimators=50, n_jobs=-1 .....\n",
      "[CV]  max_depth=15, max_features=0.05, n_estimators=50, n_jobs=-1, score=-873003455.386328 -   0.2s\n",
      "[CV] max_depth=15, max_features=0.05, n_estimators=50, n_jobs=-1 .....\n",
      "[CV]  max_depth=15, max_features=0.05, n_estimators=50, n_jobs=-1, score=-1151830376.762738 -   0.2s\n",
      "[CV] max_depth=15, max_features=0.05, n_estimators=50, n_jobs=-1 .....\n",
      "[CV]  max_depth=15, max_features=0.05, n_estimators=50, n_jobs=-1, score=-856201318.579970 -   0.2s\n",
      "[CV] max_depth=15, max_features=0.05, n_estimators=50, n_jobs=-1 .....\n",
      "[CV]  max_depth=15, max_features=0.05, n_estimators=50, n_jobs=-1, score=-1451097692.183435 -   0.2s\n",
      "[CV] max_depth=15, max_features=0.05, n_estimators=50, n_jobs=-1 .....\n",
      "[CV]  max_depth=15, max_features=0.05, n_estimators=50, n_jobs=-1, score=-1267267447.153265 -   0.2s\n",
      "[CV] max_depth=15, max_features=0.05, n_estimators=100, n_jobs=-1 ....\n",
      "[CV]  max_depth=15, max_features=0.05, n_estimators=100, n_jobs=-1, score=-851966591.087727 -   0.3s\n",
      "[CV] max_depth=15, max_features=0.05, n_estimators=100, n_jobs=-1 ....\n",
      "[CV]  max_depth=15, max_features=0.05, n_estimators=100, n_jobs=-1, score=-1123288933.625090 -   0.3s\n",
      "[CV] max_depth=15, max_features=0.05, n_estimators=100, n_jobs=-1 ....\n",
      "[CV]  max_depth=15, max_features=0.05, n_estimators=100, n_jobs=-1, score=-864549848.270413 -   0.3s\n",
      "[CV] max_depth=15, max_features=0.05, n_estimators=100, n_jobs=-1 ....\n",
      "[CV]  max_depth=15, max_features=0.05, n_estimators=100, n_jobs=-1, score=-1422866542.702539 -   0.3s\n",
      "[CV] max_depth=15, max_features=0.05, n_estimators=100, n_jobs=-1 ....\n",
      "[CV]  max_depth=15, max_features=0.05, n_estimators=100, n_jobs=-1, score=-1266822448.810429 -   0.3s\n",
      "[CV] max_depth=15, max_features=0.1, n_estimators=10, n_jobs=-1 ......\n",
      "[CV]  max_depth=15, max_features=0.1, n_estimators=10, n_jobs=-1, score=-1019059301.212019 -   0.2s\n",
      "[CV] max_depth=15, max_features=0.1, n_estimators=10, n_jobs=-1 ......\n",
      "[CV]  max_depth=15, max_features=0.1, n_estimators=10, n_jobs=-1, score=-1066218203.264112 -   0.2s\n",
      "[CV] max_depth=15, max_features=0.1, n_estimators=10, n_jobs=-1 ......\n",
      "[CV]  max_depth=15, max_features=0.1, n_estimators=10, n_jobs=-1, score=-826716576.530453 -   0.2s\n",
      "[CV] max_depth=15, max_features=0.1, n_estimators=10, n_jobs=-1 ......\n",
      "[CV]  max_depth=15, max_features=0.1, n_estimators=10, n_jobs=-1, score=-1304817167.992590 -   0.2s\n",
      "[CV] max_depth=15, max_features=0.1, n_estimators=10, n_jobs=-1 ......\n",
      "[CV]  max_depth=15, max_features=0.1, n_estimators=10, n_jobs=-1, score=-1262365632.830892 -   0.2s\n",
      "[CV] max_depth=15, max_features=0.1, n_estimators=50, n_jobs=-1 ......\n",
      "[CV]  max_depth=15, max_features=0.1, n_estimators=50, n_jobs=-1, score=-998018070.017859 -   0.2s\n",
      "[CV] max_depth=15, max_features=0.1, n_estimators=50, n_jobs=-1 ......\n",
      "[CV]  max_depth=15, max_features=0.1, n_estimators=50, n_jobs=-1, score=-961857619.588558 -   0.2s\n",
      "[CV] max_depth=15, max_features=0.1, n_estimators=50, n_jobs=-1 ......\n",
      "[CV]  max_depth=15, max_features=0.1, n_estimators=50, n_jobs=-1, score=-740271486.851613 -   0.2s\n",
      "[CV] max_depth=15, max_features=0.1, n_estimators=50, n_jobs=-1 ......\n",
      "[CV]  max_depth=15, max_features=0.1, n_estimators=50, n_jobs=-1, score=-1238733327.303510 -   0.2s\n",
      "[CV] max_depth=15, max_features=0.1, n_estimators=50, n_jobs=-1 ......\n",
      "[CV]  max_depth=15, max_features=0.1, n_estimators=50, n_jobs=-1, score=-1167535426.876083 -   0.2s\n",
      "[CV] max_depth=15, max_features=0.1, n_estimators=100, n_jobs=-1 .....\n",
      "[CV]  max_depth=15, max_features=0.1, n_estimators=100, n_jobs=-1, score=-926201824.839639 -   0.3s\n",
      "[CV] max_depth=15, max_features=0.1, n_estimators=100, n_jobs=-1 .....\n",
      "[CV]  max_depth=15, max_features=0.1, n_estimators=100, n_jobs=-1, score=-891055736.245900 -   0.3s\n",
      "[CV] max_depth=15, max_features=0.1, n_estimators=100, n_jobs=-1 .....\n",
      "[CV]  max_depth=15, max_features=0.1, n_estimators=100, n_jobs=-1, score=-740822037.660931 -   0.3s\n",
      "[CV] max_depth=15, max_features=0.1, n_estimators=100, n_jobs=-1 .....\n"
     ]
    },
    {
     "name": "stdout",
     "output_type": "stream",
     "text": [
      "[CV]  max_depth=15, max_features=0.1, n_estimators=100, n_jobs=-1, score=-1217225747.192477 -   0.3s\n",
      "[CV] max_depth=15, max_features=0.1, n_estimators=100, n_jobs=-1 .....\n",
      "[CV]  max_depth=15, max_features=0.1, n_estimators=100, n_jobs=-1, score=-1081991101.475203 -   0.3s\n",
      "[CV] max_depth=15, max_features=0.2, n_estimators=10, n_jobs=-1 ......\n",
      "[CV]  max_depth=15, max_features=0.2, n_estimators=10, n_jobs=-1, score=-889533393.318429 -   0.2s\n",
      "[CV] max_depth=15, max_features=0.2, n_estimators=10, n_jobs=-1 ......\n",
      "[CV]  max_depth=15, max_features=0.2, n_estimators=10, n_jobs=-1, score=-942388237.277772 -   0.2s\n",
      "[CV] max_depth=15, max_features=0.2, n_estimators=10, n_jobs=-1 ......\n",
      "[CV]  max_depth=15, max_features=0.2, n_estimators=10, n_jobs=-1, score=-756589435.164868 -   0.2s\n",
      "[CV] max_depth=15, max_features=0.2, n_estimators=10, n_jobs=-1 ......\n",
      "[CV]  max_depth=15, max_features=0.2, n_estimators=10, n_jobs=-1, score=-1358838653.003692 -   0.2s\n",
      "[CV] max_depth=15, max_features=0.2, n_estimators=10, n_jobs=-1 ......\n",
      "[CV]  max_depth=15, max_features=0.2, n_estimators=10, n_jobs=-1, score=-1227557374.101707 -   0.2s\n",
      "[CV] max_depth=15, max_features=0.2, n_estimators=50, n_jobs=-1 ......\n",
      "[CV]  max_depth=15, max_features=0.2, n_estimators=50, n_jobs=-1, score=-913418780.279895 -   0.2s\n",
      "[CV] max_depth=15, max_features=0.2, n_estimators=50, n_jobs=-1 ......\n",
      "[CV]  max_depth=15, max_features=0.2, n_estimators=50, n_jobs=-1, score=-886169047.135695 -   0.3s\n",
      "[CV] max_depth=15, max_features=0.2, n_estimators=50, n_jobs=-1 ......\n",
      "[CV]  max_depth=15, max_features=0.2, n_estimators=50, n_jobs=-1, score=-761809557.387108 -   0.2s\n",
      "[CV] max_depth=15, max_features=0.2, n_estimators=50, n_jobs=-1 ......\n",
      "[CV]  max_depth=15, max_features=0.2, n_estimators=50, n_jobs=-1, score=-1123613998.399810 -   0.2s\n",
      "[CV] max_depth=15, max_features=0.2, n_estimators=50, n_jobs=-1 ......\n",
      "[CV]  max_depth=15, max_features=0.2, n_estimators=50, n_jobs=-1, score=-1016721598.389108 -   0.2s\n",
      "[CV] max_depth=15, max_features=0.2, n_estimators=100, n_jobs=-1 .....\n",
      "[CV]  max_depth=15, max_features=0.2, n_estimators=100, n_jobs=-1, score=-890415992.964607 -   0.3s\n",
      "[CV] max_depth=15, max_features=0.2, n_estimators=100, n_jobs=-1 .....\n",
      "[CV]  max_depth=15, max_features=0.2, n_estimators=100, n_jobs=-1, score=-860651372.751372 -   0.3s\n",
      "[CV] max_depth=15, max_features=0.2, n_estimators=100, n_jobs=-1 .....\n",
      "[CV]  max_depth=15, max_features=0.2, n_estimators=100, n_jobs=-1, score=-738654710.020150 -   0.3s\n",
      "[CV] max_depth=15, max_features=0.2, n_estimators=100, n_jobs=-1 .....\n",
      "[CV]  max_depth=15, max_features=0.2, n_estimators=100, n_jobs=-1, score=-1098115914.281207 -   0.3s\n",
      "[CV] max_depth=15, max_features=0.2, n_estimators=100, n_jobs=-1 .....\n",
      "[CV]  max_depth=15, max_features=0.2, n_estimators=100, n_jobs=-1, score=-1032667890.788293 -   0.3s\n",
      "[CV] max_depth=15, max_features=auto, n_estimators=10, n_jobs=-1 .....\n",
      "[CV]  max_depth=15, max_features=auto, n_estimators=10, n_jobs=-1, score=-1029802952.497241 -   0.2s\n",
      "[CV] max_depth=15, max_features=auto, n_estimators=10, n_jobs=-1 .....\n",
      "[CV]  max_depth=15, max_features=auto, n_estimators=10, n_jobs=-1, score=-1088530627.473084 -   0.2s\n",
      "[CV] max_depth=15, max_features=auto, n_estimators=10, n_jobs=-1 .....\n",
      "[CV]  max_depth=15, max_features=auto, n_estimators=10, n_jobs=-1, score=-729776863.908107 -   0.2s\n",
      "[CV] max_depth=15, max_features=auto, n_estimators=10, n_jobs=-1 .....\n",
      "[CV]  max_depth=15, max_features=auto, n_estimators=10, n_jobs=-1, score=-1211377445.225306 -   0.2s\n",
      "[CV] max_depth=15, max_features=auto, n_estimators=10, n_jobs=-1 .....\n",
      "[CV]  max_depth=15, max_features=auto, n_estimators=10, n_jobs=-1, score=-1115457859.348224 -   0.2s\n",
      "[CV] max_depth=15, max_features=auto, n_estimators=50, n_jobs=-1 .....\n",
      "[CV]  max_depth=15, max_features=auto, n_estimators=50, n_jobs=-1, score=-943826578.582087 -   0.2s\n",
      "[CV] max_depth=15, max_features=auto, n_estimators=50, n_jobs=-1 .....\n",
      "[CV]  max_depth=15, max_features=auto, n_estimators=50, n_jobs=-1, score=-864259737.967595 -   0.2s\n",
      "[CV] max_depth=15, max_features=auto, n_estimators=50, n_jobs=-1 .....\n",
      "[CV]  max_depth=15, max_features=auto, n_estimators=50, n_jobs=-1, score=-690447776.467162 -   0.2s\n",
      "[CV] max_depth=15, max_features=auto, n_estimators=50, n_jobs=-1 .....\n",
      "[CV]  max_depth=15, max_features=auto, n_estimators=50, n_jobs=-1, score=-1053588926.537011 -   0.2s\n",
      "[CV] max_depth=15, max_features=auto, n_estimators=50, n_jobs=-1 .....\n",
      "[CV]  max_depth=15, max_features=auto, n_estimators=50, n_jobs=-1, score=-1066532318.582808 -   0.2s\n",
      "[CV] max_depth=15, max_features=auto, n_estimators=100, n_jobs=-1 ....\n",
      "[CV]  max_depth=15, max_features=auto, n_estimators=100, n_jobs=-1, score=-973959341.700186 -   0.4s\n",
      "[CV] max_depth=15, max_features=auto, n_estimators=100, n_jobs=-1 ....\n",
      "[CV]  max_depth=15, max_features=auto, n_estimators=100, n_jobs=-1, score=-852227803.206498 -   0.4s\n",
      "[CV] max_depth=15, max_features=auto, n_estimators=100, n_jobs=-1 ....\n",
      "[CV]  max_depth=15, max_features=auto, n_estimators=100, n_jobs=-1, score=-699971092.911704 -   0.4s\n",
      "[CV] max_depth=15, max_features=auto, n_estimators=100, n_jobs=-1 ....\n",
      "[CV]  max_depth=15, max_features=auto, n_estimators=100, n_jobs=-1, score=-1034194894.327484 -   0.4s\n",
      "[CV] max_depth=15, max_features=auto, n_estimators=100, n_jobs=-1 ....\n",
      "[CV]  max_depth=15, max_features=auto, n_estimators=100, n_jobs=-1, score=-1069198316.240077 -   0.4s\n",
      "[CV] max_depth=None, max_features=0.05, n_estimators=10, n_jobs=-1 ...\n",
      "[CV]  max_depth=None, max_features=0.05, n_estimators=10, n_jobs=-1, score=-952890357.291020 -   0.2s\n",
      "[CV] max_depth=None, max_features=0.05, n_estimators=10, n_jobs=-1 ...\n",
      "[CV]  max_depth=None, max_features=0.05, n_estimators=10, n_jobs=-1, score=-1480408343.548469 -   0.2s\n",
      "[CV] max_depth=None, max_features=0.05, n_estimators=10, n_jobs=-1 ...\n",
      "[CV]  max_depth=None, max_features=0.05, n_estimators=10, n_jobs=-1, score=-917574670.293316 -   0.2s\n",
      "[CV] max_depth=None, max_features=0.05, n_estimators=10, n_jobs=-1 ...\n",
      "[CV]  max_depth=None, max_features=0.05, n_estimators=10, n_jobs=-1, score=-1480578879.845539 -   0.2s\n",
      "[CV] max_depth=None, max_features=0.05, n_estimators=10, n_jobs=-1 ...\n",
      "[CV]  max_depth=None, max_features=0.05, n_estimators=10, n_jobs=-1, score=-1744291565.962769 -   0.2s\n",
      "[CV] max_depth=None, max_features=0.05, n_estimators=50, n_jobs=-1 ...\n",
      "[CV]  max_depth=None, max_features=0.05, n_estimators=50, n_jobs=-1, score=-905984751.283271 -   0.2s\n",
      "[CV] max_depth=None, max_features=0.05, n_estimators=50, n_jobs=-1 ...\n",
      "[CV]  max_depth=None, max_features=0.05, n_estimators=50, n_jobs=-1, score=-1219197418.486863 -   0.2s\n",
      "[CV] max_depth=None, max_features=0.05, n_estimators=50, n_jobs=-1 ...\n",
      "[CV]  max_depth=None, max_features=0.05, n_estimators=50, n_jobs=-1, score=-826113939.476043 -   0.2s\n",
      "[CV] max_depth=None, max_features=0.05, n_estimators=50, n_jobs=-1 ...\n",
      "[CV]  max_depth=None, max_features=0.05, n_estimators=50, n_jobs=-1, score=-1464651852.307840 -   0.2s\n",
      "[CV] max_depth=None, max_features=0.05, n_estimators=50, n_jobs=-1 ...\n",
      "[CV]  max_depth=None, max_features=0.05, n_estimators=50, n_jobs=-1, score=-1400621607.704545 -   0.2s\n",
      "[CV] max_depth=None, max_features=0.05, n_estimators=100, n_jobs=-1 ..\n",
      "[CV]  max_depth=None, max_features=0.05, n_estimators=100, n_jobs=-1, score=-918313459.924680 -   0.3s\n",
      "[CV] max_depth=None, max_features=0.05, n_estimators=100, n_jobs=-1 ..\n",
      "[CV]  max_depth=None, max_features=0.05, n_estimators=100, n_jobs=-1, score=-1167265149.863306 -   0.3s\n",
      "[CV] max_depth=None, max_features=0.05, n_estimators=100, n_jobs=-1 ..\n",
      "[CV]  max_depth=None, max_features=0.05, n_estimators=100, n_jobs=-1, score=-803556427.824407 -   0.3s\n",
      "[CV] max_depth=None, max_features=0.05, n_estimators=100, n_jobs=-1 ..\n",
      "[CV]  max_depth=None, max_features=0.05, n_estimators=100, n_jobs=-1, score=-1428466825.743978 -   0.3s\n",
      "[CV] max_depth=None, max_features=0.05, n_estimators=100, n_jobs=-1 ..\n",
      "[CV]  max_depth=None, max_features=0.05, n_estimators=100, n_jobs=-1, score=-1301108463.522199 -   0.3s\n",
      "[CV] max_depth=None, max_features=0.1, n_estimators=10, n_jobs=-1 ....\n",
      "[CV]  max_depth=None, max_features=0.1, n_estimators=10, n_jobs=-1, score=-1080373131.933367 -   0.2s\n",
      "[CV] max_depth=None, max_features=0.1, n_estimators=10, n_jobs=-1 ....\n"
     ]
    },
    {
     "name": "stdout",
     "output_type": "stream",
     "text": [
      "[CV]  max_depth=None, max_features=0.1, n_estimators=10, n_jobs=-1, score=-1065463536.906684 -   0.2s\n",
      "[CV] max_depth=None, max_features=0.1, n_estimators=10, n_jobs=-1 ....\n",
      "[CV]  max_depth=None, max_features=0.1, n_estimators=10, n_jobs=-1, score=-887455941.630102 -   0.2s\n",
      "[CV] max_depth=None, max_features=0.1, n_estimators=10, n_jobs=-1 ....\n",
      "[CV]  max_depth=None, max_features=0.1, n_estimators=10, n_jobs=-1, score=-1276284261.298667 -   0.2s\n",
      "[CV] max_depth=None, max_features=0.1, n_estimators=10, n_jobs=-1 ....\n",
      "[CV]  max_depth=None, max_features=0.1, n_estimators=10, n_jobs=-1, score=-1315145728.519795 -   0.2s\n",
      "[CV] max_depth=None, max_features=0.1, n_estimators=50, n_jobs=-1 ....\n",
      "[CV]  max_depth=None, max_features=0.1, n_estimators=50, n_jobs=-1, score=-949852349.241831 -   0.2s\n",
      "[CV] max_depth=None, max_features=0.1, n_estimators=50, n_jobs=-1 ....\n",
      "[CV]  max_depth=None, max_features=0.1, n_estimators=50, n_jobs=-1, score=-963704006.230720 -   0.2s\n",
      "[CV] max_depth=None, max_features=0.1, n_estimators=50, n_jobs=-1 ....\n",
      "[CV]  max_depth=None, max_features=0.1, n_estimators=50, n_jobs=-1, score=-773738591.844459 -   0.2s\n",
      "[CV] max_depth=None, max_features=0.1, n_estimators=50, n_jobs=-1 ....\n",
      "[CV]  max_depth=None, max_features=0.1, n_estimators=50, n_jobs=-1, score=-1216985176.888402 -   0.2s\n",
      "[CV] max_depth=None, max_features=0.1, n_estimators=50, n_jobs=-1 ....\n",
      "[CV]  max_depth=None, max_features=0.1, n_estimators=50, n_jobs=-1, score=-1083326073.616921 -   0.2s\n",
      "[CV] max_depth=None, max_features=0.1, n_estimators=100, n_jobs=-1 ...\n",
      "[CV]  max_depth=None, max_features=0.1, n_estimators=100, n_jobs=-1, score=-932760168.690741 -   0.3s\n",
      "[CV] max_depth=None, max_features=0.1, n_estimators=100, n_jobs=-1 ...\n",
      "[CV]  max_depth=None, max_features=0.1, n_estimators=100, n_jobs=-1, score=-942759708.122838 -   0.3s\n",
      "[CV] max_depth=None, max_features=0.1, n_estimators=100, n_jobs=-1 ...\n",
      "[CV]  max_depth=None, max_features=0.1, n_estimators=100, n_jobs=-1, score=-744298493.706363 -   0.3s\n",
      "[CV] max_depth=None, max_features=0.1, n_estimators=100, n_jobs=-1 ...\n",
      "[CV]  max_depth=None, max_features=0.1, n_estimators=100, n_jobs=-1, score=-1246734041.147830 -   0.3s\n",
      "[CV] max_depth=None, max_features=0.1, n_estimators=100, n_jobs=-1 ...\n",
      "[CV]  max_depth=None, max_features=0.1, n_estimators=100, n_jobs=-1, score=-1086045200.366319 -   0.3s\n",
      "[CV] max_depth=None, max_features=0.2, n_estimators=10, n_jobs=-1 ....\n",
      "[CV]  max_depth=None, max_features=0.2, n_estimators=10, n_jobs=-1, score=-1042646325.450204 -   0.2s\n",
      "[CV] max_depth=None, max_features=0.2, n_estimators=10, n_jobs=-1 ....\n",
      "[CV]  max_depth=None, max_features=0.2, n_estimators=10, n_jobs=-1, score=-1028081446.822449 -   0.2s\n",
      "[CV] max_depth=None, max_features=0.2, n_estimators=10, n_jobs=-1 ....\n",
      "[CV]  max_depth=None, max_features=0.2, n_estimators=10, n_jobs=-1, score=-836551223.268367 -   0.2s\n",
      "[CV] max_depth=None, max_features=0.2, n_estimators=10, n_jobs=-1 ....\n",
      "[CV]  max_depth=None, max_features=0.2, n_estimators=10, n_jobs=-1, score=-1094845316.139641 -   0.2s\n",
      "[CV] max_depth=None, max_features=0.2, n_estimators=10, n_jobs=-1 ....\n",
      "[CV]  max_depth=None, max_features=0.2, n_estimators=10, n_jobs=-1, score=-1159054623.795282 -   0.2s\n",
      "[CV] max_depth=None, max_features=0.2, n_estimators=50, n_jobs=-1 ....\n",
      "[CV]  max_depth=None, max_features=0.2, n_estimators=50, n_jobs=-1, score=-863136035.867888 -   0.2s\n",
      "[CV] max_depth=None, max_features=0.2, n_estimators=50, n_jobs=-1 ....\n",
      "[CV]  max_depth=None, max_features=0.2, n_estimators=50, n_jobs=-1, score=-845378886.046947 -   0.2s\n",
      "[CV] max_depth=None, max_features=0.2, n_estimators=50, n_jobs=-1 ....\n",
      "[CV]  max_depth=None, max_features=0.2, n_estimators=50, n_jobs=-1, score=-715182592.614416 -   0.2s\n",
      "[CV] max_depth=None, max_features=0.2, n_estimators=50, n_jobs=-1 ....\n",
      "[CV]  max_depth=None, max_features=0.2, n_estimators=50, n_jobs=-1, score=-1106046904.100099 -   0.2s\n",
      "[CV] max_depth=None, max_features=0.2, n_estimators=50, n_jobs=-1 ....\n",
      "[CV]  max_depth=None, max_features=0.2, n_estimators=50, n_jobs=-1, score=-1023143804.999344 -   0.2s\n",
      "[CV] max_depth=None, max_features=0.2, n_estimators=100, n_jobs=-1 ...\n",
      "[CV]  max_depth=None, max_features=0.2, n_estimators=100, n_jobs=-1, score=-879904534.439430 -   0.3s\n",
      "[CV] max_depth=None, max_features=0.2, n_estimators=100, n_jobs=-1 ...\n",
      "[CV]  max_depth=None, max_features=0.2, n_estimators=100, n_jobs=-1, score=-846912313.514099 -   0.3s\n",
      "[CV] max_depth=None, max_features=0.2, n_estimators=100, n_jobs=-1 ...\n",
      "[CV]  max_depth=None, max_features=0.2, n_estimators=100, n_jobs=-1, score=-734551300.655391 -   0.3s\n",
      "[CV] max_depth=None, max_features=0.2, n_estimators=100, n_jobs=-1 ...\n",
      "[CV]  max_depth=None, max_features=0.2, n_estimators=100, n_jobs=-1, score=-1096214080.954905 -   0.3s\n",
      "[CV] max_depth=None, max_features=0.2, n_estimators=100, n_jobs=-1 ...\n",
      "[CV]  max_depth=None, max_features=0.2, n_estimators=100, n_jobs=-1, score=-1027169570.182397 -   0.3s\n",
      "[CV] max_depth=None, max_features=auto, n_estimators=10, n_jobs=-1 ...\n",
      "[CV]  max_depth=None, max_features=auto, n_estimators=10, n_jobs=-1, score=-1061599035.411173 -   0.2s\n",
      "[CV] max_depth=None, max_features=auto, n_estimators=10, n_jobs=-1 ...\n",
      "[CV]  max_depth=None, max_features=auto, n_estimators=10, n_jobs=-1, score=-1017064911.877653 -   0.2s\n",
      "[CV] max_depth=None, max_features=auto, n_estimators=10, n_jobs=-1 ...\n",
      "[CV]  max_depth=None, max_features=auto, n_estimators=10, n_jobs=-1, score=-757789200.861531 -   0.2s\n",
      "[CV] max_depth=None, max_features=auto, n_estimators=10, n_jobs=-1 ...\n",
      "[CV]  max_depth=None, max_features=auto, n_estimators=10, n_jobs=-1, score=-1161864565.245385 -   0.2s\n",
      "[CV] max_depth=None, max_features=auto, n_estimators=10, n_jobs=-1 ...\n",
      "[CV]  max_depth=None, max_features=auto, n_estimators=10, n_jobs=-1, score=-1050386302.798718 -   0.2s\n",
      "[CV] max_depth=None, max_features=auto, n_estimators=50, n_jobs=-1 ...\n",
      "[CV]  max_depth=None, max_features=auto, n_estimators=50, n_jobs=-1, score=-959122200.602416 -   0.2s\n",
      "[CV] max_depth=None, max_features=auto, n_estimators=50, n_jobs=-1 ...\n",
      "[CV]  max_depth=None, max_features=auto, n_estimators=50, n_jobs=-1, score=-844270277.352347 -   0.2s\n",
      "[CV] max_depth=None, max_features=auto, n_estimators=50, n_jobs=-1 ...\n",
      "[CV]  max_depth=None, max_features=auto, n_estimators=50, n_jobs=-1, score=-708490294.337084 -   0.2s\n",
      "[CV] max_depth=None, max_features=auto, n_estimators=50, n_jobs=-1 ...\n",
      "[CV]  max_depth=None, max_features=auto, n_estimators=50, n_jobs=-1, score=-1076140157.624121 -   0.2s\n",
      "[CV] max_depth=None, max_features=auto, n_estimators=50, n_jobs=-1 ...\n",
      "[CV]  max_depth=None, max_features=auto, n_estimators=50, n_jobs=-1, score=-1058604451.549738 -   0.2s\n",
      "[CV] max_depth=None, max_features=auto, n_estimators=100, n_jobs=-1 ..\n",
      "[CV]  max_depth=None, max_features=auto, n_estimators=100, n_jobs=-1, score=-971976928.141875 -   0.5s\n",
      "[CV] max_depth=None, max_features=auto, n_estimators=100, n_jobs=-1 ..\n",
      "[CV]  max_depth=None, max_features=auto, n_estimators=100, n_jobs=-1, score=-846373482.734034 -   0.5s\n",
      "[CV] max_depth=None, max_features=auto, n_estimators=100, n_jobs=-1 ..\n",
      "[CV]  max_depth=None, max_features=auto, n_estimators=100, n_jobs=-1, score=-699278074.587946 -   0.5s\n",
      "[CV] max_depth=None, max_features=auto, n_estimators=100, n_jobs=-1 ..\n",
      "[CV]  max_depth=None, max_features=auto, n_estimators=100, n_jobs=-1, score=-1066909046.835033 -   0.4s\n",
      "[CV] max_depth=None, max_features=auto, n_estimators=100, n_jobs=-1 ..\n",
      "[CV]  max_depth=None, max_features=auto, n_estimators=100, n_jobs=-1, score=-1066138989.579163 -   0.4s\n"
     ]
    },
    {
     "name": "stderr",
     "output_type": "stream",
     "text": [
      "[Parallel(n_jobs=1)]: Done 240 out of 240 | elapsed:   59.1s finished\n"
     ]
    },
    {
     "data": {
      "text/plain": [
       "GridSearchCV(cv=[(array([  0,   1, ..., 976, 977]), array([  5,   8, ..., 970, 974])), (array([  0,   3, ..., 975, 977]), array([  1,   2, ..., 971, 976])), (array([  1,   2, ..., 974, 976]), array([  0,   3, ..., 975, 977])), (array([  0,   1, ..., 976, 977]), array([  4,  13, ..., 972, 973])), (array([  0,   1, ..., 976, 977]), array([  9,  11, ..., 958, 961]))],\n",
       "       error_score='raise',\n",
       "       estimator=RandomForestRegressor(bootstrap=True, criterion='mse', max_depth=None,\n",
       "           max_features='auto', max_leaf_nodes=None,\n",
       "           min_impurity_decrease=0.0, min_impurity_split=None,\n",
       "           min_samples_leaf=1, min_samples_split=2,\n",
       "           min_weight_fraction_leaf=0.0, n_estimators=10, n_jobs=1,\n",
       "           oob_score=False, random_state=0, verbose=0, warm_start=False),\n",
       "       fit_params={}, iid=True, n_jobs=1,\n",
       "       param_grid={'n_estimators': [10, 50, 100], 'max_depth': [5, 10, 15, None], 'max_features': [0.05, 0.1, 0.2, 'auto'], 'n_jobs': [-1]},\n",
       "       pre_dispatch='2*n_jobs', refit=True,\n",
       "       scoring='neg_mean_squared_error', verbose=4)"
      ]
     },
     "execution_count": 99,
     "metadata": {},
     "output_type": "execute_result"
    }
   ],
   "source": [
    "feats = num_cols + cat_cols\n",
    "rf_grid.fit(train[feats], y_train)"
   ]
  },
  {
   "cell_type": "code",
   "execution_count": 100,
   "metadata": {},
   "outputs": [
    {
     "data": {
      "text/plain": [
       "RandomForestRegressor(bootstrap=True, criterion='mse', max_depth=10,\n",
       "           max_features=0.2, max_leaf_nodes=None,\n",
       "           min_impurity_decrease=0.0, min_impurity_split=None,\n",
       "           min_samples_leaf=1, min_samples_split=2,\n",
       "           min_weight_fraction_leaf=0.0, n_estimators=50, n_jobs=-1,\n",
       "           oob_score=False, random_state=0, verbose=0, warm_start=False)"
      ]
     },
     "execution_count": 100,
     "metadata": {},
     "output_type": "execute_result"
    }
   ],
   "source": [
    "best_params = rf_grid.best_params_\n",
    "regr_rf.set_params(**best_params)"
   ]
  },
  {
   "cell_type": "code",
   "execution_count": 101,
   "metadata": {},
   "outputs": [
    {
     "name": "stdout",
     "output_type": "stream",
     "text": [
      "CV score 30105.15 ± 1947.17\n",
      "TEST RMSE RF 30292.93836669103\n",
      "TEST MAE RF 17109.176662663478\n"
     ]
    }
   ],
   "source": [
    "scores = cross_val_score(regr_rf, train[num_cols + cat_cols], y_train, cv=kf, scoring='neg_mean_squared_error')\n",
    "scores = -1*scores\n",
    "scores = np.sqrt(scores)\n",
    "\n",
    "print('CV score {:.2f} ± {:.2f}'.format(scores.mean(), scores.std()))\n",
    "\n",
    "regr_rf.fit(train[num_cols + cat_cols], y_train) \n",
    "preds_rf = regr_rf.predict(test[num_cols + cat_cols])\n",
    "rmse = np.sqrt(mean_squared_error(y_test, preds_rf))\n",
    "mae = mean_absolute_error(y_test, preds_rf)\n",
    "print('TEST RMSE RF', rmse)\n",
    "print('TEST MAE RF', mae)"
   ]
  },
  {
   "cell_type": "markdown",
   "metadata": {
    "nbpresent": {
     "id": "cdf961a5-a7a0-4546-88f4-3ca30d43f922"
    }
   },
   "source": [
    "### Example 2: MNIST Classification"
   ]
  },
  {
   "cell_type": "code",
   "execution_count": 105,
   "metadata": {
    "nbpresent": {
     "id": "203e57ac-cd74-439b-b159-de01c86427a3"
    }
   },
   "outputs": [],
   "source": [
    "from sklearn.datasets import fetch_mldata\n",
    "mnist = fetch_mldata('MNIST original', data_home='data')"
   ]
  },
  {
   "cell_type": "code",
   "execution_count": 106,
   "metadata": {
    "nbpresent": {
     "id": "486fc90b-8d02-412c-806f-c8aef05d25a7"
    }
   },
   "outputs": [],
   "source": [
    "mnist_data = mnist.data\n",
    "mnist_target = mnist.target"
   ]
  },
  {
   "cell_type": "code",
   "execution_count": 111,
   "metadata": {
    "nbpresent": {
     "id": "eb704be9-3ae1-4d2a-adcf-cb224ade5ab2"
    }
   },
   "outputs": [
    {
     "name": "stdout",
     "output_type": "stream",
     "text": [
      "Target variable for index -100 is 9.0\n"
     ]
    },
    {
     "data": {
      "text/plain": [
       "<matplotlib.image.AxesImage at 0x7f3e403e1a90>"
      ]
     },
     "execution_count": 111,
     "metadata": {},
     "output_type": "execute_result"
    },
    {
     "data": {
      "image/png": "[encoded data removed]",
      "text/plain": [
       "<Figure size 432x288 with 1 Axes>"
      ]
     },
     "metadata": {},
     "output_type": "display_data"
    }
   ],
   "source": [
    "sns.set_style('white')\n",
    "ind = -100\n",
    "print('Target variable for index {} is {}'.format(ind, mnist_target[ind]))\n",
    "plt.imshow(mnist_data[ind,:].reshape((28,28)), cmap='Greys')"
   ]
  },
  {
   "cell_type": "code",
   "execution_count": 112,
   "metadata": {
    "nbpresent": {
     "id": "b714a1e2-b64f-40ca-8c50-12a767a2ac3e"
    }
   },
   "outputs": [],
   "source": [
    "mnist_df = pd.DataFrame(mnist_data)"
   ]
  },
  {
   "cell_type": "code",
   "execution_count": 113,
   "metadata": {
    "nbpresent": {
     "id": "0e83ddb1-deb8-45a7-910c-2bb0a16ae106"
    }
   },
   "outputs": [],
   "source": [
    "mnist_df['target'] = mnist_target.astype(int)"
   ]
  },
  {
   "cell_type": "code",
   "execution_count": 114,
   "metadata": {
    "nbpresent": {
     "id": "f0ea96a3-1add-421e-84c5-6eca2cdf656f"
    }
   },
   "outputs": [
    {
     "data": {
      "text/plain": [
       "1    7877\n",
       "7    7293\n",
       "3    7141\n",
       "2    6990\n",
       "9    6958\n",
       "0    6903\n",
       "6    6876\n",
       "8    6825\n",
       "4    6824\n",
       "5    6313\n",
       "Name: target, dtype: int64"
      ]
     },
     "execution_count": 114,
     "metadata": {},
     "output_type": "execute_result"
    }
   ],
   "source": [
    "mnist_df.target.value_counts()"
   ]
  },
  {
   "cell_type": "code",
   "execution_count": 115,
   "metadata": {
    "nbpresent": {
     "id": "68530524-1b09-46ca-8dae-97c0a26992bd"
    }
   },
   "outputs": [
    {
     "data": {
      "text/plain": [
       "2    6990\n",
       "Name: target, dtype: int64"
      ]
     },
     "execution_count": 115,
     "metadata": {},
     "output_type": "execute_result"
    }
   ],
   "source": [
    "sel2 = mnist_df[mnist_df.target == 2]\n",
    "sel2.target.value_counts()"
   ]
  },
  {
   "cell_type": "code",
   "execution_count": 35,
   "metadata": {
    "nbpresent": {
     "id": "9d26311b-0402-48c1-a2b4-b8f15a4ffa4b"
    }
   },
   "outputs": [
    {
     "data": {
      "text/plain": [
       "2    6990\n",
       "Name: target, dtype: int64"
      ]
     },
     "execution_count": 35,
     "metadata": {},
     "output_type": "execute_result"
    }
   ],
   "source": [
    "sel2 = mnist_df.query('target == 2')\n",
    "sel2.target.value_counts()"
   ]
  },
  {
   "cell_type": "markdown",
   "metadata": {
    "nbpresent": {
     "id": "037a4d9d-25cc-44d8-9a90-ebcb9b4b4883"
    }
   },
   "source": [
    "## 3. Classification on MNIST data"
   ]
  },
  {
   "cell_type": "code",
   "execution_count": 131,
   "metadata": {
    "nbpresent": {
     "id": "baf2206b-2c71-46cb-8857-07a371a8ff2f"
    }
   },
   "outputs": [],
   "source": [
    "features = mnist_df.columns[:-1]"
   ]
  },
  {
   "cell_type": "code",
   "execution_count": 132,
   "metadata": {
    "nbpresent": {
     "id": "85ad2650-d0f4-4967-9ad1-c4b314a12ee1"
    }
   },
   "outputs": [
    {
     "data": {
      "text/plain": [
       "255"
      ]
     },
     "execution_count": 132,
     "metadata": {},
     "output_type": "execute_result"
    }
   ],
   "source": [
    "mnist_df.iloc[0].max()"
   ]
  },
  {
   "cell_type": "code",
   "execution_count": 133,
   "metadata": {
    "nbpresent": {
     "id": "21617de9-afd2-4b61-97d1-b4271745da41"
    }
   },
   "outputs": [],
   "source": [
    "from sklearn.linear_model import LogisticRegression, SGDClassifier\n",
    "from sklearn.model_selection import cross_val_score, KFold, train_test_split, ShuffleSplit\n",
    "from sklearn.metrics import accuracy_score, confusion_matrix\n",
    "from sklearn.preprocessing import StandardScaler\n",
    "from sklearn.pipeline import Pipeline\n",
    "import numpy as np\n",
    "\n"
   ]
  },
  {
   "cell_type": "markdown",
   "metadata": {
    "nbpresent": {
     "id": "4cf0d81f-8870-4930-9e36-388afc5ef618"
    }
   },
   "source": [
    "#### Splitting data into train/test"
   ]
  },
  {
   "cell_type": "code",
   "execution_count": 124,
   "metadata": {
    "nbpresent": {
     "id": "2533c8ea-5870-45ac-a3ec-da832886cd9e"
    }
   },
   "outputs": [],
   "source": [
    "X_train, X_test, y_train, y_test = train_test_split(mnist_df[features], \n",
    "                                                    mnist_df.target, test_size = 0.5, \n",
    "                                                    random_state = 0, stratify = mnist_df.target)"
   ]
  },
  {
   "cell_type": "code",
   "execution_count": 141,
   "metadata": {
    "nbpresent": {
     "id": "a2c00371-76da-46a0-8761-0dda41c13094"
    }
   },
   "outputs": [
    {
     "name": "stdout",
     "output_type": "stream",
     "text": [
      "Accuracy on test: 0.8825428571428572\n"
     ]
    }
   ],
   "source": [
    "clf_lr = SGDClassifier(loss='log', penalty = 'elasticnet',\n",
    "                       random_state=1, n_iter=5)\n",
    "clf_lr.fit(X_train, y_train)\n",
    "preds = clf_lr.predict(X_test)\n",
    "print('Accuracy on test:', accuracy_score(y_test, preds))"
   ]
  },
  {
   "cell_type": "code",
   "execution_count": 142,
   "metadata": {
    "nbpresent": {
     "id": "df87a371-8c4e-4c59-a973-4ff2d86c414a"
    }
   },
   "outputs": [
    {
     "data": {
      "text/plain": [
       "(10, 784)"
      ]
     },
     "execution_count": 142,
     "metadata": {},
     "output_type": "execute_result"
    }
   ],
   "source": [
    "clf_lr.coef_.shape"
   ]
  },
  {
   "cell_type": "code",
   "execution_count": 144,
   "metadata": {
    "nbpresent": {
     "id": "a7426b9f-44f5-40db-998f-47c08e12631a"
    }
   },
   "outputs": [],
   "source": [
    "probs = clf_lr.predict_proba(X_test)"
   ]
  },
  {
   "cell_type": "code",
   "execution_count": 147,
   "metadata": {},
   "outputs": [
    {
     "data": {
      "text/plain": [
       "array([0., 0., 0., ..., 0., 0., 0.])"
      ]
     },
     "execution_count": 147,
     "metadata": {},
     "output_type": "execute_result"
    }
   ],
   "source": [
    "probs[:, 9]"
   ]
  },
  {
   "cell_type": "code",
   "execution_count": 136,
   "metadata": {
    "nbpresent": {
     "id": "df684f3a-9d8a-4e52-8950-afd59d383a5d"
    }
   },
   "outputs": [
    {
     "name": "stdout",
     "output_type": "stream",
     "text": [
      "Accuracy on test: 0.9130285714285714\n"
     ]
    }
   ],
   "source": [
    "scaler = StandardScaler()\n",
    "pipe = Pipeline([('scaler', scaler), ('clf', clf_lr)])\n",
    "pipe.fit(X_train, y_train)\n",
    "preds = pipe.predict(X_test)\n",
    "print('Accuracy on test:', accuracy_score(y_test, preds))"
   ]
  },
  {
   "cell_type": "code",
   "execution_count": 139,
   "metadata": {},
   "outputs": [
    {
     "data": {
      "text/plain": [
       "(35000, 10)"
      ]
     },
     "execution_count": 139,
     "metadata": {},
     "output_type": "execute_result"
    }
   ],
   "source": [
    "pipe.decision_function(X_test)"
   ]
  },
  {
   "cell_type": "code",
   "execution_count": 47,
   "metadata": {
    "nbpresent": {
     "id": "21fefa12-a763-42cf-80b1-93e89a8ccf6a"
    }
   },
   "outputs": [
    {
     "data": {
      "text/plain": [
       "StandardScaler(copy=True, with_mean=True, with_std=True)"
      ]
     },
     "execution_count": 47,
     "metadata": {},
     "output_type": "execute_result"
    }
   ],
   "source": [
    "pipe.named_steps['scaler']"
   ]
  },
  {
   "cell_type": "code",
   "execution_count": 48,
   "metadata": {
    "nbpresent": {
     "id": "f3cabdac-6494-449d-a6b5-94735e32467b"
    }
   },
   "outputs": [
    {
     "data": {
      "text/plain": [
       "StandardScaler(copy=True, with_mean=True, with_std=True)"
      ]
     },
     "execution_count": 48,
     "metadata": {},
     "output_type": "execute_result"
    }
   ],
   "source": [
    "scaler.fit(X_train)"
   ]
  },
  {
   "cell_type": "code",
   "execution_count": 49,
   "metadata": {
    "nbpresent": {
     "id": "04626c78-cf66-48dc-97a0-34e6df097540"
    }
   },
   "outputs": [
    {
     "data": {
      "text/plain": [
       "0.00025714285714285715"
      ]
     },
     "execution_count": 49,
     "metadata": {},
     "output_type": "execute_result"
    }
   ],
   "source": [
    "scaler.mean_[15]"
   ]
  },
  {
   "cell_type": "code",
   "execution_count": 50,
   "metadata": {
    "nbpresent": {
     "id": "d6839af8-4971-4814-9a0e-b4b723ba1f1e"
    }
   },
   "outputs": [
    {
     "data": {
      "text/plain": [
       "0.00025714285714285715"
      ]
     },
     "execution_count": 50,
     "metadata": {},
     "output_type": "execute_result"
    }
   ],
   "source": [
    "X_train.mean()[15]"
   ]
  },
  {
   "cell_type": "code",
   "execution_count": 51,
   "metadata": {
    "nbpresent": {
     "id": "686f4fcf-3240-432b-b3ea-b2b1b14cdd50"
    }
   },
   "outputs": [
    {
     "data": {
      "text/plain": [
       "0.04810633629617291"
      ]
     },
     "execution_count": 51,
     "metadata": {},
     "output_type": "execute_result"
    }
   ],
   "source": [
    "pipe.named_steps['scaler'].scale_[15]"
   ]
  },
  {
   "cell_type": "code",
   "execution_count": 52,
   "metadata": {
    "nbpresent": {
     "id": "cb740860-63bd-4bfa-a0a9-6bf27ef5ff52"
    }
   },
   "outputs": [
    {
     "data": {
      "text/plain": [
       "0.04810633629617291"
      ]
     },
     "execution_count": 52,
     "metadata": {},
     "output_type": "execute_result"
    }
   ],
   "source": [
    "X_train.std(ddof=0)[15]"
   ]
  },
  {
   "cell_type": "code",
   "execution_count": 53,
   "metadata": {
    "nbpresent": {
     "id": "aeaa4553-a93c-4231-a9ab-ba14ba34453a"
    }
   },
   "outputs": [
    {
     "data": {
      "text/plain": [
       "SGDClassifier(alpha=0.0001, average=False, class_weight=None, epsilon=0.1,\n",
       "       eta0=0.0, fit_intercept=True, l1_ratio=0.15,\n",
       "       learning_rate='optimal', loss='hinge', max_iter=None, n_iter=5,\n",
       "       n_jobs=1, penalty='elasticnet', power_t=0.5, random_state=1,\n",
       "       shuffle=True, tol=None, verbose=0, warm_start=False)"
      ]
     },
     "execution_count": 53,
     "metadata": {},
     "output_type": "execute_result"
    }
   ],
   "source": [
    "pipe.named_steps['clf']"
   ]
  },
  {
   "cell_type": "code",
   "execution_count": 54,
   "metadata": {
    "nbpresent": {
     "id": "9c141f87-c134-45f9-838b-eac5e72bdf0b"
    }
   },
   "outputs": [
    {
     "data": {
      "text/plain": [
       "array([[0., 0., 0., ..., 0., 0., 0.],\n",
       "       [0., 0., 0., ..., 0., 0., 0.],\n",
       "       [0., 0., 0., ..., 0., 0., 0.],\n",
       "       ...,\n",
       "       [0., 0., 0., ..., 0., 0., 0.],\n",
       "       [0., 0., 0., ..., 0., 0., 0.],\n",
       "       [0., 0., 0., ..., 0., 0., 0.]])"
      ]
     },
     "execution_count": 54,
     "metadata": {},
     "output_type": "execute_result"
    }
   ],
   "source": [
    "pipe.named_steps['clf'].coef_"
   ]
  },
  {
   "cell_type": "code",
   "execution_count": 55,
   "metadata": {
    "nbpresent": {
     "id": "44a04ff1-a9f5-4b32-b195-be53e3bd83bb"
    }
   },
   "outputs": [],
   "source": [
    "from sklearn.ensemble import RandomForestClassifier, GradientBoostingClassifier\n",
    "\n",
    "clf_rf = RandomForestClassifier(n_estimators=10, random_state=0, n_jobs = 8, max_depth=30)\n"
   ]
  },
  {
   "cell_type": "code",
   "execution_count": 56,
   "metadata": {
    "nbpresent": {
     "id": "e8ade09e-591c-47ed-8fdc-445ce00c46aa"
    }
   },
   "outputs": [
    {
     "name": "stdout",
     "output_type": "stream",
     "text": [
      "CV score is 0.859 ± 0.005\n"
     ]
    }
   ],
   "source": [
    "kfold = KFold(n_splits=5, shuffle=True, random_state=0)\n",
    "scores = cross_val_score(clf_lr, mnist_df[features], y=mnist_df.target, \n",
    "                         scoring = 'accuracy', verbose = 0, n_jobs = 8)\n",
    "print('CV score is {:.3f} ± {:.3f}'.format(scores.mean(), scores.std()))"
   ]
  },
  {
   "cell_type": "code",
   "execution_count": 57,
   "metadata": {
    "nbpresent": {
     "id": "6bef8831-62ad-425c-b840-d60b092571e4"
    }
   },
   "outputs": [
    {
     "name": "stdout",
     "output_type": "stream",
     "text": [
      "CV score is 0.910 ± 0.003\n"
     ]
    }
   ],
   "source": [
    "scores = cross_val_score(pipe, mnist_df[features], y=mnist_df.target, \n",
    "                         scoring = 'accuracy', verbose = 0, n_jobs = 8)\n",
    "print('CV score is {:.3f} ± {:.3f}'.format(scores.mean(), scores.std()))"
   ]
  },
  {
   "cell_type": "code",
   "execution_count": 58,
   "metadata": {
    "nbpresent": {
     "id": "4df354ed-a93c-4a05-a2a6-0ef6169d752e"
    }
   },
   "outputs": [
    {
     "name": "stdout",
     "output_type": "stream",
     "text": [
      "CV score is 0.943 ± 0.003\n"
     ]
    }
   ],
   "source": [
    "scores = cross_val_score(clf_rf, mnist_df[features], y=mnist_df.target, \n",
    "                         scoring = 'accuracy', verbose = 0, n_jobs = 8)\n",
    "print('CV score is {:.3f} ± {:.3f}'.format(scores.mean(), scores.std()))"
   ]
  },
  {
   "cell_type": "code",
   "execution_count": 59,
   "metadata": {},
   "outputs": [
    {
     "name": "stdout",
     "output_type": "stream",
     "text": [
      "Accuracy on test: 0.9380857142857143\n"
     ]
    }
   ],
   "source": [
    "clf_rf.fit(X_train, y_train)\n",
    "preds = clf_rf.predict(X_test)\n",
    "print('Accuracy on test:', accuracy_score(y_test, preds))"
   ]
  },
  {
   "cell_type": "code",
   "execution_count": 60,
   "metadata": {
    "nbpresent": {
     "id": "fc19ed99-cbde-44ac-af99-b039c8f1d211"
    }
   },
   "outputs": [],
   "source": [
    "from sklearn.grid_search import GridSearchCV\n",
    "\n",
    "rf_grid = {'n_estimators': [10, 50, 100],\n",
    "              'max_depth': [None, 5]}\n",
    "\n",
    "grid_cv = KFold(n_splits=2, shuffle=True, random_state=0)\n",
    "clf_grid = GridSearchCV(clf_rf, param_grid= rf_grid, cv = list(grid_cv.split(X_train)))\n",
    "clf_grid.fit(X_train, y_train)\n",
    "pass"
   ]
  },
  {
   "cell_type": "code",
   "execution_count": 61,
   "metadata": {
    "nbpresent": {
     "id": "93c987c9-0ea1-4420-96ef-3d6453f445c1"
    }
   },
   "outputs": [
    {
     "data": {
      "text/plain": [
       "{'max_depth': None, 'n_estimators': 100}"
      ]
     },
     "execution_count": 61,
     "metadata": {},
     "output_type": "execute_result"
    }
   ],
   "source": [
    "clf_grid.best_params_"
   ]
  },
  {
   "cell_type": "code",
   "execution_count": 62,
   "metadata": {
    "nbpresent": {
     "id": "b77afb7c-b570-4d23-9ca4-3b275a4eaee9"
    }
   },
   "outputs": [
    {
     "name": "stdout",
     "output_type": "stream",
     "text": [
      "Accuracy on test: 0.9650285714285715\n"
     ]
    }
   ],
   "source": [
    "preds = clf_grid.predict(X_test)\n",
    "print('Accuracy on test:', accuracy_score(y_test, preds))"
   ]
  },
  {
   "cell_type": "code",
   "execution_count": 63,
   "metadata": {
    "nbpresent": {
     "id": "4cbe4bf6-857a-458c-a11f-1356d9aba840"
    }
   },
   "outputs": [
    {
     "data": {
      "text/plain": [
       "{'copy': True, 'with_mean': True, 'with_std': True}"
      ]
     },
     "execution_count": 63,
     "metadata": {},
     "output_type": "execute_result"
    }
   ],
   "source": [
    "scaler.get_params()"
   ]
  },
  {
   "cell_type": "code",
   "execution_count": null,
   "metadata": {
    "nbpresent": {
     "id": "785b6cab-eeb2-4183-b820-6bdf80cd66c0"
    }
   },
   "outputs": [],
   "source": [
    "pipe_grid = {'scaler__with_mean': [True, False],\n",
    "           'clf__alpha': [0.001, 0.01],\n",
    "           'clf__l1_ratio': [0, 0.5, 1]}\n",
    "\n",
    "grid_cv = KFold(n_splits=2, shuffle=True, random_state=0)\n",
    "clf_grid = GridSearchCV(pipe, param_grid= pipe_grid, cv = list(grid_cv.split(X_train)))\n",
    "clf_grid.fit(X_train, y_train)\n",
    "pass"
   ]
  },
  {
   "cell_type": "code",
   "execution_count": null,
   "metadata": {},
   "outputs": [],
   "source": [
    "pipe"
   ]
  },
  {
   "cell_type": "code",
   "execution_count": null,
   "metadata": {
    "nbpresent": {
     "id": "09818162-a98a-4759-802c-4d7270739b6d"
    }
   },
   "outputs": [],
   "source": [
    "clf_grid.best_score_"
   ]
  },
  {
   "cell_type": "code",
   "execution_count": null,
   "metadata": {
    "nbpresent": {
     "id": "82e77658-5f9f-482d-9272-8668a8f6d0eb"
    }
   },
   "outputs": [],
   "source": [
    "clf_grid.best_params_"
   ]
  },
  {
   "cell_type": "code",
   "execution_count": null,
   "metadata": {
    "nbpresent": {
     "id": "0d568570-8e5c-41b2-8196-27b626b97307"
    }
   },
   "outputs": [],
   "source": [
    "preds = clf_grid.predict(X_test)\n",
    "print('Accuracy on test:', accuracy_score(y_test, preds))"
   ]
  },
  {
   "cell_type": "code",
   "execution_count": null,
   "metadata": {},
   "outputs": [],
   "source": []
  }
 ],
 "metadata": {
  "kernelspec": {
   "display_name": "Python 3",
   "language": "python",
   "name": "python3"
  },
  "language_info": {
   "codemirror_mode": {
    "name": "ipython",
    "version": 3
   },
   "file_extension": ".py",
   "mimetype": "text/x-python",
   "name": "python",
   "nbconvert_exporter": "python",
   "pygments_lexer": "ipython3",
   "version": "3.6.5"
  },
  "nbpresent": {
   "slides": {
    "03cfac57-2691-45e4-ad9b-6e8f884f7269": {
     "id": "03cfac57-2691-45e4-ad9b-6e8f884f7269",
     "prev": "a76f3e51-b3c5-42b0-a47c-428c2262c17f",
     "regions": {
      "16c8ce64-274c-4b00-961f-d4991967caa5": {
       "attrs": {
        "height": 0.8,
        "width": 0.8,
        "x": 0.1,
        "y": 0.1
       },
       "content": {
        "cell": "2eca1804-cfb2-40c6-8a17-b5169d9e9205",
        "part": "whole"
       },
       "id": "16c8ce64-274c-4b00-961f-d4991967caa5"
      }
     }
    },
    "05c8b622-afd9-43bb-b28d-bc29ad27a284": {
     "id": "05c8b622-afd9-43bb-b28d-bc29ad27a284",
     "prev": "938fcc93-a662-4b90-9fdc-1881ba29c7e5",
     "regions": {
      "738fca9a-e50f-454e-9f50-6c556991a7d1": {
       "attrs": {
        "height": 0.8,
        "width": 0.8,
        "x": 0.1,
        "y": 0.1
       },
       "content": {
        "cell": "fa67218f-68e2-45e8-8850-069f3600e36b",
        "part": "whole"
       },
       "id": "738fca9a-e50f-454e-9f50-6c556991a7d1"
      }
     }
    },
    "11427219-0dad-47fe-bbc1-6b2cece3cb91": {
     "id": "11427219-0dad-47fe-bbc1-6b2cece3cb91",
     "prev": "8877798f-c3cc-4cb9-a874-388f3d9e06df",
     "regions": {
      "44409097-256c-4219-bdbd-f3b355e5428b": {
       "attrs": {
        "height": 0.8,
        "width": 0.8,
        "x": 0.1,
        "y": 0.1
       },
       "content": {
        "cell": "9d26311b-0402-48c1-a2b4-b8f15a4ffa4b",
        "part": "whole"
       },
       "id": "44409097-256c-4219-bdbd-f3b355e5428b"
      }
     }
    },
    "115119a0-9937-482d-b20d-26a9b7715c01": {
     "id": "115119a0-9937-482d-b20d-26a9b7715c01",
     "prev": "2ed6a4a4-8b74-4e3d-974c-b7744fccb95e",
     "regions": {
      "96ac3db1-1e66-4fa0-8af5-485d55c62aa2": {
       "attrs": {
        "height": 0.8,
        "width": 0.8,
        "x": 0.1,
        "y": 0.1
       },
       "content": {
        "cell": "09818162-a98a-4759-802c-4d7270739b6d",
        "part": "whole"
       },
       "id": "96ac3db1-1e66-4fa0-8af5-485d55c62aa2"
      }
     }
    },
    "17f541c9-4669-47dc-bd3d-e50f8c067d58": {
     "id": "17f541c9-4669-47dc-bd3d-e50f8c067d58",
     "prev": "6ef4a413-dfcb-4521-a1e3-bee5f4821732",
     "regions": {
      "5799a549-e6e9-4553-9128-7719f82539cd": {
       "attrs": {
        "height": 0.8,
        "width": 0.8,
        "x": 0.1,
        "y": 0.1
       },
       "content": {
        "cell": "0e83ddb1-deb8-45a7-910c-2bb0a16ae106",
        "part": "whole"
       },
       "id": "5799a549-e6e9-4553-9128-7719f82539cd"
      }
     }
    },
    "18d44387-63c9-4fed-a52b-df9c01ae3049": {
     "id": "18d44387-63c9-4fed-a52b-df9c01ae3049",
     "prev": "f0197e47-49c1-48e3-96de-6f9ecc555fd7",
     "regions": {
      "c65ea79a-e1ca-41c7-8c55-d45ca3b49529": {
       "attrs": {
        "height": 0.8,
        "width": 0.8,
        "x": 0.1,
        "y": 0.1
       },
       "content": {
        "cell": "04626c78-cf66-48dc-97a0-34e6df097540",
        "part": "whole"
       },
       "id": "c65ea79a-e1ca-41c7-8c55-d45ca3b49529"
      }
     }
    },
    "192830e6-0873-44a8-baa0-16d0aa1a273f": {
     "id": "192830e6-0873-44a8-baa0-16d0aa1a273f",
     "prev": "a3eaf33d-ddd5-4f43-b5bd-6c3115a4942d",
     "regions": {
      "8ed42599-a7d7-4181-92c3-39c67caeae7b": {
       "attrs": {
        "height": 0.8,
        "width": 0.8,
        "x": 0.1,
        "y": 0.1
       },
       "content": {
        "cell": "fe4d6a1c-f930-400b-9890-328b0cd53705",
        "part": "whole"
       },
       "id": "8ed42599-a7d7-4181-92c3-39c67caeae7b"
      }
     }
    },
    "1bfd1080-225c-4c12-9d67-37c07ee27883": {
     "id": "1bfd1080-225c-4c12-9d67-37c07ee27883",
     "prev": "a079a416-2249-4452-bbcd-9bc9fdf09f6f",
     "regions": {
      "10c32da3-ff38-4f02-8eae-56e5d355f743": {
       "attrs": {
        "height": 0.8,
        "width": 0.8,
        "x": 0.1,
        "y": 0.1
       },
       "content": {
        "cell": "df684f3a-9d8a-4e52-8950-afd59d383a5d",
        "part": "whole"
       },
       "id": "10c32da3-ff38-4f02-8eae-56e5d355f743"
      }
     }
    },
    "2028498a-14da-460b-908f-7413b704caa4": {
     "id": "2028498a-14da-460b-908f-7413b704caa4",
     "prev": "76b281c7-b793-4d74-8a10-ef5de44f2f2b",
     "regions": {
      "1a9a87c7-08cb-448b-8644-afcfa2e06c4c": {
       "attrs": {
        "height": 0.8,
        "width": 0.8,
        "x": 0.1,
        "y": 0.1
       },
       "content": {
        "cell": "d0cae2a4-6306-40f2-87a7-9d3c61043f44",
        "part": "whole"
       },
       "id": "1a9a87c7-08cb-448b-8644-afcfa2e06c4c"
      }
     }
    },
    "20ccff14-3cbb-4fcf-9924-4cd2b7e46009": {
     "id": "20ccff14-3cbb-4fcf-9924-4cd2b7e46009",
     "prev": "c4961315-1136-424d-a02e-713984e14bb6",
     "regions": {
      "89117f15-e6c2-4612-9dd7-5d0061aec2c1": {
       "attrs": {
        "height": 0.8,
        "width": 0.8,
        "x": 0.1,
        "y": 0.1
       },
       "content": {
        "cell": "6d5275b5-a9b8-40e0-8ccb-6499e69da283",
        "part": "whole"
       },
       "id": "89117f15-e6c2-4612-9dd7-5d0061aec2c1"
      }
     }
    },
    "23fcd6fd-4047-434a-b316-16bcab4be6fd": {
     "id": "23fcd6fd-4047-434a-b316-16bcab4be6fd",
     "prev": "3c1abe60-8f54-45e1-bb9d-baff906324ee",
     "regions": {
      "f84a6384-280f-481e-ae8f-35f76b9331c8": {
       "attrs": {
        "height": 0.8,
        "width": 0.8,
        "x": 0.1,
        "y": 0.1
       },
       "content": {
        "cell": "c8455e9d-f663-49b0-9b3f-f7e97f5ef1e8",
        "part": "whole"
       },
       "id": "f84a6384-280f-481e-ae8f-35f76b9331c8"
      }
     }
    },
    "2a15e7a5-0148-4931-92a4-c6ef8a7aab7c": {
     "id": "2a15e7a5-0148-4931-92a4-c6ef8a7aab7c",
     "prev": "3e12d679-83d8-4fdc-a2ed-0d09fc1d9a17",
     "regions": {
      "5b356023-8d98-47a6-b145-ee07e8a6c8b2": {
       "attrs": {
        "height": 0.8,
        "width": 0.8,
        "x": 0.1,
        "y": 0.1
       },
       "content": {
        "cell": "2533c8ea-5870-45ac-a3ec-da832886cd9e",
        "part": "whole"
       },
       "id": "5b356023-8d98-47a6-b145-ee07e8a6c8b2"
      }
     }
    },
    "2aa8cd93-30d1-420d-bc83-be9e0b6d4285": {
     "id": "2aa8cd93-30d1-420d-bc83-be9e0b6d4285",
     "prev": "bd6ec894-de88-432b-b48a-b2da152180d9",
     "regions": {
      "2fa7d345-efeb-4ff0-9765-7fb408fa5e2b": {
       "attrs": {
        "height": 0.8,
        "width": 0.8,
        "x": 0.1,
        "y": 0.1
       },
       "content": {
        "cell": "95c3ae9f-977a-4098-8972-0e7ffacbe1f4",
        "part": "whole"
       },
       "id": "2fa7d345-efeb-4ff0-9765-7fb408fa5e2b"
      }
     }
    },
    "2b104c68-d0d7-4b3f-9c2d-b510ade630cc": {
     "id": "2b104c68-d0d7-4b3f-9c2d-b510ade630cc",
     "prev": "d539cabc-fcb0-44d1-8cef-a98167017b05",
     "regions": {
      "8635b3ee-4d52-436f-b8a3-1f3e15a31c59": {
       "attrs": {
        "height": 0.8,
        "width": 0.8,
        "x": 0.1,
        "y": 0.1
       },
       "content": {
        "cell": "203e57ac-cd74-439b-b159-de01c86427a3",
        "part": "whole"
       },
       "id": "8635b3ee-4d52-436f-b8a3-1f3e15a31c59"
      }
     }
    },
    "2ed6a4a4-8b74-4e3d-974c-b7744fccb95e": {
     "id": "2ed6a4a4-8b74-4e3d-974c-b7744fccb95e",
     "prev": "78adb73f-54c8-4076-bb04-d581e0a2aa0e",
     "regions": {
      "0b21a558-a3b8-4db3-b9b0-95f04d30645d": {
       "attrs": {
        "height": 0.8,
        "width": 0.8,
        "x": 0.1,
        "y": 0.1
       },
       "content": {
        "cell": "785b6cab-eeb2-4183-b820-6bdf80cd66c0",
        "part": "whole"
       },
       "id": "0b21a558-a3b8-4db3-b9b0-95f04d30645d"
      }
     }
    },
    "3038d7d6-203c-4ce7-91f1-40fa329c5ad6": {
     "id": "3038d7d6-203c-4ce7-91f1-40fa329c5ad6",
     "prev": "78f0b9f6-5df9-4bd6-ab27-f56e6cf2962c",
     "regions": {
      "492a47a6-3cee-49f0-b511-3aa4ea6204b6": {
       "attrs": {
        "height": 0.8,
        "width": 0.8,
        "x": 0.1,
        "y": 0.1
       },
       "content": {
        "cell": "eb704be9-3ae1-4d2a-adcf-cb224ade5ab2",
        "part": "whole"
       },
       "id": "492a47a6-3cee-49f0-b511-3aa4ea6204b6"
      }
     }
    },
    "3156739b-c857-4adf-a569-a4fa31ee9a26": {
     "id": "3156739b-c857-4adf-a569-a4fa31ee9a26",
     "prev": "2aa8cd93-30d1-420d-bc83-be9e0b6d4285",
     "regions": {
      "5f57b628-5254-40a1-92ed-e7ed6548db68": {
       "attrs": {
        "height": 0.8,
        "width": 0.8,
        "x": 0.1,
        "y": 0.1
       },
       "content": {
        "cell": "5bb6676c-88a4-4778-8591-987c9ef4bca2",
        "part": "whole"
       },
       "id": "5f57b628-5254-40a1-92ed-e7ed6548db68"
      }
     }
    },
    "3586b75d-a24e-43a6-aa1e-12287132d034": {
     "id": "3586b75d-a24e-43a6-aa1e-12287132d034",
     "prev": "bf878646-b6df-4e7d-9717-bebfadf3eb1f",
     "regions": {
      "61941f30-bcaa-4657-ad36-ae2137dedc27": {
       "attrs": {
        "height": 0.8,
        "width": 0.8,
        "x": 0.1,
        "y": 0.1
       },
       "content": {
        "cell": "1fd1a6f0-30dd-4218-89f0-25d7044711ec",
        "part": "whole"
       },
       "id": "61941f30-bcaa-4657-ad36-ae2137dedc27"
      }
     }
    },
    "38f64be6-8b27-4835-929e-bff345fbdace": {
     "id": "38f64be6-8b27-4835-929e-bff345fbdace",
     "prev": "3d6759ae-ab7c-41e4-863f-2fe4378b9716",
     "regions": {
      "a1ba75c5-76ed-4651-a06a-a2ea0071a8d1": {
       "attrs": {
        "height": 0.8,
        "width": 0.8,
        "x": 0.1,
        "y": 0.1
       },
       "content": {
        "cell": "a8099543-3e8d-48b9-94c3-a2ccc037725e",
        "part": "whole"
       },
       "id": "a1ba75c5-76ed-4651-a06a-a2ea0071a8d1"
      }
     }
    },
    "39475adb-3914-48c9-8d05-20e414bd8783": {
     "id": "39475adb-3914-48c9-8d05-20e414bd8783",
     "prev": "675402df-b809-4642-9777-c0bd015227a8",
     "regions": {
      "2b2a21e2-b1dc-4e97-90b2-fa4ec0f56516": {
       "attrs": {
        "height": 0.8,
        "width": 0.8,
        "x": 0.1,
        "y": 0.1
       },
       "content": {
        "cell": "b3a6d1f1-211d-4b82-b6d7-da76817d8ee5",
        "part": "whole"
       },
       "id": "2b2a21e2-b1dc-4e97-90b2-fa4ec0f56516"
      }
     }
    },
    "39b427a0-22d5-47b8-9dfe-261afcc6206b": {
     "id": "39b427a0-22d5-47b8-9dfe-261afcc6206b",
     "prev": "3156739b-c857-4adf-a569-a4fa31ee9a26",
     "regions": {
      "421419d7-5a8d-4203-94fe-7308fb3afbc2": {
       "attrs": {
        "height": 0.8,
        "width": 0.8,
        "x": 0.1,
        "y": 0.1
       },
       "content": {
        "cell": "6183dbc8-92e8-4d5a-8265-13355de44a31",
        "part": "whole"
       },
       "id": "421419d7-5a8d-4203-94fe-7308fb3afbc2"
      }
     }
    },
    "3b47544d-8d76-4511-85a5-5bfbd3704288": {
     "id": "3b47544d-8d76-4511-85a5-5bfbd3704288",
     "prev": "d3d28f87-9c3b-4508-8a80-e6288ea1bb39",
     "regions": {
      "0b45cbc2-52d7-4aa8-a6c2-779cea62e9ea": {
       "attrs": {
        "height": 0.8,
        "width": 0.8,
        "x": 0.1,
        "y": 0.1
       },
       "content": {
        "cell": "4df354ed-a93c-4a05-a2a6-0ef6169d752e",
        "part": "whole"
       },
       "id": "0b45cbc2-52d7-4aa8-a6c2-779cea62e9ea"
      }
     }
    },
    "3c0f97bc-8bd2-4e31-a8d5-d0fc7c8b142f": {
     "id": "3c0f97bc-8bd2-4e31-a8d5-d0fc7c8b142f",
     "prev": "05c8b622-afd9-43bb-b28d-bc29ad27a284",
     "regions": {
      "3c32d89f-04e9-43b8-a1a2-6a4a04559aa6": {
       "attrs": {
        "height": 0.8,
        "width": 0.8,
        "x": 0.1,
        "y": 0.1
       },
       "content": {
        "cell": "9d8bc161-76bf-46c6-9a32-f892ad1c5d8d",
        "part": "whole"
       },
       "id": "3c32d89f-04e9-43b8-a1a2-6a4a04559aa6"
      }
     }
    },
    "3c1abe60-8f54-45e1-bb9d-baff906324ee": {
     "id": "3c1abe60-8f54-45e1-bb9d-baff906324ee",
     "prev": "7ceec031-4d1d-4ba5-8a1b-870c331a7e2e",
     "regions": {
      "e5371c58-ad4f-4b85-9501-96c5e0f445db": {
       "attrs": {
        "height": 0.8,
        "width": 0.8,
        "x": 0.1,
        "y": 0.1
       },
       "content": {
        "cell": "660e8782-495a-4ff3-8775-dee1ba123b8f",
        "part": "whole"
       },
       "id": "e5371c58-ad4f-4b85-9501-96c5e0f445db"
      }
     }
    },
    "3d6759ae-ab7c-41e4-863f-2fe4378b9716": {
     "id": "3d6759ae-ab7c-41e4-863f-2fe4378b9716",
     "prev": "7b178bd1-870f-47d9-b3c6-132555a398ab",
     "regions": {
      "c7df86ce-49b7-4240-beda-66760a6c92de": {
       "attrs": {
        "height": 0.8,
        "width": 0.8,
        "x": 0.1,
        "y": 0.1
       },
       "content": {
        "cell": "0e603f2d-af2e-452e-af58-d57d7db06f18",
        "part": "whole"
       },
       "id": "c7df86ce-49b7-4240-beda-66760a6c92de"
      }
     }
    },
    "3e12d679-83d8-4fdc-a2ed-0d09fc1d9a17": {
     "id": "3e12d679-83d8-4fdc-a2ed-0d09fc1d9a17",
     "prev": "ea696e7a-2b8e-43cc-abc4-d734f365f493",
     "regions": {
      "608c48e1-be17-4527-a6d3-23bfcffc89e4": {
       "attrs": {
        "height": 0.8,
        "width": 0.8,
        "x": 0.1,
        "y": 0.1
       },
       "content": {
        "cell": "4cf0d81f-8870-4930-9e36-388afc5ef618",
        "part": "whole"
       },
       "id": "608c48e1-be17-4527-a6d3-23bfcffc89e4"
      }
     }
    },
    "3eb339be-c037-4d52-a7f8-9bf4dd812fb2": {
     "id": "3eb339be-c037-4d52-a7f8-9bf4dd812fb2",
     "prev": "86bfc748-556e-416e-8233-2009ae0afe0d",
     "regions": {
      "2244043b-4d66-4b4f-a609-1872c7979cb2": {
       "attrs": {
        "height": 0.8,
        "width": 0.8,
        "x": 0.1,
        "y": 0.1
       },
       "content": {
        "cell": "d4480c2c-b796-47de-8093-c8596c5a9a4d",
        "part": "whole"
       },
       "id": "2244043b-4d66-4b4f-a609-1872c7979cb2"
      }
     }
    },
    "446bf9d0-7578-45b4-b5d3-792369c87432": {
     "id": "446bf9d0-7578-45b4-b5d3-792369c87432",
     "prev": "eeb9ae84-c104-4126-9710-90c3f7873149",
     "regions": {
      "be06e735-b04f-4816-b681-4a78864eb290": {
       "attrs": {
        "height": 0.8,
        "width": 0.8,
        "x": 0.1,
        "y": 0.1
       },
       "content": {
        "cell": "baf2206b-2c71-46cb-8857-07a371a8ff2f",
        "part": "whole"
       },
       "id": "be06e735-b04f-4816-b681-4a78864eb290"
      }
     }
    },
    "4c2f58c0-0b58-4838-b26e-fe316f41041d": {
     "id": "4c2f58c0-0b58-4838-b26e-fe316f41041d",
     "prev": "17f541c9-4669-47dc-bd3d-e50f8c067d58",
     "regions": {
      "7ab916c6-00d5-4554-a51b-c0706b96d4e8": {
       "attrs": {
        "height": 0.8,
        "width": 0.8,
        "x": 0.1,
        "y": 0.1
       },
       "content": {
        "cell": "f0ea96a3-1add-421e-84c5-6eca2cdf656f",
        "part": "whole"
       },
       "id": "7ab916c6-00d5-4554-a51b-c0706b96d4e8"
      }
     }
    },
    "4f6586d4-4f74-4e2f-add1-20e6fb567de6": {
     "id": "4f6586d4-4f74-4e2f-add1-20e6fb567de6",
     "prev": "39b427a0-22d5-47b8-9dfe-261afcc6206b",
     "regions": {
      "cc01ddff-207e-482e-a824-0d879065a691": {
       "attrs": {
        "height": 0.8,
        "width": 0.8,
        "x": 0.1,
        "y": 0.1
       },
       "content": {
        "cell": "8d49a8d0-c816-4c55-9e67-9747ab69582b",
        "part": "whole"
       },
       "id": "cc01ddff-207e-482e-a824-0d879065a691"
      }
     }
    },
    "50a66601-f076-446d-83bc-9eee3b08f2ab": {
     "id": "50a66601-f076-446d-83bc-9eee3b08f2ab",
     "prev": "f004b5cd-a300-43a8-8d00-730279849419",
     "regions": {
      "0f3a8038-37dd-4846-a27c-3fdfce997e6c": {
       "attrs": {
        "height": 0.8,
        "width": 0.8,
        "x": 0.1,
        "y": 0.1
       },
       "content": {
        "cell": "d19d0aa1-c7f4-44e0-a336-a77e6ca4b15b",
        "part": "whole"
       },
       "id": "0f3a8038-37dd-4846-a27c-3fdfce997e6c"
      }
     }
    },
    "5492a653-f01b-455f-a89b-05c34a09cbd0": {
     "id": "5492a653-f01b-455f-a89b-05c34a09cbd0",
     "prev": "8b01c9de-a308-4293-a4c6-66df392f527b",
     "regions": {
      "ecbc6d7f-0faa-4de2-afed-84728d251203": {
       "attrs": {
        "height": 0.8,
        "width": 0.8,
        "x": 0.1,
        "y": 0.1
       },
       "content": {
        "cell": "0bf1c793-05fc-4e53-b0a8-eeb3473a16d3",
        "part": "whole"
       },
       "id": "ecbc6d7f-0faa-4de2-afed-84728d251203"
      }
     }
    },
    "59882186-91da-484c-89fa-7e7a955fd798": {
     "id": "59882186-91da-484c-89fa-7e7a955fd798",
     "prev": "38f64be6-8b27-4835-929e-bff345fbdace",
     "regions": {
      "3e2a5372-0563-46c9-af8d-61b18abcac77": {
       "attrs": {
        "height": 0.8,
        "width": 0.8,
        "x": 0.1,
        "y": 0.1
       },
       "content": {
        "cell": "a2c00371-76da-46a0-8761-0dda41c13094",
        "part": "whole"
       },
       "id": "3e2a5372-0563-46c9-af8d-61b18abcac77"
      }
     }
    },
    "61bd5f52-bbcb-43f6-b157-683cb65f6b92": {
     "id": "61bd5f52-bbcb-43f6-b157-683cb65f6b92",
     "prev": "59882186-91da-484c-89fa-7e7a955fd798",
     "regions": {
      "cce6fca2-f95f-44b1-97a3-327e6859f455": {
       "attrs": {
        "height": 0.8,
        "width": 0.8,
        "x": 0.1,
        "y": 0.1
       },
       "content": {
        "cell": "df87a371-8c4e-4c59-a973-4ff2d86c414a",
        "part": "whole"
       },
       "id": "cce6fca2-f95f-44b1-97a3-327e6859f455"
      }
     }
    },
    "664a007d-fc4b-47b2-bf6e-d19ea479f6ac": {
     "id": "664a007d-fc4b-47b2-bf6e-d19ea479f6ac",
     "prev": "6b5d91dc-a0b8-430f-82ee-f2f047374e1e",
     "regions": {
      "1d1354a8-3fde-493f-aad7-318291689d22": {
       "attrs": {
        "height": 0.8,
        "width": 0.8,
        "x": 0.1,
        "y": 0.1
       },
       "content": {
        "cell": "29a0e017-5bba-4e47-8bdf-f6f55b91c5cf",
        "part": "whole"
       },
       "id": "1d1354a8-3fde-493f-aad7-318291689d22"
      }
     }
    },
    "675402df-b809-4642-9777-c0bd015227a8": {
     "id": "675402df-b809-4642-9777-c0bd015227a8",
     "prev": "6c4e762e-ad31-4bd4-9b8a-53d11ffdfe9d",
     "regions": {
      "942321e6-ba29-4e85-ac78-170fcf57c9ac": {
       "attrs": {
        "height": 0.8,
        "width": 0.8,
        "x": 0.1,
        "y": 0.1
       },
       "content": {
        "cell": "b79e8e0e-de09-4c0a-8ec2-7ee94089195f",
        "part": "whole"
       },
       "id": "942321e6-ba29-4e85-ac78-170fcf57c9ac"
      }
     }
    },
    "6b5d91dc-a0b8-430f-82ee-f2f047374e1e": {
     "id": "6b5d91dc-a0b8-430f-82ee-f2f047374e1e",
     "prev": "af862f98-d36c-47c7-ae30-4874744f8ce0",
     "regions": {
      "dd1e1108-e4f7-4973-b576-34925d51683a": {
       "attrs": {
        "height": 0.8,
        "width": 0.8,
        "x": 0.1,
        "y": 0.1
       },
       "content": {
        "cell": "ab5edad8-22ed-45ac-92fc-341c00130632",
        "part": "whole"
       },
       "id": "dd1e1108-e4f7-4973-b576-34925d51683a"
      }
     }
    },
    "6c4e762e-ad31-4bd4-9b8a-53d11ffdfe9d": {
     "id": "6c4e762e-ad31-4bd4-9b8a-53d11ffdfe9d",
     "prev": "8e223579-4f25-4e17-8fcd-763c34250bf3",
     "regions": {
      "083906cf-5ba9-4926-aabf-12ff6d5adf5c": {
       "attrs": {
        "height": 0.8,
        "width": 0.8,
        "x": 0.1,
        "y": 0.1
       },
       "content": {
        "cell": "47646988-450e-4240-8861-4ff01eab7647",
        "part": "whole"
       },
       "id": "083906cf-5ba9-4926-aabf-12ff6d5adf5c"
      }
     }
    },
    "6ef4a413-dfcb-4521-a1e3-bee5f4821732": {
     "id": "6ef4a413-dfcb-4521-a1e3-bee5f4821732",
     "prev": "3038d7d6-203c-4ce7-91f1-40fa329c5ad6",
     "regions": {
      "dec9ac22-6acf-4173-8d8c-ceeccb42208e": {
       "attrs": {
        "height": 0.8,
        "width": 0.8,
        "x": 0.1,
        "y": 0.1
       },
       "content": {
        "cell": "b714a1e2-b64f-40ca-8c50-12a767a2ac3e",
        "part": "whole"
       },
       "id": "dec9ac22-6acf-4173-8d8c-ceeccb42208e"
      }
     }
    },
    "70990971-af35-4e84-85c7-88b5caafdada": {
     "id": "70990971-af35-4e84-85c7-88b5caafdada",
     "prev": "f88a8289-c2bd-4417-b796-4f06333f00e6",
     "regions": {
      "510f0850-184d-4349-bade-45d184245395": {
       "attrs": {
        "height": 0.8,
        "width": 0.8,
        "x": 0.1,
        "y": 0.1
       },
       "content": {
        "cell": "58d59594-c920-495f-acd2-2fb7e36e2826",
        "part": "whole"
       },
       "id": "510f0850-184d-4349-bade-45d184245395"
      }
     }
    },
    "7177d7a3-4f7d-4f9f-8ca5-bb812c4f532e": {
     "id": "7177d7a3-4f7d-4f9f-8ca5-bb812c4f532e",
     "prev": "f08f0793-b971-4fe7-876d-5a6c30475271",
     "regions": {
      "9271ee1b-6df6-4af1-8ff3-bc69eeb2fbcc": {
       "attrs": {
        "height": 0.8,
        "width": 0.8,
        "x": 0.1,
        "y": 0.1
       },
       "content": {
        "cell": "bb0ee837-14fa-46f5-825c-3857ca2478da",
        "part": "whole"
       },
       "id": "9271ee1b-6df6-4af1-8ff3-bc69eeb2fbcc"
      }
     }
    },
    "74ff851a-f987-4b65-bbe5-5025953fba65": {
     "id": "74ff851a-f987-4b65-bbe5-5025953fba65",
     "prev": "115119a0-9937-482d-b20d-26a9b7715c01",
     "regions": {
      "1499740d-8a3c-4a45-9d62-6147da703c55": {
       "attrs": {
        "height": 0.8,
        "width": 0.8,
        "x": 0.1,
        "y": 0.1
       },
       "content": {
        "cell": "82e77658-5f9f-482d-9272-8668a8f6d0eb",
        "part": "whole"
       },
       "id": "1499740d-8a3c-4a45-9d62-6147da703c55"
      }
     }
    },
    "76b281c7-b793-4d74-8a10-ef5de44f2f2b": {
     "id": "76b281c7-b793-4d74-8a10-ef5de44f2f2b",
     "prev": "c5d02907-187d-453a-bb36-b98954c07d0f",
     "regions": {
      "617032c8-61cb-4560-8064-f32de0206260": {
       "attrs": {
        "height": 0.8,
        "width": 0.8,
        "x": 0.1,
        "y": 0.1
       },
       "content": {
        "cell": "06dd3757-db69-4b38-b5a4-287b84291200",
        "part": "whole"
       },
       "id": "617032c8-61cb-4560-8064-f32de0206260"
      }
     }
    },
    "78992e4c-e738-4e77-99cc-3045663ff6aa": {
     "id": "78992e4c-e738-4e77-99cc-3045663ff6aa",
     "prev": "efaaee7d-2bf4-4c02-9f02-011184a5e62c",
     "regions": {
      "58466871-12f2-41f3-9d09-4afd2d93851f": {
       "attrs": {
        "height": 0.8,
        "width": 0.8,
        "x": 0.1,
        "y": 0.1
       },
       "content": {
        "cell": "b77afb7c-b570-4d23-9ca4-3b275a4eaee9",
        "part": "whole"
       },
       "id": "58466871-12f2-41f3-9d09-4afd2d93851f"
      }
     }
    },
    "78adb73f-54c8-4076-bb04-d581e0a2aa0e": {
     "id": "78adb73f-54c8-4076-bb04-d581e0a2aa0e",
     "prev": "78992e4c-e738-4e77-99cc-3045663ff6aa",
     "regions": {
      "0e5c8c52-a6bb-462d-99be-4949da0fb8f6": {
       "attrs": {
        "height": 0.8,
        "width": 0.8,
        "x": 0.1,
        "y": 0.1
       },
       "content": {
        "cell": "4cbe4bf6-857a-458c-a11f-1356d9aba840",
        "part": "whole"
       },
       "id": "0e5c8c52-a6bb-462d-99be-4949da0fb8f6"
      }
     }
    },
    "78f0b9f6-5df9-4bd6-ab27-f56e6cf2962c": {
     "id": "78f0b9f6-5df9-4bd6-ab27-f56e6cf2962c",
     "prev": "2b104c68-d0d7-4b3f-9c2d-b510ade630cc",
     "regions": {
      "e20fa161-c722-4ca3-8ea7-20947207f7cf": {
       "attrs": {
        "height": 0.8,
        "width": 0.8,
        "x": 0.1,
        "y": 0.1
       },
       "content": {
        "cell": "486fc90b-8d02-412c-806f-c8aef05d25a7",
        "part": "whole"
       },
       "id": "e20fa161-c722-4ca3-8ea7-20947207f7cf"
      }
     }
    },
    "7b178bd1-870f-47d9-b3c6-132555a398ab": {
     "id": "7b178bd1-870f-47d9-b3c6-132555a398ab",
     "prev": "2a15e7a5-0148-4931-92a4-c6ef8a7aab7c",
     "regions": {
      "ce17f210-e7f9-4bca-98fb-6c49b5e126ac": {
       "attrs": {
        "height": 0.8,
        "width": 0.8,
        "x": 0.1,
        "y": 0.1
       },
       "content": {
        "cell": "59c35b62-914e-41b0-8ab4-a11fb6cd1ab0",
        "part": "whole"
       },
       "id": "ce17f210-e7f9-4bca-98fb-6c49b5e126ac"
      }
     }
    },
    "7ceec031-4d1d-4ba5-8a1b-870c331a7e2e": {
     "id": "7ceec031-4d1d-4ba5-8a1b-870c331a7e2e",
     "prev": "8be33bac-cd18-4ace-83c3-01121cf697b6",
     "regions": {
      "7a45f57d-5b4c-4452-aaaa-84d512881252": {
       "attrs": {
        "height": 0.8,
        "width": 0.8,
        "x": 0.1,
        "y": 0.1
       },
       "content": {
        "cell": "ce562529-31eb-45e8-b1ae-97e2b19e5433",
        "part": "whole"
       },
       "id": "7a45f57d-5b4c-4452-aaaa-84d512881252"
      }
     }
    },
    "7dd0a2f6-dcc6-4ca9-89b4-63a1f74b671b": {
     "id": "7dd0a2f6-dcc6-4ca9-89b4-63a1f74b671b",
     "prev": "af790f2a-2dcd-4f1d-8dfc-f0c49a080a3f",
     "regions": {
      "95f49b6b-456e-46e1-b446-222094e20804": {
       "attrs": {
        "height": 0.8,
        "width": 0.8,
        "x": 0.1,
        "y": 0.1
       },
       "content": {
        "cell": "aeaa4553-a93c-4231-a9ab-ba14ba34453a",
        "part": "whole"
       },
       "id": "95f49b6b-456e-46e1-b446-222094e20804"
      }
     }
    },
    "86bfc748-556e-416e-8233-2009ae0afe0d": {
     "id": "86bfc748-556e-416e-8233-2009ae0afe0d",
     "prev": "fb592289-0fee-497c-a5da-039c3a14ea83",
     "regions": {
      "316f1ed7-7d95-4381-90db-ca714697b600": {
       "attrs": {
        "height": 0.8,
        "width": 0.8,
        "x": 0.1,
        "y": 0.1
       },
       "content": {
        "cell": "e346f888-90d1-4f78-a2d0-043d90fe1ab3",
        "part": "whole"
       },
       "id": "316f1ed7-7d95-4381-90db-ca714697b600"
      }
     }
    },
    "8877798f-c3cc-4cb9-a874-388f3d9e06df": {
     "id": "8877798f-c3cc-4cb9-a874-388f3d9e06df",
     "prev": "4c2f58c0-0b58-4838-b26e-fe316f41041d",
     "regions": {
      "5ff106a8-de8d-4ea9-aaa2-71e876ba7080": {
       "attrs": {
        "height": 0.8,
        "width": 0.8,
        "x": 0.1,
        "y": 0.1
       },
       "content": {
        "cell": "68530524-1b09-46ca-8dae-97c0a26992bd",
        "part": "whole"
       },
       "id": "5ff106a8-de8d-4ea9-aaa2-71e876ba7080"
      }
     }
    },
    "8b01c9de-a308-4293-a4c6-66df392f527b": {
     "id": "8b01c9de-a308-4293-a4c6-66df392f527b",
     "prev": "f69ab917-41e8-4551-a3d5-e11325eee198",
     "regions": {
      "c5ea31e6-5e51-4c4c-b9e3-41baf2b907da": {
       "attrs": {
        "height": 0.8,
        "width": 0.8,
        "x": 0.1,
        "y": 0.1
       },
       "content": {
        "cell": "99d49b6b-d9dc-4944-86e6-642f64ff6e67",
        "part": "whole"
       },
       "id": "c5ea31e6-5e51-4c4c-b9e3-41baf2b907da"
      }
     }
    },
    "8be33bac-cd18-4ace-83c3-01121cf697b6": {
     "id": "8be33bac-cd18-4ace-83c3-01121cf697b6",
     "prev": "e10d6f0c-5e5e-4938-b235-a0fc9b79db59",
     "regions": {
      "1fb78868-dc09-44b3-bedd-925a323c2e3c": {
       "attrs": {
        "height": 0.8,
        "width": 0.8,
        "x": 0.1,
        "y": 0.1
       },
       "content": {
        "cell": "4a1fe884-f453-426d-8398-32fdb31ab822",
        "part": "whole"
       },
       "id": "1fb78868-dc09-44b3-bedd-925a323c2e3c"
      }
     }
    },
    "8d0ef45f-3fee-47db-b4b2-1d995e944efc": {
     "id": "8d0ef45f-3fee-47db-b4b2-1d995e944efc",
     "prev": "50a66601-f076-446d-83bc-9eee3b08f2ab",
     "regions": {
      "8f0c99ba-c6ac-4320-9913-fb769bbf0f35": {
       "attrs": {
        "height": 0.8,
        "width": 0.8,
        "x": 0.1,
        "y": 0.1
       },
       "content": {
        "cell": "89e87b6b-e071-4d3e-be70-abfba498d3dc",
        "part": "whole"
       },
       "id": "8f0c99ba-c6ac-4320-9913-fb769bbf0f35"
      }
     }
    },
    "8dd2becc-8895-4430-a3e5-5e71d2ba6d5e": {
     "id": "8dd2becc-8895-4430-a3e5-5e71d2ba6d5e",
     "prev": "dc98dc81-e4b7-4300-bddd-5eae835ed3aa",
     "regions": {
      "d1fcd693-4bed-42b0-a2ce-44ed73a56e21": {
       "attrs": {
        "height": 0.8,
        "width": 0.8,
        "x": 0.1,
        "y": 0.1
       },
       "content": {
        "cell": "3507b962-4316-44d5-a640-ef0f2c464719",
        "part": "whole"
       },
       "id": "d1fcd693-4bed-42b0-a2ce-44ed73a56e21"
      }
     }
    },
    "8e223579-4f25-4e17-8fcd-763c34250bf3": {
     "id": "8e223579-4f25-4e17-8fcd-763c34250bf3",
     "prev": "e85336b2-21fd-42ae-a1ba-5166212633c5",
     "regions": {
      "4b7e42a6-fb79-4979-a72e-1d823bc95437": {
       "attrs": {
        "height": 0.8,
        "width": 0.8,
        "x": 0.1,
        "y": 0.1
       },
       "content": {
        "cell": "b20cc52d-7610-4d63-8621-b097e8f138cb",
        "part": "whole"
       },
       "id": "4b7e42a6-fb79-4979-a72e-1d823bc95437"
      }
     }
    },
    "938fcc93-a662-4b90-9fdc-1881ba29c7e5": {
     "id": "938fcc93-a662-4b90-9fdc-1881ba29c7e5",
     "prev": "3586b75d-a24e-43a6-aa1e-12287132d034",
     "regions": {
      "c07318a3-616f-4a80-96f4-4c6ee9e49f6c": {
       "attrs": {
        "height": 0.8,
        "width": 0.8,
        "x": 0.1,
        "y": 0.1
       },
       "content": {
        "cell": "1ff525fd-c41e-48b4-b168-aeb76cc31bb2",
        "part": "whole"
       },
       "id": "c07318a3-616f-4a80-96f4-4c6ee9e49f6c"
      }
     }
    },
    "974d6545-aec5-4ca5-9c92-cb42300d8347": {
     "id": "974d6545-aec5-4ca5-9c92-cb42300d8347",
     "prev": "8d0ef45f-3fee-47db-b4b2-1d995e944efc",
     "regions": {
      "af5076cb-470e-470c-8d86-3a3f668534f6": {
       "attrs": {
        "height": 0.8,
        "width": 0.8,
        "x": 0.1,
        "y": 0.1
       },
       "content": {
        "cell": "da90c760-cf1d-4469-88c7-862de4303f00",
        "part": "whole"
       },
       "id": "af5076cb-470e-470c-8d86-3a3f668534f6"
      }
     }
    },
    "a079a416-2249-4452-bbcd-9bc9fdf09f6f": {
     "id": "a079a416-2249-4452-bbcd-9bc9fdf09f6f",
     "prev": "61bd5f52-bbcb-43f6-b157-683cb65f6b92",
     "regions": {
      "596deae0-0999-4f83-ae5d-a5a7a4f12276": {
       "attrs": {
        "height": 0.8,
        "width": 0.8,
        "x": 0.1,
        "y": 0.1
       },
       "content": {
        "cell": "a7426b9f-44f5-40db-998f-47c08e12631a",
        "part": "whole"
       },
       "id": "596deae0-0999-4f83-ae5d-a5a7a4f12276"
      }
     }
    },
    "a30f0c9d-67ab-42b2-8dd3-f5a25f4d3412": {
     "id": "a30f0c9d-67ab-42b2-8dd3-f5a25f4d3412",
     "prev": null,
     "regions": {
      "d592baed-23a7-455f-9b15-f7b2574d7f0f": {
       "attrs": {
        "height": 0.8,
        "width": 0.8,
        "x": 0.1,
        "y": 0.1
       },
       "content": {
        "cell": "cc0e8752-ef77-4c2a-a85f-06cad83c75f8",
        "part": "whole"
       },
       "id": "d592baed-23a7-455f-9b15-f7b2574d7f0f"
      }
     }
    },
    "a3eaf33d-ddd5-4f43-b5bd-6c3115a4942d": {
     "id": "a3eaf33d-ddd5-4f43-b5bd-6c3115a4942d",
     "prev": "3c0f97bc-8bd2-4e31-a8d5-d0fc7c8b142f",
     "regions": {
      "0a64a1ad-d186-44a1-8610-caccf8d35e85": {
       "attrs": {
        "height": 0.8,
        "width": 0.8,
        "x": 0.1,
        "y": 0.1
       },
       "content": {
        "cell": "72a315bd-88e9-4439-a1de-84f059f2a113",
        "part": "whole"
       },
       "id": "0a64a1ad-d186-44a1-8610-caccf8d35e85"
      }
     }
    },
    "a6654632-fc16-41a6-9e64-bc70ca7d8e2e": {
     "id": "a6654632-fc16-41a6-9e64-bc70ca7d8e2e",
     "prev": "74ff851a-f987-4b65-bbe5-5025953fba65",
     "regions": {
      "ab1da521-5d0b-4cb4-832a-bab57cd695cc": {
       "attrs": {
        "height": 0.8,
        "width": 0.8,
        "x": 0.1,
        "y": 0.1
       },
       "content": {
        "cell": "0d568570-8e5c-41b2-8196-27b626b97307",
        "part": "whole"
       },
       "id": "ab1da521-5d0b-4cb4-832a-bab57cd695cc"
      }
     }
    },
    "a76f3e51-b3c5-42b0-a47c-428c2262c17f": {
     "id": "a76f3e51-b3c5-42b0-a47c-428c2262c17f",
     "prev": "fedabc29-e6d2-47b5-a6e9-3d1165aa7845",
     "regions": {
      "29ab620d-80fc-4b97-a6f8-3468ccaf26cb": {
       "attrs": {
        "height": 0.8,
        "width": 0.8,
        "x": 0.1,
        "y": 0.1
       },
       "content": {
        "cell": "d2d214b2-a977-4c48-bc4b-6b8000858197",
        "part": "whole"
       },
       "id": "29ab620d-80fc-4b97-a6f8-3468ccaf26cb"
      }
     }
    },
    "a80411a9-d656-4e72-9624-87bfcdd4bb9c": {
     "id": "a80411a9-d656-4e72-9624-87bfcdd4bb9c",
     "prev": "7177d7a3-4f7d-4f9f-8ca5-bb812c4f532e",
     "regions": {
      "2ae67d62-eca3-46ef-b52f-e23036e05cc7": {
       "attrs": {
        "height": 0.8,
        "width": 0.8,
        "x": 0.1,
        "y": 0.1
       },
       "content": {
        "cell": "496b064b-6f12-4f65-86bb-9aa764b3c857",
        "part": "whole"
       },
       "id": "2ae67d62-eca3-46ef-b52f-e23036e05cc7"
      }
     }
    },
    "aba56cb8-65f7-4ec1-a4fa-096a4a8b4f4a": {
     "id": "aba56cb8-65f7-4ec1-a4fa-096a4a8b4f4a",
     "prev": "39475adb-3914-48c9-8d05-20e414bd8783",
     "regions": {
      "981faa08-a4a8-41e0-8b4b-e27efa8dea29": {
       "attrs": {
        "height": 0.8,
        "width": 0.8,
        "x": 0.1,
        "y": 0.1
       },
       "content": {
        "cell": "73f3d057-6301-40ab-9b6a-16ec66936383",
        "part": "whole"
       },
       "id": "981faa08-a4a8-41e0-8b4b-e27efa8dea29"
      }
     }
    },
    "af790f2a-2dcd-4f1d-8dfc-f0c49a080a3f": {
     "id": "af790f2a-2dcd-4f1d-8dfc-f0c49a080a3f",
     "prev": "f5c34511-3e5f-4b00-8e89-78126ad4b115",
     "regions": {
      "28da7074-59f7-4e9b-86d4-12fb6917162e": {
       "attrs": {
        "height": 0.8,
        "width": 0.8,
        "x": 0.1,
        "y": 0.1
       },
       "content": {
        "cell": "cb740860-63bd-4bfa-a0a9-6bf27ef5ff52",
        "part": "whole"
       },
       "id": "28da7074-59f7-4e9b-86d4-12fb6917162e"
      }
     }
    },
    "af862f98-d36c-47c7-ae30-4874744f8ce0": {
     "id": "af862f98-d36c-47c7-ae30-4874744f8ce0",
     "prev": "aba56cb8-65f7-4ec1-a4fa-096a4a8b4f4a",
     "regions": {
      "17974ac3-460c-4548-b5f0-4927dffe56c7": {
       "attrs": {
        "height": 0.8,
        "width": 0.8,
        "x": 0.1,
        "y": 0.1
       },
       "content": {
        "cell": "939a21e0-6e30-4a1f-a7c2-4131849c699c",
        "part": "whole"
       },
       "id": "17974ac3-460c-4548-b5f0-4927dffe56c7"
      }
     }
    },
    "bd6ec894-de88-432b-b48a-b2da152180d9": {
     "id": "bd6ec894-de88-432b-b48a-b2da152180d9",
     "prev": "a30f0c9d-67ab-42b2-8dd3-f5a25f4d3412",
     "regions": {
      "c30cef55-2394-4884-9e0c-fe88917bede6": {
       "attrs": {
        "height": 0.8,
        "width": 0.8,
        "x": 0.1,
        "y": 0.1
       },
       "content": {
        "cell": "487dcd59-a299-45a1-b5f1-faa979bed68e",
        "part": "whole"
       },
       "id": "c30cef55-2394-4884-9e0c-fe88917bede6"
      }
     }
    },
    "bf878646-b6df-4e7d-9717-bebfadf3eb1f": {
     "id": "bf878646-b6df-4e7d-9717-bebfadf3eb1f",
     "prev": "d05ee3de-fd9b-49b0-83ac-aa35dbdf9b45",
     "regions": {
      "f9b9480c-ae81-4096-ab3e-7f408e1a14ad": {
       "attrs": {
        "height": 0.8,
        "width": 0.8,
        "x": 0.1,
        "y": 0.1
       },
       "content": {
        "cell": "1a7e46c7-26f9-4f5d-b4bd-136a57b12b95",
        "part": "whole"
       },
       "id": "f9b9480c-ae81-4096-ab3e-7f408e1a14ad"
      }
     }
    },
    "c4961315-1136-424d-a02e-713984e14bb6": {
     "id": "c4961315-1136-424d-a02e-713984e14bb6",
     "prev": "cfbedd69-28fa-4866-aa7d-053cebfc8f64",
     "regions": {
      "14e8d840-feb7-4947-9346-af29deb032f7": {
       "attrs": {
        "height": 0.8,
        "width": 0.8,
        "x": 0.1,
        "y": 0.1
       },
       "content": {
        "cell": "ceff14ca-6ef2-4585-95f7-d30f559fe66e",
        "part": "whole"
       },
       "id": "14e8d840-feb7-4947-9346-af29deb032f7"
      }
     }
    },
    "c5d02907-187d-453a-bb36-b98954c07d0f": {
     "id": "c5d02907-187d-453a-bb36-b98954c07d0f",
     "prev": "8dd2becc-8895-4430-a3e5-5e71d2ba6d5e",
     "regions": {
      "7b221e41-b076-4698-9fda-02a50a0cb6aa": {
       "attrs": {
        "height": 0.8,
        "width": 0.8,
        "x": 0.1,
        "y": 0.1
       },
       "content": {
        "cell": "6df58a7f-ff65-4b16-8330-d47bbafcc4f3",
        "part": "whole"
       },
       "id": "7b221e41-b076-4698-9fda-02a50a0cb6aa"
      }
     }
    },
    "c82d65b2-4040-47f7-8157-6051f7dfcbc6": {
     "id": "c82d65b2-4040-47f7-8157-6051f7dfcbc6",
     "prev": "e1e246a6-7d2f-4a7e-b477-8451f98f55b8",
     "regions": {
      "7e3528cb-656f-451d-9fbb-1544b62ac6d5": {
       "attrs": {
        "height": 0.8,
        "width": 0.8,
        "x": 0.1,
        "y": 0.1
       },
       "content": {
        "cell": "f5a84a06-5261-407b-ad54-3eec1ea965c0",
        "part": "whole"
       },
       "id": "7e3528cb-656f-451d-9fbb-1544b62ac6d5"
      }
     }
    },
    "cfbedd69-28fa-4866-aa7d-053cebfc8f64": {
     "id": "cfbedd69-28fa-4866-aa7d-053cebfc8f64",
     "prev": "664a007d-fc4b-47b2-bf6e-d19ea479f6ac",
     "regions": {
      "a6acf0aa-18d1-4513-ae00-78b1a7c4d5b5": {
       "attrs": {
        "height": 0.8,
        "width": 0.8,
        "x": 0.1,
        "y": 0.1
       },
       "content": {
        "cell": "06678d45-1241-4e0b-a579-325079587058",
        "part": "whole"
       },
       "id": "a6acf0aa-18d1-4513-ae00-78b1a7c4d5b5"
      }
     }
    },
    "d05ee3de-fd9b-49b0-83ac-aa35dbdf9b45": {
     "id": "d05ee3de-fd9b-49b0-83ac-aa35dbdf9b45",
     "prev": "3eb339be-c037-4d52-a7f8-9bf4dd812fb2",
     "regions": {
      "873fa4bb-376f-4a32-8c6d-40c09289bb7c": {
       "attrs": {
        "height": 0.8,
        "width": 0.8,
        "x": 0.1,
        "y": 0.1
       },
       "content": {
        "cell": "24815ff4-8bf4-4b36-9126-a648a7df7800",
        "part": "whole"
       },
       "id": "873fa4bb-376f-4a32-8c6d-40c09289bb7c"
      }
     }
    },
    "d30854d1-453d-43fb-b08c-eb55c2247c97": {
     "id": "d30854d1-453d-43fb-b08c-eb55c2247c97",
     "prev": "446bf9d0-7578-45b4-b5d3-792369c87432",
     "regions": {
      "ecc0e549-5bc5-4835-83d4-26514f2cf2de": {
       "attrs": {
        "height": 0.8,
        "width": 0.8,
        "x": 0.1,
        "y": 0.1
       },
       "content": {
        "cell": "85ad2650-d0f4-4967-9ad1-c4b314a12ee1",
        "part": "whole"
       },
       "id": "ecc0e549-5bc5-4835-83d4-26514f2cf2de"
      }
     }
    },
    "d3d28f87-9c3b-4508-8a80-e6288ea1bb39": {
     "id": "d3d28f87-9c3b-4508-8a80-e6288ea1bb39",
     "prev": "e96cb282-5581-44a5-9793-2be4e33ade58",
     "regions": {
      "55845761-917d-4524-a4eb-a83fb48253c3": {
       "attrs": {
        "height": 0.8,
        "width": 0.8,
        "x": 0.1,
        "y": 0.1
       },
       "content": {
        "cell": "6bef8831-62ad-425c-b840-d60b092571e4",
        "part": "whole"
       },
       "id": "55845761-917d-4524-a4eb-a83fb48253c3"
      }
     }
    },
    "d539cabc-fcb0-44d1-8cef-a98167017b05": {
     "id": "d539cabc-fcb0-44d1-8cef-a98167017b05",
     "prev": "a80411a9-d656-4e72-9624-87bfcdd4bb9c",
     "regions": {
      "be1fe8b8-5b09-438e-85d1-ef255be2bbb3": {
       "attrs": {
        "height": 0.8,
        "width": 0.8,
        "x": 0.1,
        "y": 0.1
       },
       "content": {
        "cell": "cdf961a5-a7a0-4546-88f4-3ca30d43f922",
        "part": "whole"
       },
       "id": "be1fe8b8-5b09-438e-85d1-ef255be2bbb3"
      }
     }
    },
    "dc98dc81-e4b7-4300-bddd-5eae835ed3aa": {
     "id": "dc98dc81-e4b7-4300-bddd-5eae835ed3aa",
     "prev": "70990971-af35-4e84-85c7-88b5caafdada",
     "regions": {
      "c88c6412-9cf5-4c76-8bda-5c33dd4c21fb": {
       "attrs": {
        "height": 0.8,
        "width": 0.8,
        "x": 0.1,
        "y": 0.1
       },
       "content": {
        "cell": "0fd58901-b675-4927-ae81-ba6d05d10336",
        "part": "whole"
       },
       "id": "c88c6412-9cf5-4c76-8bda-5c33dd4c21fb"
      }
     }
    },
    "e10d6f0c-5e5e-4938-b235-a0fc9b79db59": {
     "id": "e10d6f0c-5e5e-4938-b235-a0fc9b79db59",
     "prev": "a6654632-fc16-41a6-9e64-bc70ca7d8e2e",
     "regions": {
      "0a96e63a-a87f-48a5-bbdf-deb19a1c6618": {
       "attrs": {
        "height": 0.8,
        "width": 0.8,
        "x": 0.1,
        "y": 0.1
       },
       "content": {
        "cell": "a26779cf-c547-4cbf-9344-45a507769a72",
        "part": "whole"
       },
       "id": "0a96e63a-a87f-48a5-bbdf-deb19a1c6618"
      }
     }
    },
    "e1e246a6-7d2f-4a7e-b477-8451f98f55b8": {
     "id": "e1e246a6-7d2f-4a7e-b477-8451f98f55b8",
     "prev": "4f6586d4-4f74-4e2f-add1-20e6fb567de6",
     "regions": {
      "8e4cbe39-e34a-457d-b10b-a2e1250ab2e4": {
       "attrs": {
        "height": 0.8,
        "width": 0.8,
        "x": 0.1,
        "y": 0.1
       },
       "content": {
        "cell": "01c3610f-757b-4671-a821-80e1846bb2e7",
        "part": "whole"
       },
       "id": "8e4cbe39-e34a-457d-b10b-a2e1250ab2e4"
      }
     }
    },
    "e2e0885a-3d62-4483-adfc-62eb624cc985": {
     "id": "e2e0885a-3d62-4483-adfc-62eb624cc985",
     "prev": "7dd0a2f6-dcc6-4ca9-89b4-63a1f74b671b",
     "regions": {
      "e2ac1f20-b93d-456d-be19-6cc1ed55f99a": {
       "attrs": {
        "height": 0.8,
        "width": 0.8,
        "x": 0.1,
        "y": 0.1
       },
       "content": {
        "cell": "9c141f87-c134-45f9-838b-eac5e72bdf0b",
        "part": "whole"
       },
       "id": "e2ac1f20-b93d-456d-be19-6cc1ed55f99a"
      }
     }
    },
    "e85336b2-21fd-42ae-a1ba-5166212633c5": {
     "id": "e85336b2-21fd-42ae-a1ba-5166212633c5",
     "prev": "c82d65b2-4040-47f7-8157-6051f7dfcbc6",
     "regions": {
      "c75929b0-eeae-44a5-9401-4a69e96650ff": {
       "attrs": {
        "height": 0.8,
        "width": 0.8,
        "x": 0.1,
        "y": 0.1
       },
       "content": {
        "cell": "7ac43dc8-3ca1-4467-a5d1-91118c3270c7",
        "part": "whole"
       },
       "id": "c75929b0-eeae-44a5-9401-4a69e96650ff"
      }
     }
    },
    "e96cb282-5581-44a5-9793-2be4e33ade58": {
     "id": "e96cb282-5581-44a5-9793-2be4e33ade58",
     "prev": "ec61484d-a4ef-46a0-bb96-489c163654bb",
     "regions": {
      "cdf10309-6642-4603-9290-9f884f39d555": {
       "attrs": {
        "height": 0.8,
        "width": 0.8,
        "x": 0.1,
        "y": 0.1
       },
       "content": {
        "cell": "e8ade09e-591c-47ed-8fdc-445ce00c46aa",
        "part": "whole"
       },
       "id": "cdf10309-6642-4603-9290-9f884f39d555"
      }
     }
    },
    "ea696e7a-2b8e-43cc-abc4-d734f365f493": {
     "id": "ea696e7a-2b8e-43cc-abc4-d734f365f493",
     "prev": "d30854d1-453d-43fb-b08c-eb55c2247c97",
     "regions": {
      "16958e3f-09b2-49d5-861b-1cfd2d869410": {
       "attrs": {
        "height": 0.8,
        "width": 0.8,
        "x": 0.1,
        "y": 0.1
       },
       "content": {
        "cell": "21617de9-afd2-4b61-97d1-b4271745da41",
        "part": "whole"
       },
       "id": "16958e3f-09b2-49d5-861b-1cfd2d869410"
      }
     }
    },
    "ec61484d-a4ef-46a0-bb96-489c163654bb": {
     "id": "ec61484d-a4ef-46a0-bb96-489c163654bb",
     "prev": "e2e0885a-3d62-4483-adfc-62eb624cc985",
     "regions": {
      "c851bfaa-1615-4f91-9143-58ea12488a06": {
       "attrs": {
        "height": 0.8,
        "width": 0.8,
        "x": 0.1,
        "y": 0.1
       },
       "content": {
        "cell": "44a04ff1-a9f5-4b32-b195-be53e3bd83bb",
        "part": "whole"
       },
       "id": "c851bfaa-1615-4f91-9143-58ea12488a06"
      }
     }
    },
    "eeb9ae84-c104-4126-9710-90c3f7873149": {
     "id": "eeb9ae84-c104-4126-9710-90c3f7873149",
     "prev": "11427219-0dad-47fe-bbc1-6b2cece3cb91",
     "regions": {
      "3fc93033-5a6d-4242-a13e-fc435087af1c": {
       "attrs": {
        "height": 0.8,
        "width": 0.8,
        "x": 0.1,
        "y": 0.1
       },
       "content": {
        "cell": "037a4d9d-25cc-44d8-9a90-ebcb9b4b4883",
        "part": "whole"
       },
       "id": "3fc93033-5a6d-4242-a13e-fc435087af1c"
      }
     }
    },
    "efaaee7d-2bf4-4c02-9f02-011184a5e62c": {
     "id": "efaaee7d-2bf4-4c02-9f02-011184a5e62c",
     "prev": "f03ae19d-fdf2-444b-bff1-14dd7bdd62dc",
     "regions": {
      "5334fceb-1fc4-42e6-a410-47a90e3d3c8d": {
       "attrs": {
        "height": 0.8,
        "width": 0.8,
        "x": 0.1,
        "y": 0.1
       },
       "content": {
        "cell": "93c987c9-0ea1-4420-96ef-3d6453f445c1",
        "part": "whole"
       },
       "id": "5334fceb-1fc4-42e6-a410-47a90e3d3c8d"
      }
     }
    },
    "f004b5cd-a300-43a8-8d00-730279849419": {
     "id": "f004b5cd-a300-43a8-8d00-730279849419",
     "prev": "192830e6-0873-44a8-baa0-16d0aa1a273f",
     "regions": {
      "a0fe038a-2aea-4a38-be08-84a082f65724": {
       "attrs": {
        "height": 0.8,
        "width": 0.8,
        "x": 0.1,
        "y": 0.1
       },
       "content": {
        "cell": "359f23e1-4619-4177-a447-695cf538b5be",
        "part": "whole"
       },
       "id": "a0fe038a-2aea-4a38-be08-84a082f65724"
      }
     }
    },
    "f0197e47-49c1-48e3-96de-6f9ecc555fd7": {
     "id": "f0197e47-49c1-48e3-96de-6f9ecc555fd7",
     "prev": "fb5fa046-eb15-49ff-9c99-b2feb8dbc291",
     "regions": {
      "db16344a-6f0c-4435-a238-f33f2e3c72a7": {
       "attrs": {
        "height": 0.8,
        "width": 0.8,
        "x": 0.1,
        "y": 0.1
       },
       "content": {
        "cell": "f3cabdac-6494-449d-a6b5-94735e32467b",
        "part": "whole"
       },
       "id": "db16344a-6f0c-4435-a238-f33f2e3c72a7"
      }
     }
    },
    "f03ae19d-fdf2-444b-bff1-14dd7bdd62dc": {
     "id": "f03ae19d-fdf2-444b-bff1-14dd7bdd62dc",
     "prev": "3b47544d-8d76-4511-85a5-5bfbd3704288",
     "regions": {
      "6d61b0e1-4dd5-4535-b026-f790a40b11c0": {
       "attrs": {
        "height": 0.8,
        "width": 0.8,
        "x": 0.1,
        "y": 0.1
       },
       "content": {
        "cell": "fc19ed99-cbde-44ac-af99-b039c8f1d211",
        "part": "whole"
       },
       "id": "6d61b0e1-4dd5-4535-b026-f790a40b11c0"
      }
     }
    },
    "f08f0793-b971-4fe7-876d-5a6c30475271": {
     "id": "f08f0793-b971-4fe7-876d-5a6c30475271",
     "prev": "2028498a-14da-460b-908f-7413b704caa4",
     "regions": {
      "398332f3-231a-47b5-b742-db70a99956c5": {
       "attrs": {
        "height": 0.8,
        "width": 0.8,
        "x": 0.1,
        "y": 0.1
       },
       "content": {
        "cell": "8302fcd6-c0a4-43b7-b863-e7b13ff1e32b",
        "part": "whole"
       },
       "id": "398332f3-231a-47b5-b742-db70a99956c5"
      }
     }
    },
    "f5c34511-3e5f-4b00-8e89-78126ad4b115": {
     "id": "f5c34511-3e5f-4b00-8e89-78126ad4b115",
     "prev": "f9eff1e5-4b33-4604-8b32-ee01e1ec7553",
     "regions": {
      "2bd1166c-282b-4064-889d-ba0814a04e50": {
       "attrs": {
        "height": 0.8,
        "width": 0.8,
        "x": 0.1,
        "y": 0.1
       },
       "content": {
        "cell": "686f4fcf-3240-432b-b3ea-b2b1b14cdd50",
        "part": "whole"
       },
       "id": "2bd1166c-282b-4064-889d-ba0814a04e50"
      }
     }
    },
    "f69ab917-41e8-4551-a3d5-e11325eee198": {
     "id": "f69ab917-41e8-4551-a3d5-e11325eee198",
     "prev": "974d6545-aec5-4ca5-9c92-cb42300d8347",
     "regions": {
      "40387968-1d5f-467f-af8d-0513e94f5409": {
       "attrs": {
        "height": 0.8,
        "width": 0.8,
        "x": 0.1,
        "y": 0.1
       },
       "content": {
        "cell": "55a93f2b-65ef-4d0e-9e00-4959da2c5cd4",
        "part": "whole"
       },
       "id": "40387968-1d5f-467f-af8d-0513e94f5409"
      }
     }
    },
    "f88a8289-c2bd-4417-b796-4f06333f00e6": {
     "id": "f88a8289-c2bd-4417-b796-4f06333f00e6",
     "prev": "5492a653-f01b-455f-a89b-05c34a09cbd0",
     "regions": {
      "a7d36602-3140-4839-b5c0-f8969fce381a": {
       "attrs": {
        "height": 0.8,
        "width": 0.8,
        "x": 0.1,
        "y": 0.1
       },
       "content": {
        "cell": "fa420a43-d93a-4fd8-942a-24c09f42b2a4",
        "part": "whole"
       },
       "id": "a7d36602-3140-4839-b5c0-f8969fce381a"
      }
     }
    },
    "f9eff1e5-4b33-4604-8b32-ee01e1ec7553": {
     "id": "f9eff1e5-4b33-4604-8b32-ee01e1ec7553",
     "prev": "18d44387-63c9-4fed-a52b-df9c01ae3049",
     "regions": {
      "f7e7230f-1312-455b-8e77-428d2db78302": {
       "attrs": {
        "height": 0.8,
        "width": 0.8,
        "x": 0.1,
        "y": 0.1
       },
       "content": {
        "cell": "d6839af8-4971-4814-9a0e-b4b723ba1f1e",
        "part": "whole"
       },
       "id": "f7e7230f-1312-455b-8e77-428d2db78302"
      }
     }
    },
    "fb592289-0fee-497c-a5da-039c3a14ea83": {
     "id": "fb592289-0fee-497c-a5da-039c3a14ea83",
     "prev": "20ccff14-3cbb-4fcf-9924-4cd2b7e46009",
     "regions": {
      "2c670c66-0b30-49f9-b480-b61f9971147f": {
       "attrs": {
        "height": 0.8,
        "width": 0.8,
        "x": 0.1,
        "y": 0.1
       },
       "content": {
        "cell": "33e1bb23-11ad-4cd5-9baa-004209e13edf",
        "part": "whole"
       },
       "id": "2c670c66-0b30-49f9-b480-b61f9971147f"
      }
     }
    },
    "fb5fa046-eb15-49ff-9c99-b2feb8dbc291": {
     "id": "fb5fa046-eb15-49ff-9c99-b2feb8dbc291",
     "prev": "1bfd1080-225c-4c12-9d67-37c07ee27883",
     "regions": {
      "cc99c631-a473-4f5a-82b2-fdc55de99a55": {
       "attrs": {
        "height": 0.8,
        "width": 0.8,
        "x": 0.1,
        "y": 0.1
       },
       "content": {
        "cell": "21fefa12-a763-42cf-80b1-93e89a8ccf6a",
        "part": "whole"
       },
       "id": "cc99c631-a473-4f5a-82b2-fdc55de99a55"
      }
     }
    },
    "fedabc29-e6d2-47b5-a6e9-3d1165aa7845": {
     "id": "fedabc29-e6d2-47b5-a6e9-3d1165aa7845",
     "prev": "23fcd6fd-4047-434a-b316-16bcab4be6fd",
     "regions": {
      "3ffb199f-7cba-452b-a5e0-92ffffd58290": {
       "attrs": {
        "height": 0.8,
        "width": 0.8,
        "x": 0.1,
        "y": 0.1
       },
       "content": {
        "cell": "0484c62b-b7ee-4fd4-8a8c-ef83ad49e546",
        "part": "whole"
       },
       "id": "3ffb199f-7cba-452b-a5e0-92ffffd58290"
      }
     }
    }
   },
   "themes": {
    "default": "e8646185-7bf4-4a01-a940-b5bad67447e1",
    "theme": {
     "6ea2de17-2f70-41c5-bdad-543e8061b2c4": {
      "id": "6ea2de17-2f70-41c5-bdad-543e8061b2c4",
      "palette": {
       "19cc588f-0593-49c9-9f4b-e4d7cc113b1c": {
        "id": "19cc588f-0593-49c9-9f4b-e4d7cc113b1c",
        "rgb": [
         252,
         252,
         252
        ]
       },
       "31af15d2-7e15-44c5-ab5e-e04b16a89eff": {
        "id": "31af15d2-7e15-44c5-ab5e-e04b16a89eff",
        "rgb": [
         68,
         68,
         68
        ]
       },
       "50f92c45-a630-455b-aec3-788680ec7410": {
        "id": "50f92c45-a630-455b-aec3-788680ec7410",
        "rgb": [
         155,
         177,
         192
        ]
       },
       "c5cc3653-2ee1-402a-aba2-7caae1da4f6c": {
        "id": "c5cc3653-2ee1-402a-aba2-7caae1da4f6c",
        "rgb": [
         43,
         126,
         184
        ]
       },
       "efa7f048-9acb-414c-8b04-a26811511a21": {
        "id": "efa7f048-9acb-414c-8b04-a26811511a21",
        "rgb": [
         25.118061674008803,
         73.60176211453744,
         107.4819383259912
        ]
       }
      },
      "rules": {
       "blockquote": {
        "color": "50f92c45-a630-455b-aec3-788680ec7410"
       },
       "code": {
        "font-family": "Anonymous Pro"
       },
       "h1": {
        "color": "c5cc3653-2ee1-402a-aba2-7caae1da4f6c",
        "font-family": "Lato",
        "font-size": 8
       },
       "h2": {
        "color": "c5cc3653-2ee1-402a-aba2-7caae1da4f6c",
        "font-family": "Lato",
        "font-size": 6
       },
       "h3": {
        "color": "50f92c45-a630-455b-aec3-788680ec7410",
        "font-family": "Lato",
        "font-size": 5.5
       },
       "h4": {
        "color": "c5cc3653-2ee1-402a-aba2-7caae1da4f6c",
        "font-family": "Lato",
        "font-size": 5
       },
       "h5": {
        "font-family": "Lato"
       },
       "h6": {
        "font-family": "Lato"
       },
       "h7": {
        "font-family": "Lato"
       },
       "pre": {
        "font-family": "Anonymous Pro",
        "font-size": 4
       }
      },
      "text-base": {
       "font-family": "Merriweather",
       "font-size": 4
      }
     },
     "e8646185-7bf4-4a01-a940-b5bad67447e1": {
      "backgrounds": {
       "dc7afa04-bf90-40b1-82a5-726e3cff5267": {
        "background-color": "31af15d2-7e15-44c5-ab5e-e04b16a89eff",
        "id": "dc7afa04-bf90-40b1-82a5-726e3cff5267"
       }
      },
      "id": "e8646185-7bf4-4a01-a940-b5bad67447e1",
      "palette": {
       "19cc588f-0593-49c9-9f4b-e4d7cc113b1c": {
        "id": "19cc588f-0593-49c9-9f4b-e4d7cc113b1c",
        "rgb": [
         252,
         252,
         252
        ]
       },
       "31af15d2-7e15-44c5-ab5e-e04b16a89eff": {
        "id": "31af15d2-7e15-44c5-ab5e-e04b16a89eff",
        "rgb": [
         68,
         68,
         68
        ]
       },
       "50f92c45-a630-455b-aec3-788680ec7410": {
        "id": "50f92c45-a630-455b-aec3-788680ec7410",
        "rgb": [
         197,
         226,
         245
        ]
       },
       "c5cc3653-2ee1-402a-aba2-7caae1da4f6c": {
        "id": "c5cc3653-2ee1-402a-aba2-7caae1da4f6c",
        "rgb": [
         43,
         126,
         184
        ]
       },
       "efa7f048-9acb-414c-8b04-a26811511a21": {
        "id": "efa7f048-9acb-414c-8b04-a26811511a21",
        "rgb": [
         25.118061674008803,
         73.60176211453744,
         107.4819383259912
        ]
       }
      },
      "rules": {
       "a": {
        "color": "19cc588f-0593-49c9-9f4b-e4d7cc113b1c"
       },
       "blockquote": {
        "color": "50f92c45-a630-455b-aec3-788680ec7410",
        "font-size": 3
       },
       "code": {
        "font-family": "Anonymous Pro"
       },
       "h1": {
        "color": "19cc588f-0593-49c9-9f4b-e4d7cc113b1c",
        "font-family": "Merriweather",
        "font-size": 8
       },
       "h2": {
        "color": "19cc588f-0593-49c9-9f4b-e4d7cc113b1c",
        "font-family": "Merriweather",
        "font-size": 6
       },
       "h3": {
        "color": "50f92c45-a630-455b-aec3-788680ec7410",
        "font-family": "Lato",
        "font-size": 5.5
       },
       "h4": {
        "color": "c5cc3653-2ee1-402a-aba2-7caae1da4f6c",
        "font-family": "Lato",
        "font-size": 5
       },
       "h5": {
        "font-family": "Lato"
       },
       "h6": {
        "font-family": "Lato"
       },
       "h7": {
        "font-family": "Lato"
       },
       "li": {
        "color": "50f92c45-a630-455b-aec3-788680ec7410",
        "font-size": 3.25
       },
       "pre": {
        "font-family": "Anonymous Pro",
        "font-size": 4
       }
      },
      "text-base": {
       "color": "19cc588f-0593-49c9-9f4b-e4d7cc113b1c",
       "font-family": "Lato",
       "font-size": 4
      }
     }
    }
   }
  }
 },
 "nbformat": 4,
 "nbformat_minor": 1
}

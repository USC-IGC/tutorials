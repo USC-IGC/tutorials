{
 "cells": [
  {
   "cell_type": "markdown",
   "metadata": {},
   "source": [
    "# Python Basics"
   ]
  },
  {
   "cell_type": "markdown",
   "metadata": {},
   "source": [
    "## Table of Contents\n",
    "\n",
    "* [Installing Python](#install)\n",
    "* [Python Interpreters](#interpret)\n",
    "* [Getting Started](#start)\n",
    "* [Object Types](#types)\n",
    "    * [Strings](#str)\n",
    "    * [Integers/Floats](#nums)\n",
    "    * [Strings, Part2](#str2)\n",
    "    * [Lists](#lists)\n",
    "    * [Dictionaries](#dicts)\n",
    "    * [Functions](#funcs)\n",
    "    * [Lambda Functions](#lambda)\n",
    "* [Flow Control](#flow)\n",
    "* [Useful Functions](#useful)\n",
    "* [Reading/Writing Text Files](#textfiles)\n",
    "* [Libraries/Packages](#libraries)\n",
    "    * [NumPy](#numpy)\n",
    "* [Handling Errors](#errors)\n",
    "* [Examples](#examples)"
   ]
  },
  {
   "cell_type": "markdown",
   "metadata": {},
   "source": [
    "Python is an object-oriented programming language. What does that mean? It means everything is an object. Did that explain nothing? Oops. Let's dive right in and hopefully make sense of things.\n",
    "\n",
    "### Installing Python<a class=\"anchor\" id=\"install\"></a>\n",
    "\n",
    "Actually before we dive, we should probably make sure that there's a swimming pool, lake, or some other body of water that we can actually jump into, so let's talk python installations.\n",
    "\n",
    "There's some python installation on the grid, but it is... bleh. \n",
    "\n",
    "You can download your own python from <a href=\"https://www.python.org/downloads/\">the python website itself</a> or any other distribution such as <a href=\"https://www.enthought.com/product/canopy/\">Enthought Canopy</a> or <a href=\"https://conda.io/docs/user-guide/getting-started.html\">Conda</a>. \n",
    "\n",
    "The reason people may download Canopy or Conda (specifically Anaconda) instead of just plain old python is that they're distributions that come with an additional set of scientific libraries/packages, which you would otherwise have to download yourself one by one. I prefer Conda, so that's what we're going to talk about.\n",
    "\n",
    "Conda is a repository management system, which means that, in addition to giving us python and a bunch of libraries, it also manages them for us. Libraries tend not to exist as standalones. They have a lot of dependencies, which means that one package may not run if you don't have another. Conda will keep track of that for you, so if it installs a new package for you, it'll check that package's dependencies and download/install whatever you're missing. \n",
    "\n",
    "Conda has a couple of download options: Anaconda and Miniconda. A breakdown of the benefits of each can be found <a href=\"https://conda.io/docs/user-guide/install/download.html\">here</a>. Anaconda comes pre-packaged with a lot of libraries that are helpful to us, though neuroimaging-specific ones will still need to be installed separately. Anaconda is the recommended installation for people who are new to python, but feel free to pick whichever and then follow the instructions on the website.\n",
    "\n",
    "In addition to keeping track of dependencies during installation, Conda also allows us to create separate environments in case we want to use different versions of python or any of its packages for different projects. You can find the details <a href=\"https://conda.io/docs/user-guide/tasks/manage-environments.html\">here</a>. \n",
    "\n",
    "### Python Interpreters<a class=\"anchor\" id=\"interpret\"></a>\n",
    "\n",
    "If you would like to write your python code in a script, you can do so in any text editor: gedit (if you must), vim (don't be afraid of it), <a href=\"https://www.jetbrains.com/pycharm/\">pycharm</a> (since it's python specific, it has a lot of great features like debugging, tips on more efficient code writing, and keeping track of your variables/imports), etc. Save the text file with the extension \".py\". However, this python code won't do you any good without an interpreter. \n",
    "\n",
    "<em>python</em>\n",
    "\n",
    "If you run this command in the terminal, you will get a self-contained python interpreter. It'll run python code and python code only. You can also use <font color=\"blue\"><em>python &lt;script_name.py&gt;</em></font> to run a python script as a command line in the terminal.\n",
    "\n",
    "<em>ipython</em>\n",
    "\n",
    "As an interpreter that lives in the terminal, ipython is a souped up version of python. It'll allow some shell commands along with a couple of helpful other tricks, e.g., double tabs for path completion.\n",
    "\n",
    "<em>jupyter notebook</em> (formerly <em>ipython notebook</em>)\n",
    "\n",
    "python and ipython are great for running code, but once you exit out of them, whatever you've run and outputted is gone. The notebook is an interpreter that allows us to run code in pieces, save it along with its outputs, and do write ups. <em>jupyter notebook</em> is available through Anaconda by default, but if you have Miniconda installed instead, you may need to install it separately. NB: running this on the grid is less straightforward than running it on your personal computer.\n",
    "\n",
    "### Getting Started<a class=\"anchor\" id=\"start\"></a>\n",
    "\n",
    "Rather than have everyone install their own python, there's one on the grid that you're free to use:\n",
    "\n",
    "<font color=\"blue\">/ifs/loni/faculty/thompson/four_d/igc_basics/anaconda3/bin/ipython</font>\n",
    "\n",
    "To use this please add the following line to your source file (~/.bashrc)\n",
    "\n",
    "    export PATH=/ifs/loni/faculty/thompson/four_d/igc_basics/anaconda3/bin:$PATH\n",
    "\n",
    "and then in the terminal run\n",
    "\n",
    "    source ~/.bashrc\n",
    "\n",
    "This is python 3.6. There are some differences between python 2 and python 3, but for the most part you won't notice them. (There's also a v2.7 environment that you can use via the command \"source activate py27\".)\n",
    "\n",
    "We can assign a variable by using the equal sign (=). The only constraint on variable names is that they can't begin with numbers. Anything else is free game. These variable names are case specific. If you mistype a variable name or try to call one that hasn't been assigned yet, you'll get a <font color=\"red\">NameError</font>. \n",
    "\n",
    "We can also comment out text by starting it with a pound sign (#).\n",
    "\n",
    "Helpful tips:\n",
    "\n",
    "<blockquote><p>In ipython and the notebook, adding a question mark immediately after a function will give you the help file. We'll go through some examples below. </p>\n",
    "\n",
    "<p>You can also use tab/double tab to try to autofill variable or function names.</p>\n",
    "\n",
    "<p><font color=\"red\">Please note that these do not work if you just run <em>python</em>.</font></p></blockquote>\n",
    "\n",
    "### Object types <a class=\"anchor\" id='types'></a>\n",
    "\n",
    "When we say everything in python is an object, we mean that everything is a type of something with a given blueprint. As part of this blueprint, objects (types) have two things associated with them: attributes and methods. We can think of attributes as nouns and methods as verbs.\n",
    "\n",
    "Syntactically speaking, we can call these attributes and methods by\n",
    "\n",
    "    object.attribute\n",
    "    object.method()\n",
    "\n",
    "I will now borrow an analogy from my friend Anisha to make things clearer. Let's consider a cell phone as our object. A cell phone can have attributes, such as a contacts page, and it can perform functions, such as calling people.\n",
    "\n",
    "As an object, the cell phone is just a concept. Theoretically, we can save phone numbers in one or call people, but the concept of a phone doesn't really do us any good unless we actually have one in hand. In python, these specific objects are known as instances. To stick with the cell phone analogy, an instance would be my android phone. \n",
    "\n",
    "Now obviously not all objects in the world are cell phones. In fact, none of the objects in python are cell phones, so let's go over some different python objects/types. To start with, the type of a variable or expression can be determined using the <em>type( )</em> function. \n",
    "\n",
    "    type(variable)\n",
    "\n",
    "This will return the type of the variable that you've given.\n",
    "\n",
    "Knowing the type of your variable is important because functions are generally written to operate on a specific type or subset of types. Giving the wrong type of variable to a function will give us a <font color=\"red\">TypeError</font>.\n",
    "\n",
    "#### Strings <a class=\"anchor\" id='str'></a>\n",
    "\n",
    "A string is any number of characters that are grouped together to be one entity. These characters can be any combination of letters, spaces, numbers, punctuation marks, etc. The string can be bookended by either ' or \". The only thing that matters is that you use the same quotation mark at the beginning and the end. This is useful because this gives us the ability to have quotes or apostrophes in a string as long as the character that you use in the string is different than the quote delineating the string (examples: \"Neda's nerds\", '\"Black Panther\" came out earlier this year.'). You can also use ''' or \"\"\", but this is usually used for doc strings or large blocks of text.\n",
    "\n",
    "Let's start with creating a simple string."
   ]
  },
  {
   "cell_type": "code",
   "execution_count": 5,
   "metadata": {
    "collapsed": false
   },
   "outputs": [
    {
     "name": "stdout",
     "output_type": "stream",
     "text": [
      "Hello, World!\n"
     ]
    }
   ],
   "source": [
    "x = \"Hello, World!\" # This creates the string \"Hello World\" and assigns it to the variable x\n",
    "\n",
    "print(x)"
   ]
  },
  {
   "cell_type": "markdown",
   "metadata": {},
   "source": [
    "We used the <em>print( )</em> function to display our string \"Hello, World!\", which is so famous it has its own <a href=\"https://en.wikipedia.org/wiki/%22Hello,_World!%22_program\">wiki page</a>.\n",
    "\n",
    "<p><font color=\"blue\">NB: This is one of the differences between pythons 2 and 3</font>. Python 2 does not require parantheses, e.g. </p>\n",
    "\n",
    "    print x    \n",
    "\n",
    "In terms of backwards compatibility, including the parentheses is no problem for python 2. We're only pointing this out in case you ever run a python2 script through a python3 interpreter.\n",
    "\n",
    "Remember: in ipython you can use the question mark to see the help page for a function. Try running the code below and see what happens. <font color=\"blue\">NB: This will work with python3 but not python2. For python2, try the question mark with a different function.</font>\n",
    "\n",
    "    print?\n",
    "\n",
    "There'll be a lot of optional keyword arguments that you'll probably never use, but it's good to know that they're there.\n",
    "\n",
    "If you write and run a script, only inputs to print statements will be displayed. In a jupyter notebook cell, the displayed output will be that of the last code of line run by default unless there's a print statement in there.\n",
    "\n",
    "#### Integers and Floats  <a class=\"anchor\" id='nums'></a>\n",
    "\n",
    "An integer in python is exactly what one is mathematically: a number of any sign that doesn't have a decimal in it (examples: 0, 3, -2). Numbers that have decimals are floats (examples: 1.5, 2.63).\n",
    "\n",
    "Note that these are not defined with quotations around them."
   ]
  },
  {
   "cell_type": "code",
   "execution_count": 6,
   "metadata": {
    "collapsed": false
   },
   "outputs": [
    {
     "data": {
      "text/plain": [
       "str"
      ]
     },
     "execution_count": 6,
     "metadata": {},
     "output_type": "execute_result"
    }
   ],
   "source": [
    "type('0')"
   ]
  },
  {
   "cell_type": "code",
   "execution_count": 7,
   "metadata": {
    "collapsed": false
   },
   "outputs": [
    {
     "data": {
      "text/plain": [
       "int"
      ]
     },
     "execution_count": 7,
     "metadata": {},
     "output_type": "execute_result"
    }
   ],
   "source": [
    "type(0)"
   ]
  },
  {
   "cell_type": "code",
   "execution_count": 8,
   "metadata": {
    "collapsed": false
   },
   "outputs": [
    {
     "data": {
      "text/plain": [
       "float"
      ]
     },
     "execution_count": 8,
     "metadata": {},
     "output_type": "execute_result"
    }
   ],
   "source": [
    "type(0.0)"
   ]
  },
  {
   "cell_type": "markdown",
   "metadata": {},
   "source": [
    "We can do basic math with these integers and floats.\n",
    "\n",
    "Operators to know:\n",
    "\n",
    "    + addition\n",
    "    - subtraction\n",
    "    * multiplication\n",
    "    / division\n",
    "    ** exponent\n",
    "    % remainder\n",
    "\n",
    "<font color=\"blue\">Here's another difference between python2 and python3.</font> In python2, if all components of a math operation are integers, the output will be an integer even if the result requires decimals (it will take the floor value). If you want float outputs in python2, either change at least one number to a float (add .0) or use the code below before doing any math:\n",
    "\n",
    "    from __future__ import division\n",
    "    \n",
    "Note that this division import is from the future because this isn't a thing in python3. (We'll go over imports more later.) To get the integer division operator in python3, use //.\n",
    "\n",
    "In the meantime, here are some really simple examples."
   ]
  },
  {
   "cell_type": "code",
   "execution_count": 9,
   "metadata": {
    "collapsed": false
   },
   "outputs": [
    {
     "data": {
      "text/plain": [
       "5"
      ]
     },
     "execution_count": 9,
     "metadata": {},
     "output_type": "execute_result"
    }
   ],
   "source": [
    "2 + 3"
   ]
  },
  {
   "cell_type": "code",
   "execution_count": 10,
   "metadata": {
    "collapsed": false
   },
   "outputs": [
    {
     "data": {
      "text/plain": [
       "3"
      ]
     },
     "execution_count": 10,
     "metadata": {},
     "output_type": "execute_result"
    }
   ],
   "source": [
    "8 - 5"
   ]
  },
  {
   "cell_type": "code",
   "execution_count": 11,
   "metadata": {
    "collapsed": false
   },
   "outputs": [
    {
     "data": {
      "text/plain": [
       "18.9"
      ]
     },
     "execution_count": 11,
     "metadata": {},
     "output_type": "execute_result"
    }
   ],
   "source": [
    "3 * 6.3"
   ]
  },
  {
   "cell_type": "code",
   "execution_count": 12,
   "metadata": {
    "collapsed": false
   },
   "outputs": [
    {
     "data": {
      "text/plain": [
       "1.5"
      ]
     },
     "execution_count": 12,
     "metadata": {},
     "output_type": "execute_result"
    }
   ],
   "source": [
    "3/2"
   ]
  },
  {
   "cell_type": "code",
   "execution_count": 13,
   "metadata": {
    "collapsed": false
   },
   "outputs": [
    {
     "data": {
      "text/plain": [
       "49"
      ]
     },
     "execution_count": 13,
     "metadata": {},
     "output_type": "execute_result"
    }
   ],
   "source": [
    "7 ** 2"
   ]
  },
  {
   "cell_type": "code",
   "execution_count": 14,
   "metadata": {
    "collapsed": false
   },
   "outputs": [
    {
     "data": {
      "text/plain": [
       "1"
      ]
     },
     "execution_count": 14,
     "metadata": {},
     "output_type": "execute_result"
    }
   ],
   "source": [
    "10 % 3"
   ]
  },
  {
   "cell_type": "markdown",
   "metadata": {},
   "source": [
    "It is important to make sure that you're performing these operations with integers or floats. Some of these operations work differently on strings.\n",
    "\n",
    "String operations:\n",
    "\n",
    "    string1 + string2 = concatenated strings\n",
    "    string * integer = replicate string integer number of times\n",
    "    \n",
    "Look over the examples below to see what you can mix and match. It will also be a good idea to play around in your own python/ipython terminal to see what does and doesn't work."
   ]
  },
  {
   "cell_type": "code",
   "execution_count": 15,
   "metadata": {
    "collapsed": false
   },
   "outputs": [
    {
     "data": {
      "text/plain": [
       "'23'"
      ]
     },
     "execution_count": 15,
     "metadata": {},
     "output_type": "execute_result"
    }
   ],
   "source": [
    "'2' + '3'"
   ]
  },
  {
   "cell_type": "code",
   "execution_count": 16,
   "metadata": {
    "collapsed": false
   },
   "outputs": [
    {
     "ename": "TypeError",
     "evalue": "Can't convert 'int' object to str implicitly",
     "output_type": "error",
     "traceback": [
      "\u001b[0;31m---------------------------------------------------------------------------\u001b[0m",
      "\u001b[0;31mTypeError\u001b[0m                                 Traceback (most recent call last)",
      "\u001b[0;32m<ipython-input-16-b2d67de0be7e>\u001b[0m in \u001b[0;36m<module>\u001b[0;34m()\u001b[0m\n\u001b[0;32m----> 1\u001b[0;31m \u001b[0;34m'2'\u001b[0m \u001b[0;34m+\u001b[0m \u001b[0;36m3\u001b[0m\u001b[0;34m\u001b[0m\u001b[0m\n\u001b[0m",
      "\u001b[0;31mTypeError\u001b[0m: Can't convert 'int' object to str implicitly"
     ]
    }
   ],
   "source": [
    "'2' + 3"
   ]
  },
  {
   "cell_type": "code",
   "execution_count": 17,
   "metadata": {
    "collapsed": false
   },
   "outputs": [
    {
     "ename": "TypeError",
     "evalue": "can't multiply sequence by non-int of type 'str'",
     "output_type": "error",
     "traceback": [
      "\u001b[0;31m---------------------------------------------------------------------------\u001b[0m",
      "\u001b[0;31mTypeError\u001b[0m                                 Traceback (most recent call last)",
      "\u001b[0;32m<ipython-input-17-c995772ad70e>\u001b[0m in \u001b[0;36m<module>\u001b[0;34m()\u001b[0m\n\u001b[0;32m----> 1\u001b[0;31m \u001b[0;34m'2'\u001b[0m \u001b[0;34m*\u001b[0m \u001b[0;34m'3'\u001b[0m\u001b[0;34m\u001b[0m\u001b[0m\n\u001b[0m",
      "\u001b[0;31mTypeError\u001b[0m: can't multiply sequence by non-int of type 'str'"
     ]
    }
   ],
   "source": [
    "'2' * '3'"
   ]
  },
  {
   "cell_type": "code",
   "execution_count": 18,
   "metadata": {
    "collapsed": false
   },
   "outputs": [
    {
     "data": {
      "text/plain": [
       "'222'"
      ]
     },
     "execution_count": 18,
     "metadata": {},
     "output_type": "execute_result"
    }
   ],
   "source": [
    "'2' * 3"
   ]
  },
  {
   "cell_type": "code",
   "execution_count": 19,
   "metadata": {
    "collapsed": false
   },
   "outputs": [
    {
     "ename": "TypeError",
     "evalue": "can't multiply sequence by non-int of type 'float'",
     "output_type": "error",
     "traceback": [
      "\u001b[0;31m---------------------------------------------------------------------------\u001b[0m",
      "\u001b[0;31mTypeError\u001b[0m                                 Traceback (most recent call last)",
      "\u001b[0;32m<ipython-input-19-4436b983981a>\u001b[0m in \u001b[0;36m<module>\u001b[0;34m()\u001b[0m\n\u001b[0;32m----> 1\u001b[0;31m \u001b[0;34m'2'\u001b[0m \u001b[0;34m*\u001b[0m \u001b[0;36m3.0\u001b[0m\u001b[0;34m\u001b[0m\u001b[0m\n\u001b[0m",
      "\u001b[0;31mTypeError\u001b[0m: can't multiply sequence by non-int of type 'float'"
     ]
    }
   ],
   "source": [
    "'2' * 3.0"
   ]
  },
  {
   "cell_type": "markdown",
   "metadata": {},
   "source": [
    "#### Strings, Part 2 <a class=\"anchor\" id='str2'></a>\n",
    "\n",
    "Now that we know about integers and floats, we can play around with strings a bit more.\n",
    "\n",
    "Let's say we want to print something, but we're not entirely sure about part of it yet. Maybe one of the words is going to be determined by an input that's given to the script at a later date.\n",
    "\n",
    "String formatting is a handy tool that lets us insert an expression into a string. '%s' indicates that a string should fill in that spot; '%f' for a float; and '%i' for an integer.\n",
    "\n",
    "    string1 = 'this'\n",
    "    '%s is a string' % string1              # returns 'this is a string'\n",
    "    \n",
    "    x = 3\n",
    "    'An example of an integeris %i' % x     # returns '3 is an integer'\n",
    "    \n",
    "    y = 0.2\n",
    "    '%f is a float' % y                     # returns '0.2 is a float'\n",
    "\n",
    "We can insert as many things and types of things as we want.\n",
    "\n",
    "For example:\n",
    "\n",
    "    'We can insert %s as well as the number %i' %(string1, x)\n",
    "    # returns 'We can insert this as well as the number 3'\n",
    "    \n",
    "We can also use the string method <em>format( )</em>\n",
    "\n",
    "    'The {thing} to be inserted'.format(thing='thingymajig')\n",
    "    # returns 'The thingymajig to be inserted'\n",
    "    \n",
    "This is great because it gives us more explicit control over what gets inserted where. It also means we can insert any type of expression and not worry about explicitly matching the type.\n",
    "\n",
    "    '{fl} to be inserted'.format(fl=0.2)\n",
    "    \n",
    "There are a lot of ways that <em>format( )</em> can be used, so check out some other examples <a href=\"https://docs.python.org/2/library/string.html#format-examples\">here</a>.\n",
    "    \n",
    "Example time:"
   ]
  },
  {
   "cell_type": "code",
   "execution_count": 20,
   "metadata": {
    "collapsed": false
   },
   "outputs": [
    {
     "name": "stdout",
     "output_type": "stream",
     "text": [
      "My favorite food is fries.\n"
     ]
    }
   ],
   "source": [
    "favoriteFood = 'fries'\n",
    "\n",
    "print(\"My favorite food is %s.\" %favoriteFood)"
   ]
  },
  {
   "cell_type": "code",
   "execution_count": 21,
   "metadata": {
    "collapsed": false
   },
   "outputs": [
    {
     "name": "stdout",
     "output_type": "stream",
     "text": [
      "My favorite food is pizza.\n"
     ]
    }
   ],
   "source": [
    "favoriteFood = 'pizza'\n",
    "\n",
    "print(\"My favorite food is %s.\" %favoriteFood)"
   ]
  },
  {
   "cell_type": "code",
   "execution_count": 22,
   "metadata": {
    "collapsed": false
   },
   "outputs": [
    {
     "data": {
      "text/plain": [
       "'0.2 to be inserted'"
      ]
     },
     "execution_count": 22,
     "metadata": {},
     "output_type": "execute_result"
    }
   ],
   "source": [
    "'{fl} to be inserted'.format(fl=0.2)"
   ]
  },
  {
   "cell_type": "markdown",
   "metadata": {},
   "source": [
    "We can also format our floats to determine how many digits we show."
   ]
  },
  {
   "cell_type": "code",
   "execution_count": 23,
   "metadata": {
    "collapsed": false
   },
   "outputs": [
    {
     "name": "stdout",
     "output_type": "stream",
     "text": [
      "Pi is 3.142\n",
      "Pi is 3.1\n",
      "Pi is 3.1415927\n"
     ]
    }
   ],
   "source": [
    "pi = 3.141592653\n",
    "\n",
    "print(\"Pi is %.03f\" %pi)\n",
    "print(\"Pi is %.01f\" %pi)\n",
    "print(\"Pi is %.07f\" %pi)"
   ]
  },
  {
   "cell_type": "markdown",
   "metadata": {},
   "source": [
    "Other good things to know about strings are \n",
    "\n",
    "    line breaks: \\n and \\r\n",
    "    tab: \\t\n",
    "    \n",
    "These can help us format our print statements."
   ]
  },
  {
   "cell_type": "code",
   "execution_count": 24,
   "metadata": {
    "collapsed": false
   },
   "outputs": [
    {
     "name": "stdout",
     "output_type": "stream",
     "text": [
      "Hokay,\n",
      "so, \n",
      "here's the Earth\n"
     ]
    }
   ],
   "source": [
    "print(\"Hokay,\\nso, \\nhere's the Earth\")"
   ]
  },
  {
   "cell_type": "code",
   "execution_count": 25,
   "metadata": {
    "collapsed": false
   },
   "outputs": [
    {
     "name": "stdout",
     "output_type": "stream",
     "text": [
      "That is a sweet Earth, you might say.\t WRONG!\n"
     ]
    }
   ],
   "source": [
    "print('That is a sweet Earth, you might say.\\t WRONG!')"
   ]
  },
  {
   "cell_type": "markdown",
   "metadata": {},
   "source": [
    "We can also change types sometimes. However, it would make sense that we can convert all integers and floats to strings but not the other way around. \n",
    "\n",
    "Let's take a look at some of the functions\n",
    "\n",
    "<em>str( )</em> converts the input to a string. \n",
    "\n",
    "<em>int( )</em> converts the input to a integer. If a float is given as the input, the function will return the floor value, i.e., round down.\n",
    "\n",
    "<em>float( )</em> converts the input to a float. "
   ]
  },
  {
   "cell_type": "code",
   "execution_count": 26,
   "metadata": {
    "collapsed": false
   },
   "outputs": [
    {
     "data": {
      "text/plain": [
       "'1'"
      ]
     },
     "execution_count": 26,
     "metadata": {},
     "output_type": "execute_result"
    }
   ],
   "source": [
    "str(1)"
   ]
  },
  {
   "cell_type": "code",
   "execution_count": 27,
   "metadata": {
    "collapsed": false
   },
   "outputs": [
    {
     "data": {
      "text/plain": [
       "'1.0'"
      ]
     },
     "execution_count": 27,
     "metadata": {},
     "output_type": "execute_result"
    }
   ],
   "source": [
    "str(1.0)"
   ]
  },
  {
   "cell_type": "code",
   "execution_count": 28,
   "metadata": {
    "collapsed": false
   },
   "outputs": [
    {
     "data": {
      "text/plain": [
       "1"
      ]
     },
     "execution_count": 28,
     "metadata": {},
     "output_type": "execute_result"
    }
   ],
   "source": [
    "int('1')"
   ]
  },
  {
   "cell_type": "code",
   "execution_count": 29,
   "metadata": {
    "collapsed": false
   },
   "outputs": [
    {
     "data": {
      "text/plain": [
       "1.0"
      ]
     },
     "execution_count": 29,
     "metadata": {},
     "output_type": "execute_result"
    }
   ],
   "source": [
    "float('1')"
   ]
  },
  {
   "cell_type": "code",
   "execution_count": 30,
   "metadata": {
    "collapsed": false
   },
   "outputs": [
    {
     "ename": "ValueError",
     "evalue": "invalid literal for int() with base 10: 'a'",
     "output_type": "error",
     "traceback": [
      "\u001b[0;31m---------------------------------------------------------------------------\u001b[0m",
      "\u001b[0;31mValueError\u001b[0m                                Traceback (most recent call last)",
      "\u001b[0;32m<ipython-input-30-b3c3f4515dd4>\u001b[0m in \u001b[0;36m<module>\u001b[0;34m()\u001b[0m\n\u001b[0;32m----> 1\u001b[0;31m \u001b[0mint\u001b[0m\u001b[0;34m(\u001b[0m\u001b[0;34m'a'\u001b[0m\u001b[0;34m)\u001b[0m\u001b[0;34m\u001b[0m\u001b[0m\n\u001b[0m",
      "\u001b[0;31mValueError\u001b[0m: invalid literal for int() with base 10: 'a'"
     ]
    }
   ],
   "source": [
    "int('a')"
   ]
  },
  {
   "cell_type": "code",
   "execution_count": 31,
   "metadata": {
    "collapsed": false
   },
   "outputs": [
    {
     "data": {
      "text/plain": [
       "1"
      ]
     },
     "execution_count": 31,
     "metadata": {},
     "output_type": "execute_result"
    }
   ],
   "source": [
    "int(1.2)"
   ]
  },
  {
   "cell_type": "code",
   "execution_count": 32,
   "metadata": {
    "collapsed": false
   },
   "outputs": [
    {
     "data": {
      "text/plain": [
       "-1"
      ]
     },
     "execution_count": 32,
     "metadata": {},
     "output_type": "execute_result"
    }
   ],
   "source": [
    "int(-1.8)"
   ]
  },
  {
   "cell_type": "markdown",
   "metadata": {},
   "source": [
    "#### Lists <a class=\"anchor\" id='lists'></a>\n",
    "\n",
    "Lists are denoted by brackets and contain anything you want in them, including other lists. Items are separated by commas, and the order of a list is always kept constant.\n",
    "\n",
    "<font color=\"blue\">NB: python uses zero-based indexing</font>. That means if you want to grab the first element of a list, the index to use is 0.\n",
    "\n",
    "Use the syntax below to grab an element of the list:\n",
    "\n",
    "    listName[index]\n",
    "\n",
    "Lists are mutable, which means that you can change an element of the list by using the syntax\n",
    "\n",
    "    listName[index] = new_value\n",
    "    \n",
    "If you try to grab or assign an index that does not exist yet, you'll get an <font color=\"red\">IndexError</font>."
   ]
  },
  {
   "cell_type": "code",
   "execution_count": 33,
   "metadata": {
    "collapsed": false
   },
   "outputs": [],
   "source": [
    "comedy_shows = [\"Brooklyn Nine-Nine\", \"The Good Place\", \"Trial and Error\"]\n",
    "scifi_shows = [\"Westworld\", \"Fringe\", \"Battlestar Galactica\"]\n",
    "procedural_shows = [\"NCIS\", \"Criminal Minds\", \"CSI\"]\n",
    "drama_shows = [\"Scandal\"]"
   ]
  },
  {
   "cell_type": "code",
   "execution_count": 34,
   "metadata": {
    "collapsed": false
   },
   "outputs": [
    {
     "data": {
      "text/plain": [
       "'Trial and Error'"
      ]
     },
     "execution_count": 34,
     "metadata": {},
     "output_type": "execute_result"
    }
   ],
   "source": [
    "comedy_shows[2]"
   ]
  },
  {
   "cell_type": "code",
   "execution_count": 35,
   "metadata": {
    "collapsed": false
   },
   "outputs": [
    {
     "data": {
      "text/plain": [
       "'NCIS'"
      ]
     },
     "execution_count": 35,
     "metadata": {},
     "output_type": "execute_result"
    }
   ],
   "source": [
    "procedural_shows[0]"
   ]
  },
  {
   "cell_type": "code",
   "execution_count": 36,
   "metadata": {
    "collapsed": false
   },
   "outputs": [
    {
     "ename": "IndexError",
     "evalue": "list index out of range",
     "output_type": "error",
     "traceback": [
      "\u001b[0;31m---------------------------------------------------------------------------\u001b[0m",
      "\u001b[0;31mIndexError\u001b[0m                                Traceback (most recent call last)",
      "\u001b[0;32m<ipython-input-36-3bfefecfd908>\u001b[0m in \u001b[0;36m<module>\u001b[0;34m()\u001b[0m\n\u001b[0;32m----> 1\u001b[0;31m \u001b[0mscifi_shows\u001b[0m\u001b[0;34m[\u001b[0m\u001b[0;36m3\u001b[0m\u001b[0;34m]\u001b[0m\u001b[0;34m\u001b[0m\u001b[0m\n\u001b[0m",
      "\u001b[0;31mIndexError\u001b[0m: list index out of range"
     ]
    }
   ],
   "source": [
    "scifi_shows[3]"
   ]
  },
  {
   "cell_type": "markdown",
   "metadata": {},
   "source": [
    "Just like with strings, we can concatenate lists by using the + operator, and we can also replicate them using the * operator."
   ]
  },
  {
   "cell_type": "code",
   "execution_count": 37,
   "metadata": {
    "collapsed": false
   },
   "outputs": [
    {
     "name": "stdout",
     "output_type": "stream",
     "text": [
      "['Brooklyn Nine-Nine', 'The Good Place', 'Trial and Error', 'Scandal', 'NCIS', 'Criminal Minds', 'CSI', 'Westworld', 'Fringe', 'Battlestar Galactica']\n"
     ]
    }
   ],
   "source": [
    "tv_shows = comedy_shows + drama_shows + procedural_shows + scifi_shows\n",
    "print(tv_shows)"
   ]
  },
  {
   "cell_type": "code",
   "execution_count": 38,
   "metadata": {
    "collapsed": false
   },
   "outputs": [
    {
     "data": {
      "text/plain": [
       "['Brooklyn Nine-Nine',\n",
       " 'The Good Place',\n",
       " 'Trial and Error',\n",
       " 'Brooklyn Nine-Nine',\n",
       " 'The Good Place',\n",
       " 'Trial and Error',\n",
       " 'Brooklyn Nine-Nine',\n",
       " 'The Good Place',\n",
       " 'Trial and Error']"
      ]
     },
     "execution_count": 38,
     "metadata": {},
     "output_type": "execute_result"
    }
   ],
   "source": [
    "comedy_shows * 3"
   ]
  },
  {
   "cell_type": "markdown",
   "metadata": {},
   "source": [
    "We can also see how long a list is by using the <em>len( )</em> function. This function also works on strings.\n",
    "\n",
    "    len(listName)"
   ]
  },
  {
   "cell_type": "code",
   "execution_count": 39,
   "metadata": {
    "collapsed": false
   },
   "outputs": [
    {
     "data": {
      "text/plain": [
       "10"
      ]
     },
     "execution_count": 39,
     "metadata": {},
     "output_type": "execute_result"
    }
   ],
   "source": [
    "len(tv_shows)"
   ]
  },
  {
   "cell_type": "code",
   "execution_count": 40,
   "metadata": {
    "collapsed": false,
    "scrolled": true
   },
   "outputs": [
    {
     "data": {
      "text/plain": [
       "1"
      ]
     },
     "execution_count": 40,
     "metadata": {},
     "output_type": "execute_result"
    }
   ],
   "source": [
    "len(drama_shows)"
   ]
  },
  {
   "cell_type": "code",
   "execution_count": 41,
   "metadata": {
    "collapsed": false
   },
   "outputs": [
    {
     "name": "stdout",
     "output_type": "stream",
     "text": [
      "Trial and Error\n",
      "15\n"
     ]
    }
   ],
   "source": [
    "print(tv_shows[2])\n",
    "print(len(tv_shows[2]))"
   ]
  },
  {
   "cell_type": "markdown",
   "metadata": {},
   "source": [
    "You can also grab subset of a list by using a colon (:). If there is no index given before the colon, then the subset will contain every item <font color=\"blue\">until the index indicated</font>, i.e., the first index is inclusive, the second one is not. If there is no index after the colon, then the subset will contain every item from the index given until the end. \n",
    "\n",
    "    listName[:3] # gives us items 0-2 of listName\n",
    "    listName[3:] # gives us items 3-end of listName\n",
    "    listName[3:5] # gives us items 3-4 of list Name\n",
    "\n",
    "Negative indices mean count backwards from the end, with -1 being the last item of the list. The colon also works here.\n",
    "\n",
    "    listName[-1] # last_item\n",
    "    listName[-7:] # only the last seven items\n",
    "    \n",
    "If a subset of indices are requested, then the output will be another list. If only a single index is called, the output will be the type of that item.\n",
    "\n",
    "    type(listName[:3]) # returns a list\n",
    "    type(listName[-1]) # returns the type of whatever listName[-1] is\n",
    "    \n",
    "This indexing also works for strings. That means if you have a string within a list, you can index multiple times\n",
    "\n",
    "    listName = ['string1', integer, ['some', 'other', 'list', float]]\n",
    "    listName[0][3] # will give us 'i' since listName[0] is 'string1' and the fourth character of 'string1' is i\n",
    "    \n",
    "Let's play around with all this through the lists we created above."
   ]
  },
  {
   "cell_type": "code",
   "execution_count": 42,
   "metadata": {
    "collapsed": false
   },
   "outputs": [
    {
     "data": {
      "text/plain": [
       "['Brooklyn Nine-Nine', 'The Good Place', 'Trial and Error']"
      ]
     },
     "execution_count": 42,
     "metadata": {},
     "output_type": "execute_result"
    }
   ],
   "source": [
    "tv_shows[:3]"
   ]
  },
  {
   "cell_type": "code",
   "execution_count": 43,
   "metadata": {
    "collapsed": false
   },
   "outputs": [
    {
     "data": {
      "text/plain": [
       "['Westworld', 'Fringe', 'Battlestar Galactica']"
      ]
     },
     "execution_count": 43,
     "metadata": {},
     "output_type": "execute_result"
    }
   ],
   "source": [
    "tv_shows[-3:]"
   ]
  },
  {
   "cell_type": "code",
   "execution_count": 44,
   "metadata": {
    "collapsed": false
   },
   "outputs": [
    {
     "data": {
      "text/plain": [
       "['Trial and Error', 'Scandal', 'NCIS', 'Criminal Minds']"
      ]
     },
     "execution_count": 44,
     "metadata": {},
     "output_type": "execute_result"
    }
   ],
   "source": [
    "tv_shows[2:6]"
   ]
  },
  {
   "cell_type": "code",
   "execution_count": 45,
   "metadata": {
    "collapsed": false
   },
   "outputs": [
    {
     "data": {
      "text/plain": [
       "['Trial and Error', 'Scandal', 'NCIS', 'Criminal Minds']"
      ]
     },
     "execution_count": 45,
     "metadata": {},
     "output_type": "execute_result"
    }
   ],
   "source": [
    "tv_shows[2:-4]"
   ]
  },
  {
   "cell_type": "code",
   "execution_count": 46,
   "metadata": {
    "collapsed": false
   },
   "outputs": [
    {
     "data": {
      "text/plain": [
       "str"
      ]
     },
     "execution_count": 46,
     "metadata": {},
     "output_type": "execute_result"
    }
   ],
   "source": [
    "type(comedy_shows[0])"
   ]
  },
  {
   "cell_type": "code",
   "execution_count": 47,
   "metadata": {
    "collapsed": false
   },
   "outputs": [
    {
     "data": {
      "text/plain": [
       "'Brooklyn'"
      ]
     },
     "execution_count": 47,
     "metadata": {},
     "output_type": "execute_result"
    }
   ],
   "source": [
    "comedy_shows[0][:8]"
   ]
  },
  {
   "cell_type": "markdown",
   "metadata": {},
   "source": [
    "We can't add to lists by assigning an index that doesn't exist, so we have to concatenate or append to them. \n",
    "\n",
    "Note that we won't be able to add a string or integer or float to list by simply using the + operator, so we have to put that item in a list and then add it to the last. Say what now? Let's demonstrate that with some examples below."
   ]
  },
  {
   "cell_type": "code",
   "execution_count": 48,
   "metadata": {
    "collapsed": false
   },
   "outputs": [
    {
     "ename": "IndexError",
     "evalue": "list assignment index out of range",
     "output_type": "error",
     "traceback": [
      "\u001b[0;31m---------------------------------------------------------------------------\u001b[0m",
      "\u001b[0;31mIndexError\u001b[0m                                Traceback (most recent call last)",
      "\u001b[0;32m<ipython-input-48-2112f1528509>\u001b[0m in \u001b[0;36m<module>\u001b[0;34m()\u001b[0m\n\u001b[0;32m----> 1\u001b[0;31m \u001b[0mtv_shows\u001b[0m\u001b[0;34m[\u001b[0m\u001b[0;36m10\u001b[0m\u001b[0;34m]\u001b[0m \u001b[0;34m=\u001b[0m \u001b[0;34m\"The Golden Girls\"\u001b[0m \u001b[0;31m# Index of 10 doesn't exist, so we can't assign something to it\u001b[0m\u001b[0;34m\u001b[0m\u001b[0m\n\u001b[0m",
      "\u001b[0;31mIndexError\u001b[0m: list assignment index out of range"
     ]
    }
   ],
   "source": [
    "tv_shows[10] = \"The Golden Girls\" # Index of 10 doesn't exist, so we can't assign something to it"
   ]
  },
  {
   "cell_type": "code",
   "execution_count": 49,
   "metadata": {
    "collapsed": false
   },
   "outputs": [
    {
     "ename": "TypeError",
     "evalue": "can only concatenate list (not \"str\") to list",
     "output_type": "error",
     "traceback": [
      "\u001b[0;31m---------------------------------------------------------------------------\u001b[0m",
      "\u001b[0;31mTypeError\u001b[0m                                 Traceback (most recent call last)",
      "\u001b[0;32m<ipython-input-49-fc4d37f24017>\u001b[0m in \u001b[0;36m<module>\u001b[0;34m()\u001b[0m\n\u001b[0;32m----> 1\u001b[0;31m \u001b[0mtv_shows\u001b[0m \u001b[0;34m+\u001b[0m \u001b[0;34m\"The Golden Girls\"\u001b[0m \u001b[0;31m# We can't add a string to a list\u001b[0m\u001b[0;34m\u001b[0m\u001b[0m\n\u001b[0m",
      "\u001b[0;31mTypeError\u001b[0m: can only concatenate list (not \"str\") to list"
     ]
    }
   ],
   "source": [
    "tv_shows + \"The Golden Girls\" # We can't add a string to a list"
   ]
  },
  {
   "cell_type": "code",
   "execution_count": 50,
   "metadata": {
    "collapsed": false
   },
   "outputs": [
    {
     "data": {
      "text/plain": [
       "['Brooklyn Nine-Nine',\n",
       " 'The Good Place',\n",
       " 'Trial and Error',\n",
       " 'Scandal',\n",
       " 'NCIS',\n",
       " 'Criminal Minds',\n",
       " 'CSI',\n",
       " 'Westworld',\n",
       " 'Fringe',\n",
       " 'Battlestar Galactica',\n",
       " 'The Golden Girls']"
      ]
     },
     "execution_count": 50,
     "metadata": {},
     "output_type": "execute_result"
    }
   ],
   "source": [
    "tv_shows + [\"The Golden Girls\"] # If we put the string in a list, then we can concatenate the two lists together"
   ]
  },
  {
   "cell_type": "markdown",
   "metadata": {},
   "source": [
    "We just successfully added \"The Golden Girls\" to tv_shows, BUT that addition won't stick because there's no equal sign in that operation. \n",
    "\n",
    "To add to a list and make it stick, we could theoretically do\n",
    "\n",
    "    tv_shows = tv_shows + [\"The Golden Girls\"]\n",
    "    \n",
    "But that's more typing than is necessary. We can use the handy += operator. This operator tells the list that it's going to add a new list on to the end but to keep the same variable name. (Note this operator also works with strings, integers, and floats, but with numbers it will do an addition rather than a concatenation)\n",
    "\n",
    "    tv_shows += [\"The Golden Girls\"]\n",
    "    \n",
    "We can also use the <em>append( )</em> function. In this case, we won't have to put the new item into a list, so that's nice.\n",
    "\n",
    "    tv_shows.append(\"The Golden Girls\")\n",
    "    \n",
    "Let's actually try it out below."
   ]
  },
  {
   "cell_type": "code",
   "execution_count": 51,
   "metadata": {
    "collapsed": false
   },
   "outputs": [
    {
     "name": "stdout",
     "output_type": "stream",
     "text": [
      "['Brooklyn Nine-Nine', 'The Good Place', 'Trial and Error', 'Scandal', 'NCIS', 'Criminal Minds', 'CSI', 'Westworld', 'Fringe', 'Battlestar Galactica']\n"
     ]
    }
   ],
   "source": [
    "print(tv_shows) \n",
    "# Since we didn't actually re-assign tv_shows, if we print it, we won't see \"The Golden Girls\" at the end"
   ]
  },
  {
   "cell_type": "code",
   "execution_count": 52,
   "metadata": {
    "collapsed": false
   },
   "outputs": [
    {
     "name": "stdout",
     "output_type": "stream",
     "text": [
      "['Brooklyn Nine-Nine', 'The Good Place', 'Trial and Error', 'Scandal', 'NCIS', 'Criminal Minds', 'CSI', 'Westworld', 'Fringe', 'Battlestar Galactica', 'The Golden Girls']\n"
     ]
    }
   ],
   "source": [
    "tv_shows += [\"The Golden Girls\"] # If we put the string in a list, then we can concatenate the two lists together\n",
    "print(tv_shows)"
   ]
  },
  {
   "cell_type": "code",
   "execution_count": 53,
   "metadata": {
    "collapsed": false
   },
   "outputs": [
    {
     "name": "stdout",
     "output_type": "stream",
     "text": [
      "['Brooklyn Nine-Nine', 'The Good Place', 'Trial and Error', 'Scandal', 'NCIS', 'Criminal Minds', 'CSI', 'Westworld', 'Fringe', 'Battlestar Galactica', 'The Golden Girls', 'The Golden Girls']\n"
     ]
    }
   ],
   "source": [
    "tv_shows.append(\"The Golden Girls\")\n",
    "print(tv_shows)"
   ]
  },
  {
   "cell_type": "markdown",
   "metadata": {},
   "source": [
    "Now we see that \"The Golden Girls\" is there twice, which is okay. Lists are okay with duplicates.\n",
    "\n",
    "#### Dictionaries  <a class=\"anchor\" id='dicts'></a>\n",
    "\n",
    "A dictionary is a set of items that are paired with one another.\n",
    "\n",
    "    x = {'key': 'value'}\n",
    "    \n",
    "Any type of instance can be paired with another (that means you can have dictionaries within dictionaries).\n",
    "\n",
    "In the case of dictionaries, the keys are considered the indexes. That means to get a certain 'value', you would use the syntax:\n",
    "\n",
    "    x['key'] # this will return 'value'\n",
    "\n",
    "You can also add or edit elements to a dictionary by using the syntax\n",
    "\n",
    "    x['new_key'] = 'new_value'\n",
    "    x['key'] = 'new_value'\n",
    "    \n",
    "Check it out through some of the examples below."
   ]
  },
  {
   "cell_type": "code",
   "execution_count": 54,
   "metadata": {
    "collapsed": false
   },
   "outputs": [
    {
     "name": "stdout",
     "output_type": "stream",
     "text": [
      "{'point_guard': 'Stephen Curry', 'shooting_guard': 'Klay Thompson', 'center': 'Zaza Pachulia', 'power_forward': 'Draymond Green', 'small_forward': 'Kevin Durant'}\n"
     ]
    }
   ],
   "source": [
    "gsWarriors = {\"center\": \"Zaza Pachulia\", \n",
    "              \"power_forward\": \"Draymond Green\", \n",
    "              \"small_forward\": \"Kevin Durant\", \n",
    "              \"shooting_guard\": \"Klay Thompson\", \n",
    "              \"point_guard\": \"Stephen Curry\"}\n",
    "print(gsWarriors)"
   ]
  },
  {
   "cell_type": "code",
   "execution_count": 55,
   "metadata": {
    "collapsed": false
   },
   "outputs": [
    {
     "data": {
      "text/plain": [
       "'Klay Thompson'"
      ]
     },
     "execution_count": 55,
     "metadata": {},
     "output_type": "execute_result"
    }
   ],
   "source": [
    "gsWarriors[\"shooting_guard\"]"
   ]
  },
  {
   "cell_type": "code",
   "execution_count": 56,
   "metadata": {
    "collapsed": false
   },
   "outputs": [
    {
     "name": "stdout",
     "output_type": "stream",
     "text": [
      "{'shooting_guard': 'Klay Thompson', 'coach': 'Steve Kerr', 'small_forward': 'Kevin Durant', 'point_guard': 'Stephen Curry', 'center': 'Zaza Pachulia', 'power_forward': 'Draymond Green'}\n"
     ]
    }
   ],
   "source": [
    "gsWarriors['coach'] = 'Steve Kerr' # add a new element\n",
    "print(gsWarriors)"
   ]
  },
  {
   "cell_type": "code",
   "execution_count": 57,
   "metadata": {
    "collapsed": false
   },
   "outputs": [
    {
     "name": "stdout",
     "output_type": "stream",
     "text": [
      "{'shooting_guard': 'Klay Thompson', 'coach': 'Steve Kerr', 'small_forward': 'Andre Iguodala', 'point_guard': 'Stephen Curry', 'center': 'Zaza Pachulia', 'power_forward': 'Draymond Green'}\n"
     ]
    }
   ],
   "source": [
    "gsWarriors['small_forward'] = \"Andre Iguodala\" # edit existing element\n",
    "print(gsWarriors)"
   ]
  },
  {
   "cell_type": "code",
   "execution_count": 58,
   "metadata": {
    "collapsed": false
   },
   "outputs": [
    {
     "name": "stdout",
     "output_type": "stream",
     "text": [
      "['Kevin Durant', 'AndreIguodala']\n"
     ]
    }
   ],
   "source": [
    "gsWarriors['small_forward'] = ['Kevin Durant', \"AndreIguodala\"]\n",
    "print(gsWarriors['small_forward'])"
   ]
  },
  {
   "cell_type": "markdown",
   "metadata": {},
   "source": [
    "Dictionaries have a couple of methods associated with them that we'll find helpful. In dictionary lingo, if we look at an item (an associated pairing), the thing before the colon is the key, and the thing after the colon is the value.\n",
    "\n",
    "I didn't go over tuples (another data type), and I won't say very much about them now except to say that they're like lists but denoted by () instead of [], and they're immutable, i.e., we can't reassign values like we did with lists.\n",
    "\n",
    "The only reason I mention them now is that dictionary items are stored as tuples: (key, value).\n",
    "\n",
    "We can see what's stored in a dictionary by using the following methods:\n",
    "\n",
    "    dictName.items()  # gets the items, each listed as a tuple\n",
    "    dictName.keys()   # gets the keys only\n",
    "    dictName.values() # gets the values only\n",
    "\n",
    "Let's play around with our example dictionary."
   ]
  },
  {
   "cell_type": "code",
   "execution_count": 59,
   "metadata": {
    "collapsed": false
   },
   "outputs": [
    {
     "data": {
      "text/plain": [
       "dict_items([('shooting_guard', 'Klay Thompson'), ('coach', 'Steve Kerr'), ('small_forward', ['Kevin Durant', 'AndreIguodala']), ('point_guard', 'Stephen Curry'), ('center', 'Zaza Pachulia'), ('power_forward', 'Draymond Green')])"
      ]
     },
     "execution_count": 59,
     "metadata": {},
     "output_type": "execute_result"
    }
   ],
   "source": [
    "gsWarriors.items()"
   ]
  },
  {
   "cell_type": "code",
   "execution_count": 60,
   "metadata": {
    "collapsed": false
   },
   "outputs": [
    {
     "name": "stdout",
     "output_type": "stream",
     "text": [
      "dict_keys(['shooting_guard', 'coach', 'small_forward', 'point_guard', 'center', 'power_forward'])\n"
     ]
    }
   ],
   "source": [
    "team_positions = gsWarriors.keys()\n",
    "print(team_positions)"
   ]
  },
  {
   "cell_type": "code",
   "execution_count": 61,
   "metadata": {
    "collapsed": false
   },
   "outputs": [
    {
     "name": "stdout",
     "output_type": "stream",
     "text": [
      "dict_values(['Klay Thompson', 'Steve Kerr', ['Kevin Durant', 'AndreIguodala'], 'Stephen Curry', 'Zaza Pachulia', 'Draymond Green'])\n"
     ]
    }
   ],
   "source": [
    "team_people_names = gsWarriors.values()\n",
    "print(team_people_names)"
   ]
  },
  {
   "cell_type": "markdown",
   "metadata": {
    "collapsed": true
   },
   "source": [
    "We can see that these dictionary methods give us types of objects (dict_items, dict_key, and dict_values) we haven't covered. They also don't support indexing, so we can convert them to lists to make things easier using the function <em>list( )</em>"
   ]
  },
  {
   "cell_type": "code",
   "execution_count": 62,
   "metadata": {
    "collapsed": false
   },
   "outputs": [
    {
     "ename": "TypeError",
     "evalue": "'dict_keys' object does not support indexing",
     "output_type": "error",
     "traceback": [
      "\u001b[0;31m---------------------------------------------------------------------------\u001b[0m",
      "\u001b[0;31mTypeError\u001b[0m                                 Traceback (most recent call last)",
      "\u001b[0;32m<ipython-input-62-68e9562390fd>\u001b[0m in \u001b[0;36m<module>\u001b[0;34m()\u001b[0m\n\u001b[0;32m----> 1\u001b[0;31m \u001b[0mgsWarriors\u001b[0m\u001b[0;34m.\u001b[0m\u001b[0mkeys\u001b[0m\u001b[0;34m(\u001b[0m\u001b[0;34m)\u001b[0m\u001b[0;34m[\u001b[0m\u001b[0;36m0\u001b[0m\u001b[0;34m]\u001b[0m\u001b[0;34m\u001b[0m\u001b[0m\n\u001b[0m",
      "\u001b[0;31mTypeError\u001b[0m: 'dict_keys' object does not support indexing"
     ]
    }
   ],
   "source": [
    "gsWarriors.keys()[0]"
   ]
  },
  {
   "cell_type": "code",
   "execution_count": 63,
   "metadata": {
    "collapsed": false
   },
   "outputs": [
    {
     "data": {
      "text/plain": [
       "['shooting_guard',\n",
       " 'coach',\n",
       " 'small_forward',\n",
       " 'point_guard',\n",
       " 'center',\n",
       " 'power_forward']"
      ]
     },
     "execution_count": 63,
     "metadata": {},
     "output_type": "execute_result"
    }
   ],
   "source": [
    "list(gsWarriors.keys())"
   ]
  },
  {
   "cell_type": "code",
   "execution_count": 64,
   "metadata": {
    "collapsed": false
   },
   "outputs": [
    {
     "data": {
      "text/plain": [
       "'shooting_guard'"
      ]
     },
     "execution_count": 64,
     "metadata": {},
     "output_type": "execute_result"
    }
   ],
   "source": [
    "list(gsWarriors.keys())[0]"
   ]
  },
  {
   "cell_type": "markdown",
   "metadata": {},
   "source": [
    "Please keep in mind that, since we're meant to index by keys rather than order, dictionary items are not necessarily  stored in the order you've typed/added them.\n",
    "\n",
    "#### Functions <a class=\"anchor\" id='funcs'></a>\n",
    "\n",
    "We've gone over a couple of functions already, but let's break it down anyway. A function takes in arguments, does something to them, and returns the results. \n",
    "\n",
    "    print(variable)      # prints variable\n",
    "    list(some_dict_keys) # converts dict_keys to a list\n",
    "    len(listName)        # counts how many items are in listName\n",
    "        \n",
    "There are many more functions that pre-exist in python, but you can also create your own function using the syntax:\n",
    "\n",
    "    def functionName(input):\n",
    "        code here\n",
    "        return output\n",
    "        \n",
    "The second through last lines should be indented. How much you indent them doesn't matter. All that matters is that you're consistent. <font color=\"blue\">NB: Beware of tabs. A tab may look like 4 or any other number of spaces, but the code interpreter doesn't view them the same way.</font>\n",
    "        \n",
    "You can also write functions to take in or spit out multiple inputs and outputs. Simply separate them by commas.\n",
    "\n",
    "    def functionName(input1, input2):\n",
    "        code here\n",
    "        more code here\n",
    "        so much code!\n",
    "        return output1, output2, output3\n",
    "        \n",
    "Let's define a simple function."
   ]
  },
  {
   "cell_type": "code",
   "execution_count": 65,
   "metadata": {
    "collapsed": true
   },
   "outputs": [],
   "source": [
    "def some_math_thing(number1, number2):\n",
    "    number3 = number1 + number2\n",
    "    number4 = number3 / 22\n",
    "    return number4"
   ]
  },
  {
   "cell_type": "markdown",
   "metadata": {},
   "source": [
    "Another good thing to keep in mind is that variables that are assigned within a function are not saved to the global environment unless they are returned as outputs. That means in the function we wrote above, number4 will be returned to the global environment, but number3 will not. \n",
    "\n",
    "Let's test out our function."
   ]
  },
  {
   "cell_type": "code",
   "execution_count": 66,
   "metadata": {
    "collapsed": false
   },
   "outputs": [
    {
     "data": {
      "text/plain": [
       "0.13636363636363635"
      ]
     },
     "execution_count": 66,
     "metadata": {},
     "output_type": "execute_result"
    }
   ],
   "source": [
    "some_math_thing(1, 2)"
   ]
  },
  {
   "cell_type": "markdown",
   "metadata": {},
   "source": [
    "Cool, it works!\n",
    "\n",
    "Functions don't know really know what the type of their inputs should be. They'll chug along until some internal code breaks.\n",
    "\n",
    "To see that in action, let's give our function a string."
   ]
  },
  {
   "cell_type": "code",
   "execution_count": 67,
   "metadata": {
    "collapsed": false
   },
   "outputs": [
    {
     "ename": "TypeError",
     "evalue": "unsupported operand type(s) for +: 'int' and 'str'",
     "output_type": "error",
     "traceback": [
      "\u001b[0;31m---------------------------------------------------------------------------\u001b[0m",
      "\u001b[0;31mTypeError\u001b[0m                                 Traceback (most recent call last)",
      "\u001b[0;32m<ipython-input-67-fd8743ddeaff>\u001b[0m in \u001b[0;36m<module>\u001b[0;34m()\u001b[0m\n\u001b[0;32m----> 1\u001b[0;31m \u001b[0msome_math_thing\u001b[0m\u001b[0;34m(\u001b[0m\u001b[0;36m1\u001b[0m\u001b[0;34m,\u001b[0m \u001b[0;34m'2'\u001b[0m\u001b[0;34m)\u001b[0m\u001b[0;34m\u001b[0m\u001b[0m\n\u001b[0m",
      "\u001b[0;32m<ipython-input-65-f6aef5df7f08>\u001b[0m in \u001b[0;36msome_math_thing\u001b[0;34m(number1, number2)\u001b[0m\n\u001b[1;32m      1\u001b[0m \u001b[0;32mdef\u001b[0m \u001b[0msome_math_thing\u001b[0m\u001b[0;34m(\u001b[0m\u001b[0mnumber1\u001b[0m\u001b[0;34m,\u001b[0m \u001b[0mnumber2\u001b[0m\u001b[0;34m)\u001b[0m\u001b[0;34m:\u001b[0m\u001b[0;34m\u001b[0m\u001b[0m\n\u001b[0;32m----> 2\u001b[0;31m     \u001b[0mnumber3\u001b[0m \u001b[0;34m=\u001b[0m \u001b[0mnumber1\u001b[0m \u001b[0;34m+\u001b[0m \u001b[0mnumber2\u001b[0m\u001b[0;34m\u001b[0m\u001b[0m\n\u001b[0m\u001b[1;32m      3\u001b[0m     \u001b[0mnumber4\u001b[0m \u001b[0;34m=\u001b[0m \u001b[0mnumber3\u001b[0m \u001b[0;34m/\u001b[0m \u001b[0;36m22\u001b[0m\u001b[0;34m\u001b[0m\u001b[0m\n\u001b[1;32m      4\u001b[0m     \u001b[0;32mreturn\u001b[0m \u001b[0mnumber4\u001b[0m\u001b[0;34m\u001b[0m\u001b[0m\n",
      "\u001b[0;31mTypeError\u001b[0m: unsupported operand type(s) for +: 'int' and 'str'"
     ]
    }
   ],
   "source": [
    "some_math_thing(1, '2')"
   ]
  },
  {
   "cell_type": "markdown",
   "metadata": {},
   "source": [
    "Python is very nice and tells us where the function breaks down. It's in line 2 of the function because we can't add an integer and a string together.\n",
    "\n",
    "There are many other objects/types, but these are the most common basic ones. We'll pick up some others as we go along.\n",
    "\n",
    "#### Lambda Functions<a class=\"anchor\" name=\"lambda\"></a>\n",
    "\n",
    "We can also write simple functions as one-liners in lambda/<a href=\"https://en.wikipedia.org/wiki/Anonymous_function\">anonymous functions</a>.\n",
    "\n",
    "    lambda variable: operation to perform on variable\n",
    "\n",
    "For example:\n",
    "\n",
    "    lambda x: x + 1\n",
    "    \n",
    "This will take x and add one to it.\n",
    "\n",
    "This may look scary, so don't feel obligated to use them if you don't want to. We'll go over at least one example later.\n",
    "\n",
    "\n",
    "### FLOW CONTROL<a class=\"anchor\" name=\"flow\"></a>\n",
    "\n",
    "Flow control sounds like some terrible euphemism for incontinence, but that's definitely not what we mean in terms of code. There will be situations in which we want to do some bit of code over and over again or only do it sometimes.\n",
    "\n",
    "#### If statements \n",
    "\n",
    "The first type of flow control we'll go over are if statements. These need to be followed by a “boolean statement\", i.e., a statement that returns a TRUE or FALSE.\n",
    "\n",
    "The format \n",
    "\n",
    "    if (booleanStatement1):\n",
    "        list of instructions that are executed if booleanStatement1 returns TRUE\n",
    "    elif (booleanStatement2):\n",
    "        list of instructions executed when the booleanStatement1 is FALSE and booleanStatement2 is TRUE\n",
    "    else:\n",
    "        list of instructions executed when all previous “if” and “elif” in this set return FALSE\n",
    "\n",
    "Just like with defining functions, it doesn't matter how much you indent them, only that you're consistent. \n",
    "\n",
    "Good things to know:\n",
    "- symbols\n",
    "    - ==   # equals\n",
    "    - !=   # not equal to\n",
    "    - &gt;    # greater than\n",
    "    - &gt;=   # greater than or equal to\n",
    "    - <    # less than\n",
    "    - <=   # less than or equal to\n",
    "    - 0 = FALSE\n",
    "    - 1 = TRUE\n",
    "    - & = and\n",
    "    - | = or\n",
    "- AND\n",
    "    - True and True = True\n",
    "    - True and False = False\n",
    "    - False and True = False\n",
    "    - False and False = False\n",
    "- OR\n",
    "    - True or False = True\n",
    "    - False or True = True\n",
    "    - True or True = True\n",
    "    - False or False = False\n",
    "    \n",
    "Let's try a few simple examples."
   ]
  },
  {
   "cell_type": "code",
   "execution_count": 68,
   "metadata": {
    "collapsed": false
   },
   "outputs": [
    {
     "name": "stdout",
     "output_type": "stream",
     "text": [
      "a is NOT five :(\n"
     ]
    }
   ],
   "source": [
    "a = 6\n",
    "\n",
    "if a == 5:\n",
    "    print(\"a is five!!!\")\n",
    "else:\n",
    "    print(\"a is NOT five :(\")"
   ]
  },
  {
   "cell_type": "code",
   "execution_count": 69,
   "metadata": {
    "collapsed": false
   },
   "outputs": [
    {
     "name": "stdout",
     "output_type": "stream",
     "text": [
      "they match!\n"
     ]
    }
   ],
   "source": [
    "a = 6\n",
    "b = 4\n",
    "\n",
    "if (a == 6) and (b == 4): # I've separated the boolean statements by parentheses just for certainty's sake\n",
    "    print(\"they match!\")\n",
    "elif a == 6:\n",
    "    print('only a matches')\n",
    "elif b == 4:\n",
    "    print('only b matches')\n",
    "else:\n",
    "    print('no matches :(')"
   ]
  },
  {
   "cell_type": "code",
   "execution_count": 70,
   "metadata": {
    "collapsed": false
   },
   "outputs": [
    {
     "name": "stdout",
     "output_type": "stream",
     "text": [
      "one matches!\n"
     ]
    }
   ],
   "source": [
    "a = 6\n",
    "b = 3\n",
    "\n",
    "if (a == 6) or (b == 4):\n",
    "    print(\"one matches!\")"
   ]
  },
  {
   "cell_type": "code",
   "execution_count": 71,
   "metadata": {
    "collapsed": false
   },
   "outputs": [
    {
     "name": "stdout",
     "output_type": "stream",
     "text": [
      "a doesn't match\n"
     ]
    }
   ],
   "source": [
    "a = 6\n",
    "b = 5\n",
    "\n",
    "if (a == 6) and (b == 4):\n",
    "    print(\"they match!\")\n",
    "elif b == 4:\n",
    "    print('only b matches')\n",
    "else:\n",
    "    print(\"a doesn't match\")"
   ]
  },
  {
   "cell_type": "code",
   "execution_count": 72,
   "metadata": {
    "collapsed": false
   },
   "outputs": [
    {
     "name": "stdout",
     "output_type": "stream",
     "text": [
      "it's a string\n"
     ]
    }
   ],
   "source": [
    "a = 'x'\n",
    "\n",
    "if type(a) == str: \n",
    "    print(\"it's a string\")"
   ]
  },
  {
   "cell_type": "code",
   "execution_count": 73,
   "metadata": {
    "collapsed": false
   },
   "outputs": [
    {
     "name": "stdout",
     "output_type": "stream",
     "text": [
      "it's a string\n"
     ]
    }
   ],
   "source": [
    "if isinstance(a, str): # try running isinstance? to see what it does\n",
    "    print(\"it's a string\")"
   ]
  },
  {
   "cell_type": "code",
   "execution_count": 74,
   "metadata": {
    "collapsed": true
   },
   "outputs": [],
   "source": [
    "isinstance? # run this in a python/ipython session"
   ]
  },
  {
   "cell_type": "code",
   "execution_count": 75,
   "metadata": {
    "collapsed": false
   },
   "outputs": [
    {
     "name": "stdout",
     "output_type": "stream",
     "text": [
      "This country has the word 'South' in it\n"
     ]
    }
   ],
   "source": [
    "country = \"South Korea\"\n",
    "\n",
    "if \"South\" in country: # this boolean \"in\" operator works for any iterable object (strings, lists)\n",
    "    print(\"This country has the word 'South' in it\")"
   ]
  },
  {
   "cell_type": "code",
   "execution_count": 76,
   "metadata": {
    "collapsed": false
   },
   "outputs": [
    {
     "name": "stdout",
     "output_type": "stream",
     "text": [
      "This country DOES NOT have the word 'South' in it\n"
     ]
    }
   ],
   "source": [
    "country = \"China\"\n",
    "\n",
    "if \"South\" not in country: # we've added a not here\n",
    "    print(\"This country DOES NOT have the word 'South' in it\")"
   ]
  },
  {
   "cell_type": "markdown",
   "metadata": {},
   "source": [
    "#### FOR loops\n",
    "\n",
    "If we'd like to repeat instructions through an iterable object (e.g., a string or list), we can use for loops.\n",
    "\n",
    "    for item in object:\n",
    "        do this thing for every item\n",
    "        \n",
    "Let's try a quick example."
   ]
  },
  {
   "cell_type": "code",
   "execution_count": 77,
   "metadata": {
    "collapsed": false
   },
   "outputs": [
    {
     "name": "stdout",
     "output_type": "stream",
     "text": [
      "Hermione\n",
      "Harry\n",
      "Ron\n"
     ]
    }
   ],
   "source": [
    "Hogwarts = ['Hermione', 'Harry', 'Ron']\n",
    "\n",
    "for wizard in Hogwarts:\n",
    "    print(wizard)"
   ]
  },
  {
   "cell_type": "markdown",
   "metadata": {},
   "source": [
    "We can call the items whatever we want. This often trips people up. For example, we can look at the for loop we've written above and ask, \"how does python know which items in Hogwarts are wizards?\" \n",
    "\n",
    "It doesn't.\n",
    "\n",
    "Let's demonstrate that."
   ]
  },
  {
   "cell_type": "code",
   "execution_count": 78,
   "metadata": {
    "collapsed": false
   },
   "outputs": [
    {
     "name": "stdout",
     "output_type": "stream",
     "text": [
      "Hermione\n",
      "Harry\n",
      "Ron\n",
      "Peeves\n"
     ]
    }
   ],
   "source": [
    "Hogwarts.append(\"Peeves\")\n",
    "\n",
    "for wizard in Hogwarts:\n",
    "    print(wizard)"
   ]
  },
  {
   "cell_type": "markdown",
   "metadata": {},
   "source": [
    "Peeves isn't a wizard. All python knows is that we've told it to go through the list Hogwarts and print the items in it. Each time it goes through the list, it assigns that item to the variable wizard.\n",
    "\n",
    "When we run \"for item in object\", python looks at the object instance, figures out what type it is, and then what the next level down is. For a list, it's the items. For a string, it would be the characters.\n",
    "\n",
    "For example"
   ]
  },
  {
   "cell_type": "code",
   "execution_count": 79,
   "metadata": {
    "collapsed": false
   },
   "outputs": [
    {
     "name": "stdout",
     "output_type": "stream",
     "text": [
      "H\n",
      "o\n",
      "g\n",
      "w\n",
      "a\n",
      "r\n",
      "t\n",
      "s\n"
     ]
    }
   ],
   "source": [
    "for wizard in 'Hogwarts':\n",
    "    print(wizard)"
   ]
  },
  {
   "cell_type": "markdown",
   "metadata": {},
   "source": [
    "In this case Hogwarts is a string, so wizard is each of the letters that make up the name Hogwarts.\n",
    "\n",
    "If we'd like to perform the same operation on all the items of a list and return those outputs within another list, we can condense our code (while still keeping it readable) by using a one-line for loop. This is called list comprehension.\n",
    "\n",
    "An example is worth a thousand words, so let's go."
   ]
  },
  {
   "cell_type": "code",
   "execution_count": 80,
   "metadata": {
    "collapsed": false
   },
   "outputs": [
    {
     "data": {
      "text/plain": [
       "[18, 14, 15, 7, 4, 14, 3, 9, 6, 20, 16, 16]"
      ]
     },
     "execution_count": 80,
     "metadata": {},
     "output_type": "execute_result"
    }
   ],
   "source": [
    "[len(x) for x in tv_shows]   # returns the length of each show title in tv_shows"
   ]
  },
  {
   "cell_type": "markdown",
   "metadata": {},
   "source": [
    "We can even throw in if/else statements"
   ]
  },
  {
   "cell_type": "code",
   "execution_count": 81,
   "metadata": {
    "collapsed": false
   },
   "outputs": [
    {
     "name": "stdout",
     "output_type": "stream",
     "text": [
      "[15, 14, 15, 7, 4, 14, 3, 9, 6, 15, 15, 15]\n"
     ]
    }
   ],
   "source": [
    "title_lengths = [15 if (len(x) > 15) else len(x) for x in tv_shows] \n",
    "\n",
    "print(title_lengths)"
   ]
  },
  {
   "cell_type": "markdown",
   "metadata": {},
   "source": [
    "What we've effectively done is put a maximum length on tv show titles. If the length of a title is longer than 15 characters, we don't care. It's long. That's all that matters.\n",
    "\n",
    "This is the shorter and faster equivalent of running"
   ]
  },
  {
   "cell_type": "code",
   "execution_count": 82,
   "metadata": {
    "collapsed": false
   },
   "outputs": [
    {
     "name": "stdout",
     "output_type": "stream",
     "text": [
      "[15, 14, 15, 7, 4, 14, 3, 9, 6, 15, 15, 15]\n"
     ]
    }
   ],
   "source": [
    "title_lengths = []\n",
    "\n",
    "for x in tv_shows:\n",
    "    if len(x) > 15:\n",
    "        title_lengths.append(15)\n",
    "    else:\n",
    "        title_lengths.append(len(x))\n",
    "\n",
    "print(title_lengths)"
   ]
  },
  {
   "cell_type": "markdown",
   "metadata": {},
   "source": [
    "#### break and continue\n",
    "\n",
    "To finer tune our flow control, we can combine if statements and for loops and add in break and continue. <font color=\"blue\"><em>break</em></font> will tell a for loop to stop completely. In the syntax below, if some item meets that condition, the for loop will be stopped and the script will move on to \"other code that will be run\" regardless of how many items are left in object.\n",
    "\n",
    "    for item in object:\n",
    "        if item meets condition:\n",
    "            break\n",
    "        rest of the code\n",
    "        \n",
    "    other code that will be run\n",
    "\n",
    "<font color=\"blue\"><em>continue</em></font> tells the loop not to run some code for that item, but to continue on through the rest of the list in case those items don't meet the if condition. In this case, an item meeting that if statement condition tells the for loop to keep searching through the other items to see if they meet the criteria to run \"rest of the code\". Once it's finished going through all items, it will carry on to \"other code that will be run.\"\n",
    "\n",
    "    for item in object:\n",
    "        if item meets condition:\n",
    "            continue\n",
    "        rest of the code\n",
    "        \n",
    "    other code that will be run\n",
    "\n",
    "Examples speak better than words, so let's try some."
   ]
  },
  {
   "cell_type": "code",
   "execution_count": 83,
   "metadata": {
    "collapsed": false
   },
   "outputs": [
    {
     "name": "stdout",
     "output_type": "stream",
     "text": [
      "Professor McGonagall is the best Head of House\n"
     ]
    }
   ],
   "source": [
    "for wizard in Hogwarts:\n",
    "    if wizard.startswith('H'): # try running wizard.startswith? to see how it works\n",
    "        break\n",
    "    print(wizard)\n",
    "        \n",
    "print('Professor McGonagall is the best Head of House')"
   ]
  },
  {
   "cell_type": "code",
   "execution_count": 84,
   "metadata": {
    "collapsed": false
   },
   "outputs": [
    {
     "name": "stdout",
     "output_type": "stream",
     "text": [
      "Ron\n",
      "Peeves\n",
      "Professor McGonagall is the best Head of House\n"
     ]
    }
   ],
   "source": [
    "for wizard in Hogwarts:\n",
    "    if wizard.startswith('H'): \n",
    "        continue # all we've changed from the previous cell is the \"break\" to \"continue\"\n",
    "    print(wizard)\n",
    "        \n",
    "print('Professor McGonagall is the best Head of House')"
   ]
  },
  {
   "cell_type": "markdown",
   "metadata": {},
   "source": [
    "### Useful Functions<a class=\"anchor\" name=\"useful\"></a>\n",
    "\n",
    "<em>enumerate( )</em> returns two things: the item and the number/index; this is most helpful in for loops\n",
    "\n",
    "    for n, item in enumerate(listName):\n",
    "        print(n, item) # This will print n, which is the index of the item, and the item itself\n",
    "\n",
    "<em>sorted( )</em> sorts lists; does alphabetical order by default but can also do other sorting schemes\n",
    "\n",
    "    sorted(listName)\n",
    "\n",
    "<em>split( )</em> splits a string and outputs a list; by default, it will split by white space but can do other inputs\n",
    "   \n",
    "    'string'.split()             # results in ['string']\n",
    "    'string1 string2'.split()    # results in ['string1', 'string2']\n",
    "    'string.split('i')           # results in ['str', 'ng']\n",
    "    '/some/path'.split('/')      # results in ['', 'some', 'path']\n",
    "\n",
    "<em>join( )</em> joins items of a list with the specified character(s)\n",
    "    \n",
    "    ', '.join([\"Gummy Bears\", \"Gummy Worms\", \"Peach Rings\"])    # returns \"Gummy Bears, Gummy Worms, Peach Rings\"\n",
    "    ' '.join([\"Apply\", \"Ball\", \"Cat\"])                          # returns \"Apply Ball Cat\"\n",
    "\n",
    "<em>endswith( )</em> is the counterpart to startswith( )\n",
    "\n",
    "    'string'.endswith('g')       # returns TRUE\n",
    "    'string'.endswith('x')       # returns FALSE\n",
    "\n",
    "<em>upper( )</em> and <em>lower( )</em> will convert letters in strings into fully upper/lower case respectively; it's fine if you have numbers or punctuation in there\n",
    "\n",
    "    'string'.upper()             # returns 'STRING'\n",
    "    'STRING'.lower()             # returns 'string'\n",
    "    \n",
    "<em>replace( )</em> will search a string for matches of the first argument replace them with the second argument\n",
    "\n",
    "    'string'.replace('i', 'o')   # returns 'strong'\n",
    "    \n",
    "    \n",
    "    \n",
    "### Reading/Writing Text Files<a class=\"anchor\" name=\"textfiles\"></a>\n",
    "\n",
    "We can also read and write text files using python using the <a href=\"https://docs.python.org/2/library/functions.html#open\"><em>open( )</em> function</a>.\n",
    "\n",
    "    reader = open(fileName, 'r') # opens a file for reading\n",
    "    writer = open(fileName, 'w') # opens a file for writing\n",
    "    writer = open(fileName, 'a') # if fileName exists, then append to it; otherwise, write a new fileName\n",
    "    \n",
    "These readers and writers are instances of the \"file\" type. In this case, files aren't anything that are easy for us to go through, so we can use some of their built in methods to help us.\n",
    "\n",
    "    all_text_as_one_string = reader.read()\n",
    "    lines_in_a_list = reader.readlines()\n",
    "    writer.write(your_string_of_text)\n",
    "\n",
    "You should close these file objects after you're done working on them.\n",
    "\n",
    "    reader.close()\n",
    "    writer.close()\n",
    "\n",
    "Now it's actually preferred to use a <em>with</em> statement to open files for either reading or writing because it handles errors better.\n",
    "\n",
    "    with open(fileName, 'r') as reader:\n",
    "        reader.readlines()\n",
    "        do all your operations here\n",
    "        \n",
    "    # and no need for a closing statement\n",
    "    \n",
    "Once you've read in a file, all you're dealing with now are strings or maybe a list of strings. "
   ]
  },
  {
   "cell_type": "code",
   "execution_count": 85,
   "metadata": {
    "collapsed": false,
    "scrolled": true
   },
   "outputs": [
    {
     "name": "stdout",
     "output_type": "stream",
     "text": [
      "['WELCOME TO IGC BASICS\\n', '\\n', 'A lot of information about accessing the servers, VPN, etc is available at https://confluence.ini.usc.edu\\n', '\\n', '####################################\\n', '###        SHELL COMMANDS        ###\\n', '####################################\\n', '\\n', 'TBA \\n', '\\n', '####################################\\n', '###           #PYTHON            ###\\n', '####################################\\n', '\\n', 'A series of Python tutorials are available in the folder titled \"python\". These are organized by topic. python_basics.html is the place to start if you are completely new to Python, but after that the tutorials on how to interact with other tools and files/folders (os), play with dataframes/spreadsheets (spreadsheets), read/process neuroimaging data (neuroimg), and run stats (stats) can be gone through in any order.\\n', '\\n', 'If you would like to use Jupyter Notebook, there is also a tutorial on how to access it (accessing_jupyter.html). \\n', '\\n', '####################################\\n', '###          MRI BASICS          ###\\n', '####################################\\n', '\\n', 'TBA\\n', '\\n', '####################################\\n', '###         REGISTRATION         ###\\n', '####################################\\n', '\\n', 'The materials for the registration tutorial can be found in the folder titled \"registration\". Please copy the entire folder to your own four_d or home folder. (Don\\'t forget to use the -r or -R flag!!!)\\n', ' \\n', 'The registration tutorial is run through a jupyter notebook. To get started with accessing the jupyter notebook, please go through the accessing_jupyter.html tutorial in the \"python\" folder, particularly the steps from the section \"From the Grid\".\\n', '\\n', 'When it says \"Once you\\'re on the grid, cd into the directory that has the jupyter notebook(s) that you want.\", the directory in this case is the registration folder that you just copied over.\\n']\n"
     ]
    }
   ],
   "source": [
    "with open(\"/ifs/loni/faculty/thompson/four_d/igc_basics/README.txt\", 'r') as f:\n",
    "    lines = f.readlines()\n",
    "    \n",
    "print(lines)"
   ]
  },
  {
   "cell_type": "markdown",
   "metadata": {},
   "source": [
    "Remember that \"\\n\" is a text file's way of knowning that it should display what follows in a new line. If we're going to be doing something with this text, we probably don't need it right now. We can get rid of it using the string method <em>strip( )</em>"
   ]
  },
  {
   "cell_type": "code",
   "execution_count": 86,
   "metadata": {
    "collapsed": false
   },
   "outputs": [
    {
     "name": "stdout",
     "output_type": "stream",
     "text": [
      "['WELCOME TO IGC BASICS', '', 'A lot of information about accessing the servers, VPN, etc is available at https://confluence.ini.usc.edu', '', '####################################', '###        SHELL COMMANDS        ###', '####################################', '', 'TBA', '', '####################################', '###           #PYTHON            ###', '####################################', '', 'A series of Python tutorials are available in the folder titled \"python\". These are organized by topic. python_basics.html is the place to start if you are completely new to Python, but after that the tutorials on how to interact with other tools and files/folders (os), play with dataframes/spreadsheets (spreadsheets), read/process neuroimaging data (neuroimg), and run stats (stats) can be gone through in any order.', '', 'If you would like to use Jupyter Notebook, there is also a tutorial on how to access it (accessing_jupyter.html).', '', '####################################', '###          MRI BASICS          ###', '####################################', '', 'TBA', '', '####################################', '###         REGISTRATION         ###', '####################################', '', 'The materials for the registration tutorial can be found in the folder titled \"registration\". Please copy the entire folder to your own four_d or home folder. (Don\\'t forget to use the -r or -R flag!!!)', '', 'The registration tutorial is run through a jupyter notebook. To get started with accessing the jupyter notebook, please go through the accessing_jupyter.html tutorial in the \"python\" folder, particularly the steps from the section \"From the Grid\".', '', 'When it says \"Once you\\'re on the grid, cd into the directory that has the jupyter notebook(s) that you want.\", the directory in this case is the registration folder that you just copied over.']\n"
     ]
    }
   ],
   "source": [
    "lines = [l.strip() for l in lines]\n",
    "\n",
    "print(lines)"
   ]
  },
  {
   "cell_type": "code",
   "execution_count": 87,
   "metadata": {
    "collapsed": false
   },
   "outputs": [
    {
     "name": "stdout",
     "output_type": "stream",
     "text": [
      "WELCOME TO IGC BASICS\n",
      "\n",
      "A lot of information about accessing the servers, VPN, etc is available at https://confluence.ini.usc.edu\n",
      "\n",
      "####################################\n",
      "###        SHELL COMMANDS        ###\n",
      "####################################\n",
      "\n",
      "TBA \n",
      "\n",
      "####################################\n",
      "###           #PYTHON            ###\n",
      "####################################\n",
      "\n",
      "A series of Python tutorials are available in the folder titled \"python\". These are organized by topic. python_basics.html is the place to start if you are completely new to Python, but after that the tutorials on how to interact with other tools and files/folders (os), play with dataframes/spreadsheets (spreadsheets), read/process neuroimaging data (neuroimg), and run stats (stats) can be gone through in any order.\n",
      "\n",
      "If you would like to use Jupyter Notebook, there is also a tutorial on how to access it (accessing_jupyter.html). \n",
      "\n",
      "####################################\n",
      "###          MRI BASICS          ###\n",
      "####################################\n",
      "\n",
      "TBA\n",
      "\n",
      "####################################\n",
      "###         REGISTRATION         ###\n",
      "####################################\n",
      "\n",
      "The materials for the registration tutorial can be found in the folder titled \"registration\". Please copy the entire folder to your own four_d or home folder. (Don't forget to use the -r or -R flag!!!)\n",
      " \n",
      "The registration tutorial is run through a jupyter notebook. To get started with accessing the jupyter notebook, please go through the accessing_jupyter.html tutorial in the \"python\" folder, particularly the steps from the section \"From the Grid\".\n",
      "\n",
      "When it says \"Once you're on the grid, cd into the directory that has the jupyter notebook(s) that you want.\", the directory in this case is the registration folder that you just copied over.\n",
      "\n"
     ]
    }
   ],
   "source": [
    "with open(\"/ifs/loni/faculty/thompson/four_d/igc_basics/README.txt\", 'r') as f:\n",
    "    allContent = f.read()\n",
    "    \n",
    "print(allContent)"
   ]
  },
  {
   "cell_type": "markdown",
   "metadata": {},
   "source": [
    "When we load the file using <em>read( )</em> instead of <em>readlines( )</em>, we get a single string as our output. Because it's a single string, when we print it, the \"\\n\" are interpreted as intended.\n",
    "\n",
    "If we now want to split our single string into a list of lines, we can do that using our <em>split( )</em> function. This will not only split our string into lines, it will also get rid of the \"\\n\" characters."
   ]
  },
  {
   "cell_type": "code",
   "execution_count": 88,
   "metadata": {
    "collapsed": false
   },
   "outputs": [
    {
     "name": "stdout",
     "output_type": "stream",
     "text": [
      "['WELCOME TO IGC BASICS', '', 'A lot of information about accessing the servers, VPN, etc is available at https://confluence.ini.usc.edu', '', '####################################', '###        SHELL COMMANDS        ###', '####################################', '', 'TBA ', '', '####################################', '###           #PYTHON            ###', '####################################', '', 'A series of Python tutorials are available in the folder titled \"python\". These are organized by topic. python_basics.html is the place to start if you are completely new to Python, but after that the tutorials on how to interact with other tools and files/folders (os), play with dataframes/spreadsheets (spreadsheets), read/process neuroimaging data (neuroimg), and run stats (stats) can be gone through in any order.', '', 'If you would like to use Jupyter Notebook, there is also a tutorial on how to access it (accessing_jupyter.html). ', '', '####################################', '###          MRI BASICS          ###', '####################################', '', 'TBA', '', '####################################', '###         REGISTRATION         ###', '####################################', '', 'The materials for the registration tutorial can be found in the folder titled \"registration\". Please copy the entire folder to your own four_d or home folder. (Don\\'t forget to use the -r or -R flag!!!)', ' ', 'The registration tutorial is run through a jupyter notebook. To get started with accessing the jupyter notebook, please go through the accessing_jupyter.html tutorial in the \"python\" folder, particularly the steps from the section \"From the Grid\".', '', 'When it says \"Once you\\'re on the grid, cd into the directory that has the jupyter notebook(s) that you want.\", the directory in this case is the registration folder that you just copied over.', '']\n"
     ]
    }
   ],
   "source": [
    "str2lines = allContent.split(\"\\n\")\n",
    "\n",
    "print(str2lines)"
   ]
  },
  {
   "cell_type": "markdown",
   "metadata": {},
   "source": [
    "Writing text files is pretty much the same but in reverse (write/writelines). Just remember to add in those \"\\n\" (or \"\\r\") characters in if you want text to be displayed on a different line.\n",
    "\n",
    "### LIBRARIES/MODULES<a class=\"anchor\" name=\"libraries\"></a>\n",
    "\n",
    "There are a lot of useful functions out there that are written in python, but a lot of them aren't accessible to you unless you specifically ask for them. This makes sense because if we had to load all of them in all the time, that would take unnecessary time and memory given that we'd only use a small number of them at any given time.\n",
    "\n",
    "These functions are typically grouped by application (e.g., math, stats, graphs) and imported as libraries/modules. A lot of the standard libraries come with a typical python installation. Some of the smaller scope ones (like the neuroimaging-specific ones), you'll have to download yourself.\n",
    "\n",
    "You only have to import a library once per session. You can import a library or a subset of its functions in various  ways:\n",
    "\n",
    "    import libraryName                                   # import the whole library                  \n",
    "    from libraryName import functionName                 # import just this one function \n",
    "    from libraryName import functionName1, functionName2 # you can import any number this way\n",
    "    from libraryName import *                            # import all functions in the library\n",
    "    \n",
    "These different imports determine how the functions are called. If you use \"import libraryName\", then any function that you call from that library is called as <em>\"libraryName.functionName( )\"</em>. If you use any of the other three imports, then just <em>\"functionName( )\"</em> is sufficient.\n",
    "\n",
    "<p><font color=\"blue\">NB: It's probably NOT a good idea to use the import * method. It can get confusing if multiple packages have function names that are the same.</font></p>\n",
    "    \n",
    "You can also give libraries or functions nicknames that are shorter and/or easier to type.\n",
    "\n",
    "    import libraryName as nickname                       # nickname can be anything: nn, ln\n",
    "    \n",
    "#### NumPy<a class=\"anchor\" id=\"numpy\"></a> \n",
    "\n",
    "We're going to start by playing with <a href=\"https://docs.scipy.org/doc/numpy-dev/user/index.html\">NumPy</a>.\n",
    "\n",
    "    import numpy as np                                   # np is the common nickname for numpy\n",
    "                                                         # you'll see it in pretty much all usage pages/examples\n",
    "                                                         \n",
    "If you use MATLAB, <a href=\"https://docs.scipy.org/doc/numpy-dev/user/numpy-for-matlab-users.html\">this is a helpful webpage</a> that charts what the NumPy equivalents are. If you don't know MATLAB, then it's still helpful in summarizing what NumPy can do and how to do it.\n",
    "\n",
    "We haven't talked about numerical arrays and how to do maths with them yet. That's where NumPy comes in. \n",
    "\n",
    "Remember that lists have their own set of operations. For example, if we have a list of integers or floats and try to add them together, we'll get a concatenated list instead of a list that has the summed values of the inputs lists. What we'll need to do is explicitly declare them as NumPy arrays (<em>np.array( )</em>).\n",
    "\n",
    "Let's demonstrate that with a more concrete example."
   ]
  },
  {
   "cell_type": "code",
   "execution_count": 89,
   "metadata": {
    "collapsed": true
   },
   "outputs": [],
   "source": [
    "import numpy as np"
   ]
  },
  {
   "cell_type": "code",
   "execution_count": 90,
   "metadata": {
    "collapsed": false
   },
   "outputs": [
    {
     "data": {
      "text/plain": [
       "[1, 2, 3, 3, 2, 1]"
      ]
     },
     "execution_count": 90,
     "metadata": {},
     "output_type": "execute_result"
    }
   ],
   "source": [
    "[1, 2, 3] + [3, 2, 1]"
   ]
  },
  {
   "cell_type": "code",
   "execution_count": 91,
   "metadata": {
    "collapsed": false
   },
   "outputs": [
    {
     "data": {
      "text/plain": [
       "array([4, 4, 4])"
      ]
     },
     "execution_count": 91,
     "metadata": {},
     "output_type": "execute_result"
    }
   ],
   "source": [
    "np.array([1,2,3]) + np.array([3,2,1])"
   ]
  },
  {
   "cell_type": "code",
   "execution_count": 92,
   "metadata": {
    "collapsed": false
   },
   "outputs": [
    {
     "data": {
      "text/plain": [
       "array([0, 1, 2])"
      ]
     },
     "execution_count": 92,
     "metadata": {},
     "output_type": "execute_result"
    }
   ],
   "source": [
    "np.arange(3)   \n",
    "\n",
    "# The np.arange() function creates an array that has integers up to the specified number. \n",
    "# In keeping with Python ways, that number itself is NOT included"
   ]
  },
  {
   "cell_type": "markdown",
   "metadata": {},
   "source": [
    "We'll go through more NumPy functions when we go through relevant applications in the spreadsheet, neuroimaging, and stats tutorials.\n",
    "\n",
    "### Handling Errors<a class=\"anchor\" id=\"errors\"></a>\n",
    "\n",
    "Python is very nice to us when it comes to dealing with errors. \n",
    "\n",
    "    try:\n",
    "        this bit of code\n",
    "    except:\n",
    "        this is what's run instead if an error is encountered\n",
    "    \n",
    "All errors are very specifically typed, which means we can also account for specific errors.\n",
    "\n",
    "    try:\n",
    "        this bit of code\n",
    "    except <specific type of error>:\n",
    "        we're only doing this if that specific error is encountered\n",
    "    except:\n",
    "        this is what's run if any other error is encountered\n",
    "        \n",
    "For example, we can account for the <font color=\"red\">TypeError</font> we encountered before."
   ]
  },
  {
   "cell_type": "code",
   "execution_count": 93,
   "metadata": {
    "collapsed": false
   },
   "outputs": [
    {
     "ename": "TypeError",
     "evalue": "unsupported operand type(s) for +: 'int' and 'str'",
     "output_type": "error",
     "traceback": [
      "\u001b[0;31m---------------------------------------------------------------------------\u001b[0m",
      "\u001b[0;31mTypeError\u001b[0m                                 Traceback (most recent call last)",
      "\u001b[0;32m<ipython-input-93-521132726174>\u001b[0m in \u001b[0;36m<module>\u001b[0;34m()\u001b[0m\n\u001b[1;32m      2\u001b[0m \u001b[0mb\u001b[0m \u001b[0;34m=\u001b[0m \u001b[0;34m'2'\u001b[0m\u001b[0;34m\u001b[0m\u001b[0m\n\u001b[1;32m      3\u001b[0m \u001b[0;34m\u001b[0m\u001b[0m\n\u001b[0;32m----> 4\u001b[0;31m \u001b[0ma\u001b[0m \u001b[0;34m+\u001b[0m \u001b[0mb\u001b[0m\u001b[0;34m\u001b[0m\u001b[0m\n\u001b[0m",
      "\u001b[0;31mTypeError\u001b[0m: unsupported operand type(s) for +: 'int' and 'str'"
     ]
    }
   ],
   "source": [
    "a = 1\n",
    "b = '2'\n",
    "\n",
    "a + b"
   ]
  },
  {
   "cell_type": "code",
   "execution_count": 94,
   "metadata": {
    "collapsed": false
   },
   "outputs": [
    {
     "name": "stdout",
     "output_type": "stream",
     "text": [
      "Had to change input type\n",
      "3.0\n"
     ]
    }
   ],
   "source": [
    "a = 1\n",
    "b = '2'\n",
    "\n",
    "try:\n",
    "    print(a + b)\n",
    "except TypeError:\n",
    "    print(\"Had to change input type\")\n",
    "    print(float(a) + float(b))"
   ]
  },
  {
   "cell_type": "markdown",
   "metadata": {},
   "source": [
    "We can also account for multiple error types by using the syntax\n",
    "\n",
    "    try:\n",
    "        this bit of code\n",
    "    except (ErrorType1, ErrorType2) as e:\n",
    "        we're only doing this if that specific error is encountered\n",
    "    except:\n",
    "        this is what's run if any other error is encountered\n",
    "\n",
    "### Making Sense of Things<a class=\"anchor\" id=\"examples\"></a>\n",
    "\n",
    "For now, let's do some examples to demonstrate the practical applications of what we've learned so far."
   ]
  },
  {
   "cell_type": "code",
   "execution_count": 95,
   "metadata": {
    "collapsed": false
   },
   "outputs": [],
   "source": [
    "IGC = {\"Professors\": [\"Paul Thompson\", \"Neda Jahanshad\", \"Meredith Braskie\"], \n",
    "       \"Post_Docs\": [\"Fabian Corlier\", \"Fabrizio Pizzagalli\", \"Lauren Salminen\"],\n",
    "       \"Grad_Students\": [\"Dan Moyer\", \"Artemis Zavaliangos-Petropulu\", \"Meral Tubi\", \"Chris Ching\", \"Talia Nir\", \"Brandy Riedel\", \"Linda Ding\",\n",
    "                         \"Alice Yang\", \"Julio Villalon\"],\n",
    "       \"RAs\": [\"Sophia Thomopoulos\", \"Faisal Rashid\", \"Deydeep Kothapalli\", \"Ken Lam\", \"Conor Corbin\", \"Dmitry Petrov\"],\n",
    "       \"Undergrads\": [\"Jackson Barrett\", \"Armand Amini\"]}"
   ]
  },
  {
   "cell_type": "markdown",
   "metadata": {},
   "source": [
    "Now we have a dictionary that has some positions within the IGC and the people that fill them. (I know this isn't a complete list. Please don't yell at me.) \n",
    "\n",
    "Let's say we want to write a paper and include all these people as authors. I know it's unrealistic, but let's just sort all the names alphabetically for fun."
   ]
  },
  {
   "cell_type": "code",
   "execution_count": 96,
   "metadata": {
    "collapsed": true
   },
   "outputs": [],
   "source": [
    "# We'll start by combining all the names into one list\n",
    "\n",
    "allNames = []\n",
    "\n",
    "for nameList in IGC.values():\n",
    "    allNames += nameList"
   ]
  },
  {
   "cell_type": "code",
   "execution_count": 97,
   "metadata": {
    "collapsed": false
   },
   "outputs": [
    {
     "data": {
      "text/plain": [
       "['Alice Yang',\n",
       " 'Armand Amini',\n",
       " 'Artemis Zavaliangos-Petropulu',\n",
       " 'Brandy Riedel',\n",
       " 'Chris Ching',\n",
       " 'Conor Corbin',\n",
       " 'Dan Moyer',\n",
       " 'Deydeep Kothapalli',\n",
       " 'Dmitry Petrov',\n",
       " 'Fabian Corlier',\n",
       " 'Fabrizio Pizzagalli',\n",
       " 'Faisal Rashid',\n",
       " 'Jackson Barrett',\n",
       " 'Julio Villalon',\n",
       " 'Ken Lam',\n",
       " 'Lauren Salminen',\n",
       " 'Linda Ding',\n",
       " 'Meral Tubi',\n",
       " 'Meredith Braskie',\n",
       " 'Neda Jahanshad',\n",
       " 'Paul Thompson',\n",
       " 'Sophia Thomopoulos',\n",
       " 'Talia Nir']"
      ]
     },
     "execution_count": 97,
     "metadata": {},
     "output_type": "execute_result"
    }
   ],
   "source": [
    "# Now that we have this list, we can alphabetize them by first name easily using the sorted() function\n",
    "\n",
    "sorted(allNames)"
   ]
  },
  {
   "cell_type": "code",
   "execution_count": 98,
   "metadata": {
    "collapsed": false
   },
   "outputs": [
    {
     "data": {
      "text/plain": [
       "['Armand Amini',\n",
       " 'Jackson Barrett',\n",
       " 'Meredith Braskie',\n",
       " 'Chris Ching',\n",
       " 'Conor Corbin',\n",
       " 'Fabian Corlier',\n",
       " 'Linda Ding',\n",
       " 'Neda Jahanshad',\n",
       " 'Deydeep Kothapalli',\n",
       " 'Ken Lam',\n",
       " 'Dan Moyer',\n",
       " 'Talia Nir',\n",
       " 'Dmitry Petrov',\n",
       " 'Fabrizio Pizzagalli',\n",
       " 'Faisal Rashid',\n",
       " 'Brandy Riedel',\n",
       " 'Lauren Salminen',\n",
       " 'Sophia Thomopoulos',\n",
       " 'Paul Thompson',\n",
       " 'Meral Tubi',\n",
       " 'Julio Villalon',\n",
       " 'Alice Yang',\n",
       " 'Artemis Zavaliangos-Petropulu']"
      ]
     },
     "execution_count": 98,
     "metadata": {},
     "output_type": "execute_result"
    }
   ],
   "source": [
    "# But what if we want to sort them by last name?\n",
    "\n",
    "lastNameSort = lambda x: x.split()[-1] \n",
    "\n",
    "# Remember those lambda functions I talked about before? \n",
    "# Here's an example of how to write/use one\n",
    "\n",
    "sorted(allNames, key=lastNameSort)"
   ]
  },
  {
   "cell_type": "code",
   "execution_count": 99,
   "metadata": {
    "collapsed": false
   },
   "outputs": [
    {
     "data": {
      "text/plain": [
       "['Artemis Zavaliangos-Petropulu',\n",
       " 'Alice Yang',\n",
       " 'Julio Villalon',\n",
       " 'Meral Tubi',\n",
       " 'Paul Thompson',\n",
       " 'Sophia Thomopoulos',\n",
       " 'Lauren Salminen',\n",
       " 'Brandy Riedel',\n",
       " 'Faisal Rashid',\n",
       " 'Fabrizio Pizzagalli',\n",
       " 'Dmitry Petrov',\n",
       " 'Talia Nir',\n",
       " 'Dan Moyer',\n",
       " 'Ken Lam',\n",
       " 'Deydeep Kothapalli',\n",
       " 'Neda Jahanshad',\n",
       " 'Linda Ding',\n",
       " 'Fabian Corlier',\n",
       " 'Conor Corbin',\n",
       " 'Chris Ching',\n",
       " 'Meredith Braskie',\n",
       " 'Jackson Barrett',\n",
       " 'Armand Amini']"
      ]
     },
     "execution_count": 99,
     "metadata": {},
     "output_type": "execute_result"
    }
   ],
   "source": [
    "# Okay now how about in REVERSE alphabetical order by last name\n",
    "\n",
    "sorted(allNames, key=lastNameSort, reverse=True)"
   ]
  },
  {
   "cell_type": "markdown",
   "metadata": {},
   "source": [
    "Let's actually put the categories into play. Let's say that we want postdocs listed first, then grad students, RAs, undergrads, and finally PIs. Even though it's unrealistic, let's also have them ordered by reverse alphabetical order by last name."
   ]
  },
  {
   "cell_type": "code",
   "execution_count": 100,
   "metadata": {
    "collapsed": false
   },
   "outputs": [
    {
     "name": "stdout",
     "output_type": "stream",
     "text": [
      "['Lauren Salminen', 'Fabrizio Pizzagalli', 'Fabian Corlier', 'Artemis Zavaliangos-Petropulu', 'Alice Yang', 'Julio Villalon', 'Meral Tubi', 'Brandy Riedel', 'Talia Nir', 'Dan Moyer', 'Linda Ding', 'Chris Ching', 'Sophia Thomopoulos', 'Faisal Rashid', 'Dmitry Petrov', 'Ken Lam', 'Deydeep Kothapalli', 'Conor Corbin', 'Jackson Barrett', 'Armand Amini', 'Paul Thompson', 'Neda Jahanshad', 'Meredith Braskie']\n"
     ]
    }
   ],
   "source": [
    "sortedNames = []\n",
    "\n",
    "sortedNames += sorted(IGC[\"Post_Docs\"], key=lastNameSort, reverse=True)\n",
    "sortedNames += sorted(IGC[\"Grad_Students\"], key=lastNameSort, reverse=True)\n",
    "sortedNames += sorted(IGC[\"RAs\"], key=lastNameSort, reverse=True)\n",
    "sortedNames += sorted(IGC[\"Undergrads\"], key=lastNameSort, reverse=True)\n",
    "sortedNames += sorted(IGC[\"Professors\"], key=lastNameSort, reverse=True)\n",
    "\n",
    "print(sortedNames)"
   ]
  },
  {
   "cell_type": "code",
   "execution_count": 101,
   "metadata": {
    "collapsed": false
   },
   "outputs": [
    {
     "name": "stdout",
     "output_type": "stream",
     "text": [
      "['Lauren Salminen', 'Fabrizio Pizzagalli', 'Fabian Corlier', 'Artemis Zavaliangos-Petropulu', 'Alice Yang', 'Julio Villalon', 'Meral Tubi', 'Brandy Riedel', 'Talia Nir', 'Dan Moyer', 'Linda Ding', 'Chris Ching', 'Sophia Thomopoulos', 'Faisal Rashid', 'Dmitry Petrov', 'Ken Lam', 'Deydeep Kothapalli', 'Conor Corbin', 'Jackson Barrett', 'Armand Amini', 'Paul Thompson', 'Neda Jahanshad', 'Meredith Braskie']\n"
     ]
    }
   ],
   "source": [
    "# Just for fun, let's do the same thing again but in a different way\n",
    "\n",
    "sortedNames = []\n",
    "groupOrder = [\"Post_Docs\", \"Grad_Students\", \"RAs\", \"Undergrads\", \"Professors\"]\n",
    "\n",
    "for group in groupOrder:\n",
    "    sortedNames += sorted(IGC[group], key=lastNameSort, reverse=True)\n",
    "\n",
    "print(sortedNames)"
   ]
  },
  {
   "cell_type": "markdown",
   "metadata": {
    "collapsed": true
   },
   "source": [
    "All right. That's cool and all, but let's say once we've finished writing, editing, and publishing this paper, we now want to reference it. Referencing papers can be a pain in the behind, so  let's take a look at a couple formats."
   ]
  },
  {
   "cell_type": "code",
   "execution_count": 102,
   "metadata": {
    "collapsed": false
   },
   "outputs": [
    {
     "data": {
      "text/plain": [
       "'Salminen, L., Pizzagalli, F., Corlier, F., Zavaliangos-Petropulu, A., Yang, A., Villalon, J., Tubi, M., Riedel, B., Nir, T., Moyer, D., Ding, L., Ching, C., Thomopoulos, S., Rashid, F., Petrov, D., Lam, K., Kothapalli, D., Corbin, C., Barrett, J., Amini, A., Thompson, P., Jahanshad, N., Braskie, M.'"
      ]
     },
     "execution_count": 102,
     "metadata": {},
     "output_type": "execute_result"
    }
   ],
   "source": [
    "# APA\n",
    "\n",
    "APA_Names = []\n",
    "\n",
    "for n in sortedNames:\n",
    "    lastName = n.split()[1]\n",
    "    firstName = n.split()[0]\n",
    "    firstLetterInitial = firstName[0]\n",
    "    reformattedName = lastName + \", \" + firstLetterInitial + \".\"\n",
    "    APA_Names.append(reformattedName)\n",
    "    \n",
    "\", \".join(APA_Names)"
   ]
  },
  {
   "cell_type": "code",
   "execution_count": 103,
   "metadata": {
    "collapsed": false
   },
   "outputs": [
    {
     "name": "stdout",
     "output_type": "stream",
     "text": [
      "Salminen, L., Pizzagalli, F., Corlier, F., Zavaliangos-Petropulu, A., Yang, A., Villalon, J., Tubi, M., Riedel, B., Nir, T., Moyer, D., Ding, L., Ching, C., Thomopoulos, S., Rashid, F., Petrov, D., Lam, K., Kothapalli, D., Corbin, C., Barrett, J., Amini, A., Thompson, P., Jahanshad, N., Braskie, M.\n"
     ]
    }
   ],
   "source": [
    "# Let's try another way of doing the same thing\n",
    "# It's not better, but all our brains work differently, so we can all try different things to end up at the same\n",
    "# destination\n",
    "\n",
    "APA_Names = ''\n",
    "\n",
    "for i, n in enumerate(sortedNames):\n",
    "    lastName = n.split()[-1]\n",
    "    firstName = n.split()[0]\n",
    "    firstLetterInitial = firstName[0]\n",
    "    reformattedName = lastName + \", \" + firstLetterInitial + \".\"\n",
    "    if i == 0:            # The first element gets a special exception because it doesn't need a \", \" added in front\n",
    "        APA_Names += reformattedName        \n",
    "    else:\n",
    "        APA_Names += \", \"  \n",
    "        APA_Names += reformattedName\n",
    "        \n",
    "print(APA_Names)"
   ]
  },
  {
   "cell_type": "code",
   "execution_count": 104,
   "metadata": {
    "collapsed": false
   },
   "outputs": [
    {
     "name": "stdout",
     "output_type": "stream",
     "text": [
      "Salminen, L., Pizzagalli, F., Corlier, F., Zavaliangos-Petropulu, A., Yang, A., Villalon, J., Tubi, M., ... & Braskie, M.\n"
     ]
    }
   ],
   "source": [
    "# One benefit of the second method is that we can do a little more fine tuning\n",
    "\n",
    "APA_Names = ''\n",
    "\n",
    "for i, n in enumerate(sortedNames):\n",
    "    lastName = n.split()[-1]\n",
    "    firstName = n.split()[0]\n",
    "    firstLetterInitial = firstName[0]\n",
    "    reformattedName = lastName + \", \" + firstLetterInitial + \".\"\n",
    "    if i == 0:            # The first element gets a special exception because it doesn't need a \", \" added in front\n",
    "        APA_Names += reformattedName        \n",
    "    elif i < 7:           # This time we only want to list the first 6 authors\n",
    "        APA_Names += \", \"  \n",
    "        APA_Names += reformattedName\n",
    "    elif i == (len(sortedNames) - 1): # This is a convoluted way of saying, if this element is the last one, do this\n",
    "        APA_Names += \", ... & \"\n",
    "        APA_Names += reformattedName\n",
    "        \n",
    "print(APA_Names)"
   ]
  },
  {
   "cell_type": "code",
   "execution_count": 105,
   "metadata": {
    "collapsed": false
   },
   "outputs": [
    {
     "data": {
      "text/plain": [
       "'L. Salminen, F. Pizzagalli, F. Corlier, A. Zavaliangos-Petropulu, A. Yang, J. Villalon, M. Tubi, B. Riedel, T. Nir, D. Moyer, L. Ding, C. Ching, S. Thomopoulos, F. Rashid, D. Petrov, K. Lam, D. Kothapalli, C. Corbin, J. Barrett, A. Amini, P. Thompson, N. Jahanshad, M. Braskie'"
      ]
     },
     "execution_count": 105,
     "metadata": {},
     "output_type": "execute_result"
    }
   ],
   "source": [
    "# IEEE\n",
    "\n",
    "IEEE_Names = []\n",
    "\n",
    "for n in sortedNames:\n",
    "    lastName = n.split()[-1]            # this is equivalent to \"lastName = n.split()[1]\n",
    "    firstName = n.split()[0]\n",
    "    firstLetterInitial = firstName[0]\n",
    "    reformattedName = firstLetterInitial + \". \" + lastName\n",
    "    IEEE_Names.append(reformattedName)\n",
    "    \n",
    "\", \".join(IEEE_Names)"
   ]
  },
  {
   "cell_type": "markdown",
   "metadata": {},
   "source": [
    "All right, let's move away from people to MRI scans. \n",
    "\n",
    "Let's pretend that we're looking at a bunch of scans from various sites, but as tends to be the case, they have different sequences depending on vendor, and even within the same vendor, they're named slightly differently.\n",
    "\n",
    "What do we do? \n",
    "\n",
    "Besides cry, I mean.\n",
    "\n",
    "First, let's get down to the basics. Even if sites with the same vendor can name their scan different things, those differences are probably variations of the same thing.\n",
    "\n",
    "So let's say that Siemens scanners come with an MPRAGE and GE with an SPGR."
   ]
  },
  {
   "cell_type": "code",
   "execution_count": 106,
   "metadata": {
    "collapsed": true
   },
   "outputs": [],
   "source": [
    "T1s = ['MPRAGE', 'spgr']"
   ]
  },
  {
   "cell_type": "markdown",
   "metadata": {},
   "source": [
    "We can create a list of probable T1 scans and then run through our list of scans that maybe looks like this"
   ]
  },
  {
   "cell_type": "code",
   "execution_count": 107,
   "metadata": {
    "collapsed": true
   },
   "outputs": [],
   "source": [
    "allScans = ['ep2d_something', \"MPRAGE_iso_1\", \"MT_fl3d_sat\", \"MT_fl3d_no_pulse\", \"PA_thingymajig\",\n",
    "            \"MPRAGE\", \"MPRAGE_ND\", \"FSPGR\", \"T2-Flair\", \"FLAIR\", \"MT_fl3d_no_pulse_flip_angle\",\n",
    "            \"AP_thingymajig\", \"IRSPGR\", \"IR-SPGR\", \"fspgr\", \"SPGR\", \"prescan\"]"
   ]
  },
  {
   "cell_type": "markdown",
   "metadata": {},
   "source": [
    "All right, let's write some code to make Python go through that list for us."
   ]
  },
  {
   "cell_type": "code",
   "execution_count": 108,
   "metadata": {
    "collapsed": false
   },
   "outputs": [
    {
     "name": "stdout",
     "output_type": "stream",
     "text": [
      "T1 found: MPRAGE_iso_1\n",
      "T1 found: MPRAGE\n",
      "T1 found: MPRAGE_ND\n",
      "T1 found: FSPGR\n",
      "T1 found: IRSPGR\n",
      "T1 found: IR-SPGR\n",
      "T1 found: fspgr\n",
      "T1 found: SPGR\n"
     ]
    }
   ],
   "source": [
    "for s in allScans:\n",
    "    if T1s[0] in s.upper():\n",
    "        print(\"T1 found:\", s)\n",
    "    elif T1s[1] in s.lower(): \n",
    "        print(\"T1 found:\", s)"
   ]
  },
  {
   "cell_type": "markdown",
   "metadata": {},
   "source": [
    "The s.upper( ) and s.lower( ) methods/functions help us ensure that we grab everything regardless of whether or not capitalization matches exactly. If we didn't use them, we wouldn't find everything properly."
   ]
  },
  {
   "cell_type": "code",
   "execution_count": 109,
   "metadata": {
    "collapsed": false
   },
   "outputs": [
    {
     "name": "stdout",
     "output_type": "stream",
     "text": [
      "T1 found: MPRAGE_iso_1\n",
      "T1 found: MPRAGE\n",
      "T1 found: MPRAGE_ND\n",
      "T1 found: fspgr\n"
     ]
    }
   ],
   "source": [
    "for s in allScans:\n",
    "    if (T1s[0] in s) or (T1s[1] in s):\n",
    "        print(\"T1 found:\", s)"
   ]
  },
  {
   "cell_type": "markdown",
   "metadata": {},
   "source": [
    "If we have a lot of T1 types and don't want to have to write out a lot of if/elif statements, then we can also do a for loop within a for loop"
   ]
  },
  {
   "cell_type": "code",
   "execution_count": 110,
   "metadata": {
    "collapsed": false
   },
   "outputs": [
    {
     "name": "stdout",
     "output_type": "stream",
     "text": [
      "T1 found: MPRAGE_iso_1\n",
      "T1 found: MPRAGE\n",
      "T1 found: MPRAGE_ND\n",
      "T1 found: FSPGR\n",
      "T1 found: IRSPGR\n",
      "T1 found: IR-SPGR\n",
      "T1 found: fspgr\n",
      "T1 found: SPGR\n"
     ]
    }
   ],
   "source": [
    "T1s = [\"MPRAGE\", \"SPGR\"]\n",
    "\n",
    "for s in allScans:\n",
    "    for t in T1s:\n",
    "        if t in s.upper():\n",
    "            print(\"T1 found:\", s)"
   ]
  },
  {
   "cell_type": "markdown",
   "metadata": {},
   "source": [
    "If we want to expand this to include other scan types, then we can put T1s within a dictionary and pretty much do the same thing."
   ]
  },
  {
   "cell_type": "code",
   "execution_count": 111,
   "metadata": {
    "collapsed": false
   },
   "outputs": [
    {
     "name": "stdout",
     "output_type": "stream",
     "text": [
      "Found DWI: ep2d_something\n",
      "Found T1: MPRAGE_iso_1\n",
      "Found MT: MT_fl3d_sat\n",
      "Found MT: MT_fl3d_no_pulse\n",
      "Found DWI: PA_thingymajig\n",
      "Found T1: MPRAGE\n",
      "Found T1: MPRAGE_ND\n",
      "Found T1: FSPGR\n",
      "Found T2: T2-Flair\n",
      "Found MT: MT_fl3d_no_pulse_flip_angle\n",
      "Found DWI: AP_thingymajig\n",
      "Found T1: IRSPGR\n",
      "Found T1: IR-SPGR\n",
      "Found T1: fspgr\n",
      "Found T1: SPGR\n"
     ]
    }
   ],
   "source": [
    "scanKeywords = {\"T1\": [\"MPRAGE\", \"SPGR\"], \"T2\": [\"T2\"], \"DWI\": [\"EP2D\", \"THINGYMAJIG\"], \"MT\": [\"MT\"]}\n",
    "\n",
    "for s in allScans:\n",
    "    \n",
    "    # The syntax in the line below is like enumerate's since the .items() method returns index/key and value together\n",
    "    for k, values in scanKeywords.items(): \n",
    "        \n",
    "        for v in values:\n",
    "            if v in s.upper():\n",
    "                print(\"Found {scanType}: {scanName}\".format(scanType=k, scanName=s))"
   ]
  },
  {
   "cell_type": "markdown",
   "metadata": {},
   "source": [
    "So that's nice, but what if we want to save which scan falls under which scan type?"
   ]
  },
  {
   "cell_type": "code",
   "execution_count": 112,
   "metadata": {
    "collapsed": false
   },
   "outputs": [
    {
     "name": "stdout",
     "output_type": "stream",
     "text": [
      "{'T2': ['T2-Flair'], 'DWI': ['ep2d_something', 'PA_thingymajig', 'AP_thingymajig'], 'T1': ['MPRAGE_iso_1', 'MPRAGE', 'MPRAGE_ND', 'FSPGR', 'IRSPGR', 'IR-SPGR', 'fspgr', 'SPGR'], 'MT': ['MT_fl3d_sat', 'MT_fl3d_no_pulse', 'MT_fl3d_no_pulse_flip_angle']}\n"
     ]
    }
   ],
   "source": [
    "sortedScans = {}\n",
    "\n",
    "for s in allScans:\n",
    "    for k, values in scanKeywords.items(): \n",
    "        \n",
    "        for v in values:\n",
    "            if v in s.upper():\n",
    "                if k in sortedScans.keys():\n",
    "                    sortedScans[k].append(s)\n",
    "                else:\n",
    "                    sortedScans[k] = [s]\n",
    "                    \n",
    "print(sortedScans)"
   ]
  },
  {
   "cell_type": "markdown",
   "metadata": {},
   "source": [
    "### Closing Remarks\n",
    "\n",
    "Congrats on getting through the basics!\n",
    "\n",
    "Other tutorials will be made available in the coming weeks. See you then!"
   ]
  }
 ],
 "metadata": {
  "kernelspec": {
   "display_name": "Python [py35]",
   "language": "python",
   "name": "Python [py35]"
  },
  "language_info": {
   "codemirror_mode": {
    "name": "ipython",
    "version": 3
   },
   "file_extension": ".py",
   "mimetype": "text/x-python",
   "name": "python",
   "nbconvert_exporter": "python",
   "pygments_lexer": "ipython3",
   "version": "3.5.3"
  }
 },
 "nbformat": 4,
 "nbformat_minor": 0
}

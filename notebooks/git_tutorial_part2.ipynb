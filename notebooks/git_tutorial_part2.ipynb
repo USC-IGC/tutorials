{
 "cells": [
  {
   "cell_type": "markdown",
   "metadata": {
    "nbpresent": {
     "id": "2d0b9753-2194-4577-95a2-67dd01337a48"
    },
    "slideshow": {
     "slide_type": "slide"
    }
   },
   "source": [
    "# Git Tutorial, Part 2\n",
    "## Local git, INI Git (the git account you didn't know you have), and GitHub\n",
    "\n",
    "### Table of Contents\n",
    "\n",
    "* [Local Git Repositories](#local)\n",
    "    * [Branches](#branches)\n",
    "* [Communicating with the World Beyond](#communicating)\n",
    "    * [INI Git](#ini)\n",
    "    * [GitHub](#github)\n",
    "\n",
    "\n",
    "\n",
    "Welcome to part 2 of the IGC git tutorial. Git is a version control software, and as this is part 2, we'll assume that you've been through <a href=\"https://github.com/USC-IGC/tutorials/blob/master/presentations/git%20tutorial.pdf\">the part 1 powerpoint</a>, which discusses what git is and why people use it.\n",
    "\n",
    "We're going to be covering various git commands in some level of detail, but if you'd like a condensed cheat sheet, <a href=\"https://education.github.com/git-cheat-sheet-education.pdf\">there's a good one here</a>. It also has some commands that aren't often used, which is why they aren't included in this tutorial, but you can look into them if you feel they're relevant to you.\n",
    "\n",
    "\n",
    "# Local Git Repositories <a class=\"anchor\" name=\"local\"></a>\n",
    "\n",
    "Git is already installed on the grid, but if you'd like to install git on your own computer, <a href=\"https://git-scm.com/downloads\">click here</a>.\n",
    "\n",
    "It is important to note that git does not keep track of directories unless we tell it to.\n",
    "\n",
    "To initialize a git repository within the directory of interest type:\n",
    "\n",
    "    git init\n",
    "    \n",
    "To check whether or not a directory is a git repository, we can run the command below\n",
    "\n",
    "    ls -a <directory>\n",
    "\n",
    "If the directory is a git repository, there should be a folder named <font color=\"blue\">.git</font>\n",
    "    \n",
    "Even after initiating a git repository, we have to tell it which specific files to pay attention to\n",
    "\n",
    "    git add <files and/or folders>\n",
    "    \n",
    "We will only be able to create a save point if we've properly added or removed all tracked files. To check if this is the case, we can run\n",
    "\n",
    "    git status\n",
    "    \n",
    "This command will display all the files in a few categories: files that have been edited and added, files that have been edited but need to be added (or removed), unchanged tracked files, and untracked files.\n",
    "\n",
    "To actually create a bookmark/save point:\n",
    "    \n",
    "    git commit -m \"<some message>\"\n",
    "    \n",
    "The commit message should indicate what's been changed since the last save point. To see previous commits and their messages, use\n",
    "\n",
    "    git log\n",
    "\n",
    "If there are files that we don't want to track, we can ignore them in various ways that are discussed <a href=\"https://git-scm.com/docs/gitignore\">here</a>.\n",
    "\n",
    "### Branches <a class=\"anchor\" name=\"branches\"></a>\n",
    "\n",
    "By default, our repository will start off with a \"master\" branch. It can be beneficial to create other branches, e.g., if we'd like to develop a new feature without affecting the working copy.\n",
    "\n",
    "To see existant branches, the command is\n",
    "\n",
    "    git branch\n",
    "    \n",
    "There will be an asterisk (&ast;) by the current branch.\n",
    "\n",
    "To create a new branch, the command is\n",
    "    \n",
    "    git branch <new branch>\n",
    "    \n",
    "Creating a new branch does not automatically switch us over to it. To do that, we use the command\n",
    "    \n",
    "    git checkout <branch>\n",
    "    \n",
    "N.B. We can only checkout to another branch if the current branch has all changes properly commited. If this is not the case, a message will appear to tell us that.\n",
    "\n",
    "If we would like to merge branches together, e.g., if we're done developing a new feature and want people in the master branch to be able to use it, then we can do so with\n",
    "    \n",
    "    git merge <branch>\n",
    "    \n",
    "Please note that this will take the specified branch and merge it into the current branch.\n",
    "\n",
    "It is possible that merge conflicts can arise, e.g., if two people make different edits on the same section. If this happens, an error message will appear to let us know, and in the file(s) with conflicts, there will be a clearly denoted section where the conflict exists. Edit the file appropriately, i.e., choose which edit or combination of edits you'd like to keep, and then run the merge command again.\n",
    "\n",
    "# Communicating with the World Beyond<a class=\"anchor\" name=\"communicating\"></a>\n",
    "\n",
    "Sometimes we would like to share our projects with collaborators or anyone else in the world, or maybe we'd like to access someone else's project.\n",
    "\n",
    "To grab someone someone else's repository when starting from scratch, the command is\n",
    "\n",
    "    git clone <url>\n",
    "\n",
    "Rather than use the url of an online repository all the time, we can (and should) create remotes. To view existing remotes use either of the following commands\n",
    "\n",
    "    git remote\n",
    "    git remote -v \n",
    "    \n",
    "<font color=\"blue\">git remote</font> displays the aliases (i.e., names) of existing remotes, whereas <font color=\"blue\">git remote -v</font> will also display the associated urls. In this case, each remote is listed twice, once with a fetch url and once with a push url. These terms are explained below.\n",
    "\n",
    "While the default branch is called \"master\", the default remote is called \"origin\". Additional remotes can be added using the command\n",
    "\n",
    "    git remote add <alias> <url>\n",
    "\n",
    "To update a repository with online updates, we'll use\n",
    "\n",
    "    git pull <alias>\n",
    "\n",
    "N.B. This it the one-step equivalent of the two-step combination of <font color=\"blue\">git fetch</font> and <font color=\"blue\">git merge</font>, so if you see these terms, now you know what they mean.\n",
    "\n",
    "If we'd like to update an online repository, we can push our updates by using the command\n",
    "\n",
    "    git push <alias>\n",
    "    \n",
    "By default, that will push our local changes to a branch of the same name. If we'd like to push to a different branch name, then we'd use\n",
    "    \n",
    "    git push <alias> <branch>\n",
    "\n",
    "<p><font color=\"blue\">Please keep in mind that unless we have continuous integration (we typically do not), our local repositories are not synced with whatever updates are happening online. In other words, if someone adds a new feature to the online repository, that will not exist in our local copy unless we pull it down.</font></p>\n",
    "\n",
    "<img src=\"https://media.giphy.com/media/MBC7Nbqv8twQM/giphy.gif\" width=300 height=400>\n",
    "<center>(Pulling down updates is a less painful and destsprocess for us. Pinky promise.)</center>\n",
    "\n",
    "### RSA keys\n",
    "\n",
    "If we tried the commands above, and they didn't work it's probably because we don't have RSA keys set up. It is likely everyone already has one on the grid, but I'm not sure because\n",
    "\n",
    "<img src=\"http://www.reactiongifs.com/r/84.gif\">\n",
    "\n",
    "since I've set things up, and I don't remember. (Can someone who's never used INI Git/GitHub check and let me know?)\n",
    "\n",
    "If we already have one, we can apply that same one to INI Git and GitHub. If we'd like to use our personal computer though, we may have to create a new one. (Please note you'll need one per device.) There are handy webpages, which have step-by-step instructions on <a href=\"https://help.github.com/articles/checking-for-existing-ssh-keys/\">how to check if we have an RSA key</a> and <a href=\"https://help.github.com/articles/generating-a-new-ssh-key-and-adding-it-to-the-ssh-agent/\">how to create one if we don't</a>. (There's also an <a href=\"https://git.ini.usc.edu/help/ssh/README\">INI page on this</a>.) Once we have one, we need to add the new key to our online account (such as <a href=\"https://help.github.com/articles/adding-a-new-ssh-key-to-your-github-account/\">GitHub</a>), so it knows to trust this new device.\n",
    "\n",
    "N.B. If we're using the INI RSA key, the associated RSA key password does not change with our INI account password. \n",
    "\n",
    "### INI Git<a class=\"anchor\" name=\"ini\"></a>\n",
    "\n",
    "If you have an INI account, you have an <a href=\"https://git.ini.usc.edu/\">INI Gitlab account</a>. \n",
    "\n",
    "<img src=\"https://i.imgur.com/JNhU5Tt.gif\">\n",
    "<center>(You get an INI Git account! And you get an INI Git account! Everyone gets an INI Git account!)</center>\n",
    "\n",
    "Make sure to sign in with LDAP tab rather than the Standard one.\n",
    "\n",
    "INI git repositories are externally visible, but we can make them private, so that they're visible to a smaller group (<em>\"Internal\"</em> for within INI and <em>\"Private\"</em> for only invited individuals).\n",
    "\n",
    "<a href=\"https://confluence.ini.usc.edu/display/GIT\">The confluence page</a> has some information on how to get started there as well.\n",
    "\n",
    "### GitHub<a class=\"anchor\" name=\"github\"></a>\n",
    "\n",
    "Theoretically if we're putting IGC-related projects on the internet, we should use INI Git for intellectual property reasons, but if for some reason you don't plan on staying with the IGC/INI for the rest of your life, a more permanent option is <a href=\"https://github.com/\">GitHub</a>. The <a href=\"https://github.com/USC-IGC\">IGC does have a GitHub account</a>, which anyone can view, but only members can contribute to. If you'd like to be added, contact either Neda or Alyssa.\n",
    "\n",
    "<a href=\"https://help.github.com/articles/applying-for-a-student-developer-pack/\">Students get an unlimited number of private repositories.</a> If you're interested in private repositories but are not a student, <a href=\"https://github.com/pricing\">they're normally $7/month</a>.\n",
    "\n",
    "Once nice feature of GitHub is that jupyter notebooks are fully rendered for online viewing. Sadly this does not appear to be the case with INI Git.\n",
    "\n",
    "### Other Good Information to Know\n",
    "\n",
    "On websites like INI Git and GitHub, <font color=\"blue\"><em>branches</em></font> are <font color=\"blue\"><em>merged</em></font> via a <font color=\"blue\"><em>pull request</em></font>. Best practice dictates, that in a collaborative effort, the person who creates a pull request should not be the person who approves the merge. Someone else should look over the branch code to make sure it's sound before merging it in. This is to minimize the number of bugs leaking through (e.g., we don't want to break a working master branch with buggy new code). In actual practice, this doesn't always happen, but it's good to keep in mind.\n",
    "\n",
    "In addition to creating branches, we can also fork a repository. <font color=\"blue\"><em>Forks</em></font> are kind of like branches, but typically they're used when we don't intend to merge the fork into the original.\n",
    "\n",
    "If there are bugs in the code or maybe features that someone would like but does not exist yet, they can create an <font color=\"blue\"><em>issue</em></font>. Issues can also host discussion threads.\n",
    "\n",
    "Let's say we make a mistake somewhere along the way. <a href=\"https://blog.github.com/2015-06-08-how-to-undo-almost-anything-with-git/\">There are a lot of ways to undo our mistake depending on the nature of it.</a>\n",
    "\n",
    "# The End\n",
    "\n",
    "If you have time and are interested in getting to know git a little better, check out <a href=\"http://tom.preston-werner.com/2009/05/19/the-git-parable.html\">this parable</a>, but otherwise\n",
    "\n",
    "<img src=\"http://gifimage.net/wp-content/uploads/2018/04/porky-pig-thats-all-folks-gif-2.gif\">"
   ]
  }
 ],
 "metadata": {
  "kernelspec": {
   "display_name": "Python [py35]",
   "language": "python",
   "name": "Python [py35]"
  },
  "language_info": {
   "codemirror_mode": {
    "name": "ipython",
    "version": 3
   },
   "file_extension": ".py",
   "mimetype": "text/x-python",
   "name": "python",
   "nbconvert_exporter": "python",
   "pygments_lexer": "ipython3",
   "version": "3.5.3"
  },
  "nbpresent": {
   "slides": {
    "0dd761c2-f5f0-4b40-afae-06da8cd14e6f": {
     "id": "0dd761c2-f5f0-4b40-afae-06da8cd14e6f",
     "prev": "73d33361-6d88-4218-85f4-609ccf64c7a1",
     "regions": {
      "cd2d175b-de68-40ce-9b64-71c61b2d200d": {
       "attrs": {
        "height": 0.8,
        "width": 0.8,
        "x": 0.1,
        "y": 0.1
       },
       "content": {
        "cell": "aed8c456-2438-458e-9807-9aa11d2c6ae0",
        "part": "whole"
       },
       "id": "cd2d175b-de68-40ce-9b64-71c61b2d200d"
      }
     }
    },
    "1e72ef04-60b6-42e2-8d36-f67cc849054f": {
     "id": "1e72ef04-60b6-42e2-8d36-f67cc849054f",
     "prev": "bfcce0a1-6d54-4eec-afe4-e5dd03e3544f",
     "regions": {
      "1ff62f92-b8ad-4ac3-ab16-84b9f60a31f7": {
       "attrs": {
        "height": 0.8,
        "width": 0.8,
        "x": 0.1,
        "y": 0.1
       },
       "content": {
        "cell": "305188b2-8536-4300-950d-306a001042c5",
        "part": "whole"
       },
       "id": "1ff62f92-b8ad-4ac3-ab16-84b9f60a31f7"
      }
     }
    },
    "31bdca06-240c-4614-aefa-04d456b61216": {
     "id": "31bdca06-240c-4614-aefa-04d456b61216",
     "prev": "bf6994cf-1b9f-4db7-972f-27468a6396bb",
     "regions": {
      "7f24be07-4fd5-4c97-956b-f5fe72fee733": {
       "attrs": {
        "height": 0.8,
        "width": 0.8,
        "x": 0.1,
        "y": 0.1
       },
       "content": {
        "cell": "cc872217-e9b2-4183-a67b-4cb2fd56863d",
        "part": "whole"
       },
       "id": "7f24be07-4fd5-4c97-956b-f5fe72fee733"
      }
     }
    },
    "73d33361-6d88-4218-85f4-609ccf64c7a1": {
     "id": "73d33361-6d88-4218-85f4-609ccf64c7a1",
     "prev": "ca2d4648-abd7-4dfa-b193-4c054110170c",
     "regions": {
      "8cad95c5-4bf5-4bfe-b787-2ab3d142b6d2": {
       "attrs": {
        "height": 0.8,
        "width": 0.8,
        "x": 0.1,
        "y": 0.1
       },
       "content": {
        "cell": "7d32db2c-ca5d-4e35-9907-3d80ca526e38",
        "part": "whole"
       },
       "id": "8cad95c5-4bf5-4bfe-b787-2ab3d142b6d2"
      }
     }
    },
    "bf6994cf-1b9f-4db7-972f-27468a6396bb": {
     "id": "bf6994cf-1b9f-4db7-972f-27468a6396bb",
     "prev": "d96dee85-04b9-4120-9ffb-14a6e35f10aa",
     "regions": {
      "756c44ea-67c1-4434-892f-88560fea0624": {
       "attrs": {
        "height": 0.8,
        "width": 0.8,
        "x": 0.1,
        "y": 0.1
       },
       "content": {
        "cell": "a9873101-4bb4-49ef-bcb2-1979f5a2d716",
        "part": "whole"
       },
       "id": "756c44ea-67c1-4434-892f-88560fea0624"
      }
     }
    },
    "bfcce0a1-6d54-4eec-afe4-e5dd03e3544f": {
     "id": "bfcce0a1-6d54-4eec-afe4-e5dd03e3544f",
     "prev": "d61621f3-df30-43e2-a63e-23679bed72f5",
     "regions": {
      "220a5808-743e-49b3-8379-e899b0c5610b": {
       "attrs": {
        "height": 0.8,
        "width": 0.8,
        "x": 0.1,
        "y": 0.1
       },
       "content": {
        "cell": "56ac0a4e-4795-470f-97bd-2a583fa7d409",
        "part": "whole"
       },
       "id": "220a5808-743e-49b3-8379-e899b0c5610b"
      }
     }
    },
    "ca2d4648-abd7-4dfa-b193-4c054110170c": {
     "id": "ca2d4648-abd7-4dfa-b193-4c054110170c",
     "prev": "ea1c5f47-cee8-43ff-9e94-8771d54024c3",
     "regions": {
      "96bdaa22-531a-47bb-a150-04641c51dc35": {
       "attrs": {
        "height": 0.8,
        "width": 0.8,
        "x": 0.1,
        "y": 0.1
       },
       "content": {
        "cell": "405d2f1e-c84a-4462-9d41-3527726345e1",
        "part": "whole"
       },
       "id": "96bdaa22-531a-47bb-a150-04641c51dc35"
      }
     }
    },
    "d61621f3-df30-43e2-a63e-23679bed72f5": {
     "id": "d61621f3-df30-43e2-a63e-23679bed72f5",
     "prev": "f7f879ce-26d4-47ee-a31a-666088ef9dae",
     "regions": {
      "5e3facca-649f-4ec7-be56-cfe24c825fc6": {
       "attrs": {
        "height": 0.8,
        "width": 0.8,
        "x": 0.1,
        "y": 0.1
       },
       "content": null,
       "id": "5e3facca-649f-4ec7-be56-cfe24c825fc6"
      }
     }
    },
    "d96dee85-04b9-4120-9ffb-14a6e35f10aa": {
     "id": "d96dee85-04b9-4120-9ffb-14a6e35f10aa",
     "prev": "0dd761c2-f5f0-4b40-afae-06da8cd14e6f",
     "regions": {
      "865c83e3-28b7-40db-b298-60a55460c827": {
       "attrs": {
        "height": 0.8,
        "width": 0.8,
        "x": 0.1,
        "y": 0.1
       },
       "content": {
        "cell": "0469eda9-062e-4dc4-b64a-b8551e1edb52",
        "part": "whole"
       },
       "id": "865c83e3-28b7-40db-b298-60a55460c827"
      }
     }
    },
    "ea1c5f47-cee8-43ff-9e94-8771d54024c3": {
     "id": "ea1c5f47-cee8-43ff-9e94-8771d54024c3",
     "prev": "1e72ef04-60b6-42e2-8d36-f67cc849054f",
     "regions": {
      "c4fb6a1b-fa84-4cb5-87c2-08c451002abf": {
       "attrs": {
        "height": 0.8,
        "width": 0.8,
        "x": 0.1,
        "y": 0.1
       },
       "content": {
        "cell": "fc5b2036-5193-473e-95ee-62b3b0b8dd52",
        "part": "whole"
       },
       "id": "c4fb6a1b-fa84-4cb5-87c2-08c451002abf"
      }
     }
    },
    "f7f879ce-26d4-47ee-a31a-666088ef9dae": {
     "id": "f7f879ce-26d4-47ee-a31a-666088ef9dae",
     "prev": null,
     "regions": {
      "f36df232-5a9a-41a6-8d71-e65f43137d7a": {
       "attrs": {
        "height": 0.8,
        "width": 0.8,
        "x": 0.1,
        "y": 0.1
       },
       "content": {
        "cell": "2d0b9753-2194-4577-95a2-67dd01337a48",
        "part": "whole"
       },
       "id": "f36df232-5a9a-41a6-8d71-e65f43137d7a"
      }
     }
    }
   },
   "themes": {}
  }
 },
 "nbformat": 4,
 "nbformat_minor": 0
}
